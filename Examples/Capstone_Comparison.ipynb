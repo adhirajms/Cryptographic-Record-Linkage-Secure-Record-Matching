{
 "cells": [
  {
   "cell_type": "markdown",
   "metadata": {
    "id": "ORpqZvEucbqi"
   },
   "source": [
    "# Comparing Different Techniques"
   ]
  },
  {
   "cell_type": "markdown",
   "metadata": {},
   "source": [
    "## **Table of Contents:**\n",
    "* [Setting Up](#1)\n",
    "* [Fuzz Ratio](#2)\n",
    "* [Fuzz Partial Ratio](#3)\n",
    "* [Token Sort Ratio](#4)\n",
    "* [Token Set Ratio](#5)\n",
    "* [Comparison](#6)"
   ]
  },
  {
   "cell_type": "markdown",
   "metadata": {},
   "source": [
    "## Setting Up <a class=\"anchor\" id=\"1\"></a>\n"
   ]
  },
  {
   "cell_type": "code",
   "execution_count": 42,
   "metadata": {
    "colab": {
     "base_uri": "https://localhost:8080/"
    },
    "id": "FFyDvV0zcca9",
    "outputId": "9b90e510-2b82-4270-a59a-e69e3dace73c"
   },
   "outputs": [],
   "source": [
    "# pip install recordlinkage"
   ]
  },
  {
   "cell_type": "code",
   "execution_count": 43,
   "metadata": {
    "id": "jDOzNB6kXhl3"
   },
   "outputs": [],
   "source": [
    "import recordlinkage\n",
    "import pandas as pd\n",
    "import time"
   ]
  },
  {
   "cell_type": "markdown",
   "metadata": {
    "id": "e7ExXnjOcpc1"
   },
   "source": [
    "Taking a dataset that is already present in record linkage"
   ]
  },
  {
   "cell_type": "code",
   "execution_count": 44,
   "metadata": {
    "id": "t2DzHtTXXiK-"
   },
   "outputs": [],
   "source": [
    "from recordlinkage.datasets import load_febrl4"
   ]
  },
  {
   "cell_type": "code",
   "execution_count": 45,
   "metadata": {
    "colab": {
     "base_uri": "https://localhost:8080/",
     "height": 494
    },
    "id": "-vJGkgz_XiN7",
    "outputId": "a4c8a41f-cfaf-433a-904b-5c43129b93b9"
   },
   "outputs": [
    {
     "name": "stdout",
     "output_type": "stream",
     "text": [
      "Dataset A\n"
     ]
    },
    {
     "data": {
      "text/html": [
       "<div>\n",
       "<style scoped>\n",
       "    .dataframe tbody tr th:only-of-type {\n",
       "        vertical-align: middle;\n",
       "    }\n",
       "\n",
       "    .dataframe tbody tr th {\n",
       "        vertical-align: top;\n",
       "    }\n",
       "\n",
       "    .dataframe thead th {\n",
       "        text-align: right;\n",
       "    }\n",
       "</style>\n",
       "<table border=\"1\" class=\"dataframe\">\n",
       "  <thead>\n",
       "    <tr style=\"text-align: right;\">\n",
       "      <th></th>\n",
       "      <th>given_name</th>\n",
       "      <th>surname</th>\n",
       "      <th>street_number</th>\n",
       "      <th>address_1</th>\n",
       "      <th>address_2</th>\n",
       "      <th>suburb</th>\n",
       "      <th>postcode</th>\n",
       "      <th>state</th>\n",
       "      <th>date_of_birth</th>\n",
       "      <th>soc_sec_id</th>\n",
       "    </tr>\n",
       "    <tr>\n",
       "      <th>rec_id</th>\n",
       "      <th></th>\n",
       "      <th></th>\n",
       "      <th></th>\n",
       "      <th></th>\n",
       "      <th></th>\n",
       "      <th></th>\n",
       "      <th></th>\n",
       "      <th></th>\n",
       "      <th></th>\n",
       "      <th></th>\n",
       "    </tr>\n",
       "  </thead>\n",
       "  <tbody>\n",
       "    <tr>\n",
       "      <th>rec-0-org</th>\n",
       "      <td>rachael</td>\n",
       "      <td>dent</td>\n",
       "      <td>1</td>\n",
       "      <td>knox street</td>\n",
       "      <td>lakewood estate</td>\n",
       "      <td>byford</td>\n",
       "      <td>4129</td>\n",
       "      <td>vic</td>\n",
       "      <td>19280722</td>\n",
       "      <td>1683994</td>\n",
       "    </tr>\n",
       "    <tr>\n",
       "      <th>rec-1-org</th>\n",
       "      <td>isabella</td>\n",
       "      <td>everett</td>\n",
       "      <td>25</td>\n",
       "      <td>pike place</td>\n",
       "      <td>rowethorpe</td>\n",
       "      <td>marsden</td>\n",
       "      <td>2152</td>\n",
       "      <td>nsw</td>\n",
       "      <td>19110816</td>\n",
       "      <td>6653129</td>\n",
       "    </tr>\n",
       "    <tr>\n",
       "      <th>rec-10-org</th>\n",
       "      <td>lachlan</td>\n",
       "      <td>reid</td>\n",
       "      <td>5</td>\n",
       "      <td>carrington road</td>\n",
       "      <td>legacy vlge</td>\n",
       "      <td>yagoona</td>\n",
       "      <td>2464</td>\n",
       "      <td>nsw</td>\n",
       "      <td>19500531</td>\n",
       "      <td>3232033</td>\n",
       "    </tr>\n",
       "    <tr>\n",
       "      <th>rec-100-org</th>\n",
       "      <td>hayden</td>\n",
       "      <td>stapley</td>\n",
       "      <td>38</td>\n",
       "      <td>tindale street</td>\n",
       "      <td>villa 2</td>\n",
       "      <td>cromer heights</td>\n",
       "      <td>4125</td>\n",
       "      <td>vic</td>\n",
       "      <td>NaN</td>\n",
       "      <td>4620080</td>\n",
       "    </tr>\n",
       "    <tr>\n",
       "      <th>rec-1000-org</th>\n",
       "      <td>victoria</td>\n",
       "      <td>zbierski</td>\n",
       "      <td>70</td>\n",
       "      <td>wybalena grove</td>\n",
       "      <td>inverneath</td>\n",
       "      <td>paralowie</td>\n",
       "      <td>5065</td>\n",
       "      <td>nsw</td>\n",
       "      <td>19720503</td>\n",
       "      <td>1267612</td>\n",
       "    </tr>\n",
       "  </tbody>\n",
       "</table>\n",
       "</div>"
      ],
      "text/plain": [
       "             given_name   surname street_number        address_1  \\\n",
       "rec_id                                                             \n",
       "rec-0-org       rachael      dent             1      knox street   \n",
       "rec-1-org      isabella   everett            25       pike place   \n",
       "rec-10-org      lachlan      reid             5  carrington road   \n",
       "rec-100-org      hayden   stapley            38   tindale street   \n",
       "rec-1000-org   victoria  zbierski            70   wybalena grove   \n",
       "\n",
       "                    address_2          suburb postcode state date_of_birth  \\\n",
       "rec_id                                                                       \n",
       "rec-0-org     lakewood estate          byford     4129   vic      19280722   \n",
       "rec-1-org          rowethorpe         marsden     2152   nsw      19110816   \n",
       "rec-10-org        legacy vlge         yagoona     2464   nsw      19500531   \n",
       "rec-100-org           villa 2  cromer heights     4125   vic           NaN   \n",
       "rec-1000-org       inverneath       paralowie     5065   nsw      19720503   \n",
       "\n",
       "             soc_sec_id  \n",
       "rec_id                   \n",
       "rec-0-org       1683994  \n",
       "rec-1-org       6653129  \n",
       "rec-10-org      3232033  \n",
       "rec-100-org     4620080  \n",
       "rec-1000-org    1267612  "
      ]
     },
     "metadata": {},
     "output_type": "display_data"
    },
    {
     "name": "stdout",
     "output_type": "stream",
     "text": [
      "Dataset B\n"
     ]
    },
    {
     "data": {
      "text/html": [
       "<div>\n",
       "<style scoped>\n",
       "    .dataframe tbody tr th:only-of-type {\n",
       "        vertical-align: middle;\n",
       "    }\n",
       "\n",
       "    .dataframe tbody tr th {\n",
       "        vertical-align: top;\n",
       "    }\n",
       "\n",
       "    .dataframe thead th {\n",
       "        text-align: right;\n",
       "    }\n",
       "</style>\n",
       "<table border=\"1\" class=\"dataframe\">\n",
       "  <thead>\n",
       "    <tr style=\"text-align: right;\">\n",
       "      <th></th>\n",
       "      <th>given_name</th>\n",
       "      <th>surname</th>\n",
       "      <th>street_number</th>\n",
       "      <th>address_1</th>\n",
       "      <th>address_2</th>\n",
       "      <th>suburb</th>\n",
       "      <th>postcode</th>\n",
       "      <th>state</th>\n",
       "      <th>date_of_birth</th>\n",
       "      <th>soc_sec_id</th>\n",
       "    </tr>\n",
       "    <tr>\n",
       "      <th>rec_id</th>\n",
       "      <th></th>\n",
       "      <th></th>\n",
       "      <th></th>\n",
       "      <th></th>\n",
       "      <th></th>\n",
       "      <th></th>\n",
       "      <th></th>\n",
       "      <th></th>\n",
       "      <th></th>\n",
       "      <th></th>\n",
       "    </tr>\n",
       "  </thead>\n",
       "  <tbody>\n",
       "    <tr>\n",
       "      <th>rec-0-dup-0</th>\n",
       "      <td>rachael</td>\n",
       "      <td>dent</td>\n",
       "      <td>4</td>\n",
       "      <td>knox street</td>\n",
       "      <td>lakewood estate</td>\n",
       "      <td>byford</td>\n",
       "      <td>4129</td>\n",
       "      <td>vic</td>\n",
       "      <td>19280722</td>\n",
       "      <td>1683994</td>\n",
       "    </tr>\n",
       "    <tr>\n",
       "      <th>rec-1-dup-0</th>\n",
       "      <td>isabella</td>\n",
       "      <td>everett</td>\n",
       "      <td>25</td>\n",
       "      <td>pike mlace</td>\n",
       "      <td>rowethorpe</td>\n",
       "      <td>marsden</td>\n",
       "      <td>2152</td>\n",
       "      <td>nsw</td>\n",
       "      <td>19110816</td>\n",
       "      <td>6653129</td>\n",
       "    </tr>\n",
       "    <tr>\n",
       "      <th>rec-10-dup-0</th>\n",
       "      <td>lachlnn</td>\n",
       "      <td>reid</td>\n",
       "      <td>5</td>\n",
       "      <td>carrington road</td>\n",
       "      <td>legacy vlge</td>\n",
       "      <td>yagoona</td>\n",
       "      <td>2446</td>\n",
       "      <td>nsw</td>\n",
       "      <td>19500531</td>\n",
       "      <td>3232033</td>\n",
       "    </tr>\n",
       "    <tr>\n",
       "      <th>rec-100-dup-0</th>\n",
       "      <td>hayden</td>\n",
       "      <td>stapley</td>\n",
       "      <td>NaN</td>\n",
       "      <td>tindale street</td>\n",
       "      <td>villa 2</td>\n",
       "      <td>cromer heights</td>\n",
       "      <td>4125</td>\n",
       "      <td>vic</td>\n",
       "      <td>NaN</td>\n",
       "      <td>4620080</td>\n",
       "    </tr>\n",
       "    <tr>\n",
       "      <th>rec-1000-dup-0</th>\n",
       "      <td>victoria</td>\n",
       "      <td>zbierski</td>\n",
       "      <td>70</td>\n",
       "      <td>wybalena grove</td>\n",
       "      <td>inverbeath</td>\n",
       "      <td>paralowie</td>\n",
       "      <td>5065</td>\n",
       "      <td>nsw</td>\n",
       "      <td>19720503</td>\n",
       "      <td>1267612</td>\n",
       "    </tr>\n",
       "  </tbody>\n",
       "</table>\n",
       "</div>"
      ],
      "text/plain": [
       "               given_name   surname street_number        address_1  \\\n",
       "rec_id                                                               \n",
       "rec-0-dup-0       rachael      dent             4      knox street   \n",
       "rec-1-dup-0      isabella   everett            25       pike mlace   \n",
       "rec-10-dup-0      lachlnn      reid             5  carrington road   \n",
       "rec-100-dup-0      hayden   stapley           NaN   tindale street   \n",
       "rec-1000-dup-0   victoria  zbierski            70   wybalena grove   \n",
       "\n",
       "                      address_2          suburb postcode state date_of_birth  \\\n",
       "rec_id                                                                         \n",
       "rec-0-dup-0     lakewood estate          byford     4129   vic      19280722   \n",
       "rec-1-dup-0          rowethorpe         marsden     2152   nsw      19110816   \n",
       "rec-10-dup-0        legacy vlge         yagoona     2446   nsw      19500531   \n",
       "rec-100-dup-0           villa 2  cromer heights     4125   vic           NaN   \n",
       "rec-1000-dup-0       inverbeath       paralowie     5065   nsw      19720503   \n",
       "\n",
       "               soc_sec_id  \n",
       "rec_id                     \n",
       "rec-0-dup-0       1683994  \n",
       "rec-1-dup-0       6653129  \n",
       "rec-10-dup-0      3232033  \n",
       "rec-100-dup-0     4620080  \n",
       "rec-1000-dup-0    1267612  "
      ]
     },
     "metadata": {},
     "output_type": "display_data"
    }
   ],
   "source": [
    "dfA, dfB, true_links = load_febrl4(return_links=True)\n",
    "print(\"Dataset A\")\n",
    "display(dfA.sort_index().head())\n",
    "print(\"Dataset B\")\n",
    "display(dfB.sort_index().head())"
   ]
  },
  {
   "cell_type": "markdown",
   "metadata": {
    "id": "DMM7hWzDc296"
   },
   "source": [
    "We will now add a column which contains the initials of the person whose record it is to both of the dataframes"
   ]
  },
  {
   "cell_type": "code",
   "execution_count": null,
   "metadata": {
    "id": "ZYTKvn0rXiRN"
   },
   "outputs": [],
   "source": []
  },
  {
   "cell_type": "code",
   "execution_count": 46,
   "metadata": {
    "id": "gTdqddc4XiUg"
   },
   "outputs": [],
   "source": [
    "dfA[\"initials\"] = (dfA[\"given_name\"].str[0]  + dfA[\"surname\"].str[0])\n",
    "dfB[\"initials\"] = (dfB[\"given_name\"].str[0]  + dfB[\"surname\"].str[0])"
   ]
  },
  {
   "cell_type": "markdown",
   "metadata": {
    "id": "5FNuyrzQdCcK"
   },
   "source": [
    "Converting the values in soc_sec_id to numeric type"
   ]
  },
  {
   "cell_type": "code",
   "execution_count": 47,
   "metadata": {
    "id": "u9Rq7IJeXiXy"
   },
   "outputs": [],
   "source": [
    "dfA['soc_sec_id']= pd.to_numeric(dfA['soc_sec_id'])\n",
    "dfB['soc_sec_id']= pd.to_numeric(dfB['soc_sec_id'])"
   ]
  },
  {
   "cell_type": "markdown",
   "metadata": {
    "id": "QzqhqVmyly2A"
   },
   "source": [
    "We create the multi-indexer, candidate links. It contains all the pairwise indexes that contain the same initials. For eg, for all records, which have the initials AB, candidate links will contain all pairwise combinations of the indexes of all such records."
   ]
  },
  {
   "cell_type": "code",
   "execution_count": 48,
   "metadata": {
    "id": "2WHpTjk2XibG"
   },
   "outputs": [],
   "source": [
    "indexer = recordlinkage.Index()\n",
    "indexer.block('initials')\n",
    "candidate_links = indexer.index(dfA, dfB)"
   ]
  },
  {
   "cell_type": "code",
   "execution_count": 49,
   "metadata": {
    "colab": {
     "base_uri": "https://localhost:8080/"
    },
    "id": "4u4sDp95X-vm",
    "outputId": "f4487159-464c-4e87-a0be-2a1fb32a6caf"
   },
   "outputs": [
    {
     "name": "stdout",
     "output_type": "stream",
     "text": [
      "Requirement already satisfied: fuzzywuzzy in /Users/adhirajsrivastava/opt/anaconda3/lib/python3.9/site-packages (0.18.0)\n"
     ]
    }
   ],
   "source": [
    "!pip install fuzzywuzzy\n",
    "from fuzzywuzzy import fuzz\n",
    "from fuzzywuzzy import process\n",
    "import time"
   ]
  },
  {
   "cell_type": "markdown",
   "metadata": {
    "id": "gaPiHi1FlC_s"
   },
   "source": []
  },
  {
   "cell_type": "markdown",
   "metadata": {
    "id": "HJJMOSEglDLR"
   },
   "source": [
    "For all the techniques that we apply below, we first apply blocking based on the initials. After this we apply the technique. We store the pairwise index combination of the records which have a similarity score greater than what we have classified as the threshold. \n",
    "\n",
    "We use this column along with the true_links (contains the index combinations of all the actual matches) column to calculate the precision and recall scores in order to evaluate the performance of the technique. We also see the time taken for the technique to get executed.\n",
    "\n"
   ]
  },
  {
   "cell_type": "markdown",
   "metadata": {
    "id": "iBCwObQvZoVO"
   },
   "source": [
    "### Fuzz Ratio <a class=\"anchor\" id=\"2\"></a>\n"
   ]
  },
  {
   "cell_type": "markdown",
   "metadata": {
    "id": "eeiESJyjdTIw"
   },
   "source": [
    "This technique compares two strings A and B and outputs a ratio that estimates the distance between them. We are talking here about the Levenshtein distance, which is the distance between A and B in terms of how many changes we have to make to the string A in order to transform it into string B. The changes include removing, adding or substituting characters. The fewer the changes we have to make, the more similar A and B are, which results in a higher ratio."
   ]
  },
  {
   "cell_type": "code",
   "execution_count": 60,
   "metadata": {
    "colab": {
     "base_uri": "https://localhost:8080/"
    },
    "id": "a3aWcg2ZX-yw",
    "outputId": "440a558b-e6e8-4460-8c8d-f46f6143094d"
   },
   "outputs": [
    {
     "name": "stdout",
     "output_type": "stream",
     "text": [
      "The time of execution of above program is : 2.28541898727417\n"
     ]
    }
   ],
   "source": [
    "matches=[]\n",
    "threshold=80\n",
    "start = time.time()\n",
    "for i in candidate_links:\n",
    "  ind1=i[0]\n",
    "  ind2=i[1]\n",
    "  compare1=dfA.loc[ind1,'given_name']+' '+dfA.loc[ind1,'surname']\n",
    "  compare2=dfB.loc[ind2,'given_name']+' '+dfB.loc[ind2,'surname']\n",
    "  val=fuzz.ratio(compare1.lower(),compare2.lower())\n",
    "  if val>threshold:\n",
    "    matches.append((ind1,ind2))\n",
    "end = time.time()\n",
    "fr= end -start\n",
    "print(\"The time of execution of above program is :\", frt)    \n",
    "\n"
   ]
  },
  {
   "cell_type": "code",
   "execution_count": 51,
   "metadata": {
    "colab": {
     "base_uri": "https://localhost:8080/"
    },
    "id": "n3PMA5xKX-1i",
    "outputId": "0494efa3-37e4-4a77-d586-b19fdbf9c651"
   },
   "outputs": [
    {
     "name": "stdout",
     "output_type": "stream",
     "text": [
      "When using Fuzz Ratio  precision is 0.7295585032666798 and recall is 0.737\n"
     ]
    }
   ],
   "source": [
    "matches1=pd.MultiIndex.from_tuples(matches)\n",
    "pre_fr = recordlinkage.precision(true_links, matches1)\n",
    "rcl_fr = recordlinkage.recall(true_links, matches1)\n",
    "print(\"When using Fuzz Ratio \" + \" precision is \" + str(pre_fr) + \" and recall is \" + str(rcl_fr))"
   ]
  },
  {
   "cell_type": "markdown",
   "metadata": {
    "id": "3F-QHbEcgWkF"
   },
   "source": [
    "### Fuzz Partial Ratio <a class=\"anchor\" id=\"3\"></a>"
   ]
  },
  {
   "cell_type": "markdown",
   "metadata": {
    "id": "5lZlY2lAeyRX"
   },
   "source": [
    "fuzz.partial_ratio (PR) takes into account subsets of the strings it compares, and then returns a ratio according to their similarities. For example, it will return a ratio of 100% if it compares Dwayne The Rock Johnson with Dwayne"
   ]
  },
  {
   "cell_type": "code",
   "execution_count": 52,
   "metadata": {
    "colab": {
     "base_uri": "https://localhost:8080/"
    },
    "id": "PjlDFN0wX-7O",
    "outputId": "3b260084-cb2a-4f92-d908-3961c86fa571"
   },
   "outputs": [
    {
     "name": "stdout",
     "output_type": "stream",
     "text": [
      "The time of execution of above program is : 2.9320318698883057\n"
     ]
    }
   ],
   "source": [
    "matches=[]\n",
    "threshold=80\n",
    "start = time.time()\n",
    "for i in candidate_links:\n",
    "  ind1=i[0]\n",
    "  ind2=i[1]\n",
    "  compare1=dfA.loc[ind1,'given_name']+' '+dfA.loc[ind1,'surname']\n",
    "  compare2=dfB.loc[ind2,'given_name']+' '+dfB.loc[ind2,'surname']\n",
    "  val=fuzz.partial_ratio(compare1.lower(),compare2.lower())\n",
    "  if val>threshold:\n",
    "    matches.append((ind1,ind2))\n",
    "end = time.time()\n",
    "fpr= end-start\n",
    "print(\"The time of execution of above program is :\", fpr)    \n"
   ]
  },
  {
   "cell_type": "code",
   "execution_count": 53,
   "metadata": {
    "colab": {
     "base_uri": "https://localhost:8080/"
    },
    "id": "SuWS23jXX--R",
    "outputId": "8f8f6b39-ba1f-4a72-d7f5-c50ac2fef390"
   },
   "outputs": [
    {
     "name": "stdout",
     "output_type": "stream",
     "text": [
      "When using Fuzz Partial Ratio  precision is 0.7032146957520092 and recall is 0.735\n"
     ]
    }
   ],
   "source": [
    "matches1=pd.MultiIndex.from_tuples(matches)\n",
    "pre_fpr = recordlinkage.precision(true_links, matches1)\n",
    "rcl_fpr = recordlinkage.recall(true_links, matches1)\n",
    "print(\"When using Fuzz Partial Ratio \" + \" precision is \" + str(pre_fpr) + \" and recall is \" + str(rcl_fpr))"
   ]
  },
  {
   "cell_type": "markdown",
   "metadata": {
    "id": "wYhB4aRygrzv"
   },
   "source": [
    "### Token Sort Ratio <a class=\"anchor\" id=\"4\"></a>\n"
   ]
  },
  {
   "cell_type": "markdown",
   "metadata": {
    "id": "WvzmMr5WfTmA"
   },
   "source": [
    "In token methods have the advantage of ignoring case and punctuation (all characters get turned to lowercase characters). In the case of fuzz.token_sort_ratio (TSoR), the ‘Tokenized’ strings (each word is turned into a token) get sorted in alphanumeric order before applying the basic fuzz.ratio (R) on them, so the order of the words in both strings compared doesn’t matter (unlike the previous non-token methods)"
   ]
  },
  {
   "cell_type": "code",
   "execution_count": 54,
   "metadata": {
    "colab": {
     "background_save": true,
     "base_uri": "https://localhost:8080/"
    },
    "id": "C1Xbn9hxX_Bn",
    "outputId": "45088605-43b9-47a3-9642-0a3ac8b358ec"
   },
   "outputs": [
    {
     "name": "stdout",
     "output_type": "stream",
     "text": [
      "The time of execution of above program is : 2.7590198516845703\n"
     ]
    }
   ],
   "source": [
    "matches=[]\n",
    "threshold=80\n",
    "start = time.time()\n",
    "for i in candidate_links:\n",
    "  ind1=i[0]\n",
    "  ind2=i[1]\n",
    "  compare1=dfA.loc[ind1,'given_name']+' '+dfA.loc[ind1,'surname']\n",
    "  compare2=dfB.loc[ind2,'given_name']+' '+dfB.loc[ind2,'surname']\n",
    "  val=fuzz.token_sort_ratio(compare1.lower(),compare2.lower())\n",
    "  if val>threshold:\n",
    "    matches.append((ind1,ind2))\n",
    "end = time.time()\n",
    "tsr= end-start\n",
    "print(\"The time of execution of above program is :\", tsr)    \n",
    "   "
   ]
  },
  {
   "cell_type": "code",
   "execution_count": 55,
   "metadata": {
    "colab": {
     "background_save": true,
     "base_uri": "https://localhost:8080/"
    },
    "id": "vBIAfjmeX_FG",
    "outputId": "b3ed03a4-b628-4e7a-9b66-cec10f3a2a72"
   },
   "outputs": [
    {
     "name": "stdout",
     "output_type": "stream",
     "text": [
      "When using Token Sort Ratio  precision is 0.7309533306741125 and recall is 0.733\n"
     ]
    }
   ],
   "source": [
    "matches1=pd.MultiIndex.from_tuples(matches)\n",
    "pre_tsr = recordlinkage.precision(true_links, matches1)\n",
    "rcl_tsr = recordlinkage.recall(true_links, matches1)\n",
    "print(\"When using Token Sort Ratio \" + \" precision is \" + str(pre_tsr) + \" and recall is \" + str(rcl_tsr))"
   ]
  },
  {
   "cell_type": "code",
   "execution_count": null,
   "metadata": {
    "colab": {
     "background_save": true
    },
    "id": "0WJaQgOfXieH"
   },
   "outputs": [],
   "source": []
  },
  {
   "cell_type": "markdown",
   "metadata": {
    "id": "i3ioMsC6g5SG"
   },
   "source": [
    "### Token Set Ratio <a class=\"anchor\" id=\"5\"></a>"
   ]
  },
  {
   "cell_type": "markdown",
   "metadata": {
    "id": "MHCKFdY4fifH"
   },
   "source": [
    "Token Set Ratio is similar to Token Sort Ratio, except it ignores duplicated words . It also conducts a pair to pair comparison on tokens that are common to both strings compared."
   ]
  },
  {
   "cell_type": "code",
   "execution_count": 56,
   "metadata": {
    "id": "JeH2L2F2Xih0"
   },
   "outputs": [
    {
     "name": "stdout",
     "output_type": "stream",
     "text": [
      "The time of execution of above program is : 3.0303218364715576\n"
     ]
    }
   ],
   "source": [
    "matches=[]\n",
    "threshold=80\n",
    "start = time.time()\n",
    "for i in candidate_links:\n",
    "  ind1=i[0]\n",
    "  ind2=i[1]\n",
    "  compare1=dfA.loc[ind1,'given_name']+' '+dfA.loc[ind1,'surname']\n",
    "  compare2=dfB.loc[ind2,'given_name']+' '+dfB.loc[ind2,'surname']\n",
    "  val=fuzz.token_set_ratio(compare1.lower(),compare2.lower())\n",
    "  if val>threshold:\n",
    "    matches.append((ind1,ind2))\n",
    "end = time.time()\n",
    "tsr1= end-start\n",
    "print(\"The time of execution of above program is :\", tsr1)    \n"
   ]
  },
  {
   "cell_type": "code",
   "execution_count": 57,
   "metadata": {
    "colab": {
     "background_save": true
    },
    "id": "ydVjRvF-XilG",
    "outputId": "8747fc6f-dfcd-4b00-d408-569c03c211ff"
   },
   "outputs": [
    {
     "name": "stdout",
     "output_type": "stream",
     "text": [
      "When using Token Set Ratio  precision is 0.7265532251681837 and recall is 0.7344\n"
     ]
    }
   ],
   "source": [
    "matches1=pd.MultiIndex.from_tuples(matches)\n",
    "pre_tsr1 = recordlinkage.precision(true_links, matches1)\n",
    "rcl_tsr1 = recordlinkage.recall(true_links, matches1)\n",
    "print(\"When using Token Set Ratio \" + \" precision is \" + str(pre_tsr1) + \" and recall is \" + str(rcl_tsr1))"
   ]
  },
  {
   "cell_type": "code",
   "execution_count": null,
   "metadata": {
    "id": "pizKG_FZXiof"
   },
   "outputs": [],
   "source": []
  },
  {
   "cell_type": "markdown",
   "metadata": {
    "colab": {
     "background_save": true
    },
    "id": "TKhth3O1Xir3"
   },
   "source": [
    "### Comparison <a class=\"anchor\" id=\"6\"></a>"
   ]
  },
  {
   "cell_type": "code",
   "execution_count": 61,
   "metadata": {},
   "outputs": [],
   "source": [
    "Techniques=['Fuzz Ratio', 'Fuzz Partial Ratio', 'Token Sort Ratio', 'Token Set Ratio']\n",
    "Precision=[pre_fr, pre_fpr, pre_tsr, pre_tsr1]\n",
    "Recall=[rcl_fr, rcl_fpr, rcl_tsr, rcl_tsr1]\n",
    "Time_Execution= [fr, fpr, tsr, tsr1]"
   ]
  },
  {
   "cell_type": "code",
   "execution_count": 62,
   "metadata": {},
   "outputs": [
    {
     "data": {
      "text/html": [
       "<div>\n",
       "<style scoped>\n",
       "    .dataframe tbody tr th:only-of-type {\n",
       "        vertical-align: middle;\n",
       "    }\n",
       "\n",
       "    .dataframe tbody tr th {\n",
       "        vertical-align: top;\n",
       "    }\n",
       "\n",
       "    .dataframe thead th {\n",
       "        text-align: right;\n",
       "    }\n",
       "</style>\n",
       "<table border=\"1\" class=\"dataframe\">\n",
       "  <thead>\n",
       "    <tr style=\"text-align: right;\">\n",
       "      <th></th>\n",
       "      <th>Method</th>\n",
       "      <th>Precision</th>\n",
       "      <th>Recall</th>\n",
       "      <th>Time_Execution</th>\n",
       "    </tr>\n",
       "  </thead>\n",
       "  <tbody>\n",
       "    <tr>\n",
       "      <th>0</th>\n",
       "      <td>Fuzz Ratio</td>\n",
       "      <td>0.729559</td>\n",
       "      <td>0.7370</td>\n",
       "      <td>2.233487</td>\n",
       "    </tr>\n",
       "    <tr>\n",
       "      <th>1</th>\n",
       "      <td>Fuzz Partial Ratio</td>\n",
       "      <td>0.703215</td>\n",
       "      <td>0.7350</td>\n",
       "      <td>2.932032</td>\n",
       "    </tr>\n",
       "    <tr>\n",
       "      <th>2</th>\n",
       "      <td>Token Sort Ratio</td>\n",
       "      <td>0.730953</td>\n",
       "      <td>0.7330</td>\n",
       "      <td>2.759020</td>\n",
       "    </tr>\n",
       "    <tr>\n",
       "      <th>3</th>\n",
       "      <td>Token Set Ratio</td>\n",
       "      <td>0.726553</td>\n",
       "      <td>0.7344</td>\n",
       "      <td>3.030322</td>\n",
       "    </tr>\n",
       "  </tbody>\n",
       "</table>\n",
       "</div>"
      ],
      "text/plain": [
       "               Method  Precision  Recall  Time_Execution\n",
       "0          Fuzz Ratio   0.729559  0.7370        2.233487\n",
       "1  Fuzz Partial Ratio   0.703215  0.7350        2.932032\n",
       "2    Token Sort Ratio   0.730953  0.7330        2.759020\n",
       "3     Token Set Ratio   0.726553  0.7344        3.030322"
      ]
     },
     "execution_count": 62,
     "metadata": {},
     "output_type": "execute_result"
    }
   ],
   "source": [
    "df = pd.DataFrame(list(zip(Techniques, Precision, Recall, Time_Execution)), \n",
    "                  columns =['Method', 'Precision', 'Recall', 'Time_Execution'])\n",
    "df"
   ]
  },
  {
   "cell_type": "code",
   "execution_count": null,
   "metadata": {},
   "outputs": [],
   "source": []
  },
  {
   "cell_type": "code",
   "execution_count": null,
   "metadata": {},
   "outputs": [],
   "source": []
  },
  {
   "cell_type": "code",
   "execution_count": null,
   "metadata": {},
   "outputs": [],
   "source": []
  }
 ],
 "metadata": {
  "colab": {
   "collapsed_sections": [],
   "name": "Capstone Comparison.ipynb",
   "provenance": []
  },
  "kernelspec": {
   "display_name": "Python 3 (ipykernel)",
   "language": "python",
   "name": "python3"
  },
  "language_info": {
   "codemirror_mode": {
    "name": "ipython",
    "version": 3
   },
   "file_extension": ".py",
   "mimetype": "text/x-python",
   "name": "python",
   "nbconvert_exporter": "python",
   "pygments_lexer": "ipython3",
   "version": "3.9.7"
  }
 },
 "nbformat": 4,
 "nbformat_minor": 4
}
