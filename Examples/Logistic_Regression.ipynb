{
 "cells": [
  {
   "cell_type": "markdown",
   "id": "9b080179",
   "metadata": {
    "id": "9b080179"
   },
   "source": [
    "# Logistic Regression"
   ]
  },
  {
   "cell_type": "markdown",
   "id": "ffabc436-7ef3-46c4-87e4-d814d6e67cb2",
   "metadata": {},
   "source": [
    "## **Table of Contents:**\n",
    "* [Setting Up](#1)\n",
    "* [Logistic Regression](#2)"
   ]
  },
  {
   "cell_type": "markdown",
   "id": "5a15cb24-4d8b-4998-84d2-9b519f2c6ff8",
   "metadata": {},
   "source": [
    "## Setting Up <a class=\"anchor\" id=\"1\"></a>"
   ]
  },
  {
   "cell_type": "code",
   "execution_count": 1,
   "id": "8ptRFpLyLs4s",
   "metadata": {
    "colab": {
     "base_uri": "https://localhost:8080/"
    },
    "id": "8ptRFpLyLs4s",
    "outputId": "a2779724-3df3-45ea-8cc1-2c7fc8768094"
   },
   "outputs": [],
   "source": [
    "#pip install recordlinkage"
   ]
  },
  {
   "cell_type": "code",
   "execution_count": 2,
   "id": "d4e2063d",
   "metadata": {
    "id": "d4e2063d"
   },
   "outputs": [],
   "source": [
    "import recordlinkage\n",
    "import pandas as pd"
   ]
  },
  {
   "cell_type": "code",
   "execution_count": 3,
   "id": "b11cb8a1",
   "metadata": {
    "id": "b11cb8a1"
   },
   "outputs": [],
   "source": [
    "from recordlinkage.datasets import load_febrl4"
   ]
  },
  {
   "cell_type": "code",
   "execution_count": 4,
   "id": "42260a38",
   "metadata": {
    "colab": {
     "base_uri": "https://localhost:8080/",
     "height": 492
    },
    "id": "42260a38",
    "outputId": "4d2c24c1-17d8-4b15-92d0-36c207325e29"
   },
   "outputs": [
    {
     "name": "stdout",
     "output_type": "stream",
     "text": [
      "Dataset A\n"
     ]
    },
    {
     "data": {
      "text/html": [
       "<div>\n",
       "<style scoped>\n",
       "    .dataframe tbody tr th:only-of-type {\n",
       "        vertical-align: middle;\n",
       "    }\n",
       "\n",
       "    .dataframe tbody tr th {\n",
       "        vertical-align: top;\n",
       "    }\n",
       "\n",
       "    .dataframe thead th {\n",
       "        text-align: right;\n",
       "    }\n",
       "</style>\n",
       "<table border=\"1\" class=\"dataframe\">\n",
       "  <thead>\n",
       "    <tr style=\"text-align: right;\">\n",
       "      <th></th>\n",
       "      <th>given_name</th>\n",
       "      <th>surname</th>\n",
       "      <th>street_number</th>\n",
       "      <th>address_1</th>\n",
       "      <th>address_2</th>\n",
       "      <th>suburb</th>\n",
       "      <th>postcode</th>\n",
       "      <th>state</th>\n",
       "      <th>date_of_birth</th>\n",
       "      <th>soc_sec_id</th>\n",
       "    </tr>\n",
       "    <tr>\n",
       "      <th>rec_id</th>\n",
       "      <th></th>\n",
       "      <th></th>\n",
       "      <th></th>\n",
       "      <th></th>\n",
       "      <th></th>\n",
       "      <th></th>\n",
       "      <th></th>\n",
       "      <th></th>\n",
       "      <th></th>\n",
       "      <th></th>\n",
       "    </tr>\n",
       "  </thead>\n",
       "  <tbody>\n",
       "    <tr>\n",
       "      <th>rec-0-org</th>\n",
       "      <td>rachael</td>\n",
       "      <td>dent</td>\n",
       "      <td>1</td>\n",
       "      <td>knox street</td>\n",
       "      <td>lakewood estate</td>\n",
       "      <td>byford</td>\n",
       "      <td>4129</td>\n",
       "      <td>vic</td>\n",
       "      <td>19280722</td>\n",
       "      <td>1683994</td>\n",
       "    </tr>\n",
       "    <tr>\n",
       "      <th>rec-1-org</th>\n",
       "      <td>isabella</td>\n",
       "      <td>everett</td>\n",
       "      <td>25</td>\n",
       "      <td>pike place</td>\n",
       "      <td>rowethorpe</td>\n",
       "      <td>marsden</td>\n",
       "      <td>2152</td>\n",
       "      <td>nsw</td>\n",
       "      <td>19110816</td>\n",
       "      <td>6653129</td>\n",
       "    </tr>\n",
       "    <tr>\n",
       "      <th>rec-10-org</th>\n",
       "      <td>lachlan</td>\n",
       "      <td>reid</td>\n",
       "      <td>5</td>\n",
       "      <td>carrington road</td>\n",
       "      <td>legacy vlge</td>\n",
       "      <td>yagoona</td>\n",
       "      <td>2464</td>\n",
       "      <td>nsw</td>\n",
       "      <td>19500531</td>\n",
       "      <td>3232033</td>\n",
       "    </tr>\n",
       "    <tr>\n",
       "      <th>rec-100-org</th>\n",
       "      <td>hayden</td>\n",
       "      <td>stapley</td>\n",
       "      <td>38</td>\n",
       "      <td>tindale street</td>\n",
       "      <td>villa 2</td>\n",
       "      <td>cromer heights</td>\n",
       "      <td>4125</td>\n",
       "      <td>vic</td>\n",
       "      <td>NaN</td>\n",
       "      <td>4620080</td>\n",
       "    </tr>\n",
       "    <tr>\n",
       "      <th>rec-1000-org</th>\n",
       "      <td>victoria</td>\n",
       "      <td>zbierski</td>\n",
       "      <td>70</td>\n",
       "      <td>wybalena grove</td>\n",
       "      <td>inverneath</td>\n",
       "      <td>paralowie</td>\n",
       "      <td>5065</td>\n",
       "      <td>nsw</td>\n",
       "      <td>19720503</td>\n",
       "      <td>1267612</td>\n",
       "    </tr>\n",
       "  </tbody>\n",
       "</table>\n",
       "</div>"
      ],
      "text/plain": [
       "             given_name   surname street_number        address_1  \\\n",
       "rec_id                                                             \n",
       "rec-0-org       rachael      dent             1      knox street   \n",
       "rec-1-org      isabella   everett            25       pike place   \n",
       "rec-10-org      lachlan      reid             5  carrington road   \n",
       "rec-100-org      hayden   stapley            38   tindale street   \n",
       "rec-1000-org   victoria  zbierski            70   wybalena grove   \n",
       "\n",
       "                    address_2          suburb postcode state date_of_birth  \\\n",
       "rec_id                                                                       \n",
       "rec-0-org     lakewood estate          byford     4129   vic      19280722   \n",
       "rec-1-org          rowethorpe         marsden     2152   nsw      19110816   \n",
       "rec-10-org        legacy vlge         yagoona     2464   nsw      19500531   \n",
       "rec-100-org           villa 2  cromer heights     4125   vic           NaN   \n",
       "rec-1000-org       inverneath       paralowie     5065   nsw      19720503   \n",
       "\n",
       "             soc_sec_id  \n",
       "rec_id                   \n",
       "rec-0-org       1683994  \n",
       "rec-1-org       6653129  \n",
       "rec-10-org      3232033  \n",
       "rec-100-org     4620080  \n",
       "rec-1000-org    1267612  "
      ]
     },
     "metadata": {},
     "output_type": "display_data"
    },
    {
     "name": "stdout",
     "output_type": "stream",
     "text": [
      "Dataset B\n"
     ]
    },
    {
     "data": {
      "text/html": [
       "<div>\n",
       "<style scoped>\n",
       "    .dataframe tbody tr th:only-of-type {\n",
       "        vertical-align: middle;\n",
       "    }\n",
       "\n",
       "    .dataframe tbody tr th {\n",
       "        vertical-align: top;\n",
       "    }\n",
       "\n",
       "    .dataframe thead th {\n",
       "        text-align: right;\n",
       "    }\n",
       "</style>\n",
       "<table border=\"1\" class=\"dataframe\">\n",
       "  <thead>\n",
       "    <tr style=\"text-align: right;\">\n",
       "      <th></th>\n",
       "      <th>given_name</th>\n",
       "      <th>surname</th>\n",
       "      <th>street_number</th>\n",
       "      <th>address_1</th>\n",
       "      <th>address_2</th>\n",
       "      <th>suburb</th>\n",
       "      <th>postcode</th>\n",
       "      <th>state</th>\n",
       "      <th>date_of_birth</th>\n",
       "      <th>soc_sec_id</th>\n",
       "    </tr>\n",
       "    <tr>\n",
       "      <th>rec_id</th>\n",
       "      <th></th>\n",
       "      <th></th>\n",
       "      <th></th>\n",
       "      <th></th>\n",
       "      <th></th>\n",
       "      <th></th>\n",
       "      <th></th>\n",
       "      <th></th>\n",
       "      <th></th>\n",
       "      <th></th>\n",
       "    </tr>\n",
       "  </thead>\n",
       "  <tbody>\n",
       "    <tr>\n",
       "      <th>rec-0-dup-0</th>\n",
       "      <td>rachael</td>\n",
       "      <td>dent</td>\n",
       "      <td>4</td>\n",
       "      <td>knox street</td>\n",
       "      <td>lakewood estate</td>\n",
       "      <td>byford</td>\n",
       "      <td>4129</td>\n",
       "      <td>vic</td>\n",
       "      <td>19280722</td>\n",
       "      <td>1683994</td>\n",
       "    </tr>\n",
       "    <tr>\n",
       "      <th>rec-1-dup-0</th>\n",
       "      <td>isabella</td>\n",
       "      <td>everett</td>\n",
       "      <td>25</td>\n",
       "      <td>pike mlace</td>\n",
       "      <td>rowethorpe</td>\n",
       "      <td>marsden</td>\n",
       "      <td>2152</td>\n",
       "      <td>nsw</td>\n",
       "      <td>19110816</td>\n",
       "      <td>6653129</td>\n",
       "    </tr>\n",
       "    <tr>\n",
       "      <th>rec-10-dup-0</th>\n",
       "      <td>lachlnn</td>\n",
       "      <td>reid</td>\n",
       "      <td>5</td>\n",
       "      <td>carrington road</td>\n",
       "      <td>legacy vlge</td>\n",
       "      <td>yagoona</td>\n",
       "      <td>2446</td>\n",
       "      <td>nsw</td>\n",
       "      <td>19500531</td>\n",
       "      <td>3232033</td>\n",
       "    </tr>\n",
       "    <tr>\n",
       "      <th>rec-100-dup-0</th>\n",
       "      <td>hayden</td>\n",
       "      <td>stapley</td>\n",
       "      <td>NaN</td>\n",
       "      <td>tindale street</td>\n",
       "      <td>villa 2</td>\n",
       "      <td>cromer heights</td>\n",
       "      <td>4125</td>\n",
       "      <td>vic</td>\n",
       "      <td>NaN</td>\n",
       "      <td>4620080</td>\n",
       "    </tr>\n",
       "    <tr>\n",
       "      <th>rec-1000-dup-0</th>\n",
       "      <td>victoria</td>\n",
       "      <td>zbierski</td>\n",
       "      <td>70</td>\n",
       "      <td>wybalena grove</td>\n",
       "      <td>inverbeath</td>\n",
       "      <td>paralowie</td>\n",
       "      <td>5065</td>\n",
       "      <td>nsw</td>\n",
       "      <td>19720503</td>\n",
       "      <td>1267612</td>\n",
       "    </tr>\n",
       "  </tbody>\n",
       "</table>\n",
       "</div>"
      ],
      "text/plain": [
       "               given_name   surname street_number        address_1  \\\n",
       "rec_id                                                               \n",
       "rec-0-dup-0       rachael      dent             4      knox street   \n",
       "rec-1-dup-0      isabella   everett            25       pike mlace   \n",
       "rec-10-dup-0      lachlnn      reid             5  carrington road   \n",
       "rec-100-dup-0      hayden   stapley           NaN   tindale street   \n",
       "rec-1000-dup-0   victoria  zbierski            70   wybalena grove   \n",
       "\n",
       "                      address_2          suburb postcode state date_of_birth  \\\n",
       "rec_id                                                                         \n",
       "rec-0-dup-0     lakewood estate          byford     4129   vic      19280722   \n",
       "rec-1-dup-0          rowethorpe         marsden     2152   nsw      19110816   \n",
       "rec-10-dup-0        legacy vlge         yagoona     2446   nsw      19500531   \n",
       "rec-100-dup-0           villa 2  cromer heights     4125   vic           NaN   \n",
       "rec-1000-dup-0       inverbeath       paralowie     5065   nsw      19720503   \n",
       "\n",
       "               soc_sec_id  \n",
       "rec_id                     \n",
       "rec-0-dup-0       1683994  \n",
       "rec-1-dup-0       6653129  \n",
       "rec-10-dup-0      3232033  \n",
       "rec-100-dup-0     4620080  \n",
       "rec-1000-dup-0    1267612  "
      ]
     },
     "metadata": {},
     "output_type": "display_data"
    }
   ],
   "source": [
    "dfA, dfB, true_links = load_febrl4(return_links=True)\n",
    "print(\"Dataset A\")\n",
    "display(dfA.sort_index().head())\n",
    "print(\"Dataset B\")\n",
    "display(dfB.sort_index().head())"
   ]
  },
  {
   "cell_type": "code",
   "execution_count": 20,
   "id": "21cf8884",
   "metadata": {
    "colab": {
     "base_uri": "https://localhost:8080/",
     "height": 393
    },
    "id": "21cf8884",
    "outputId": "fbc9c5df-bf1c-41fe-8bfe-71d4f787c3a3"
   },
   "outputs": [
    {
     "name": "stdout",
     "output_type": "stream",
     "text": [
      "\n",
      "\n",
      "After doing the same thing to our actual dataset...\n"
     ]
    },
    {
     "data": {
      "text/html": [
       "<div>\n",
       "<style scoped>\n",
       "    .dataframe tbody tr th:only-of-type {\n",
       "        vertical-align: middle;\n",
       "    }\n",
       "\n",
       "    .dataframe tbody tr th {\n",
       "        vertical-align: top;\n",
       "    }\n",
       "\n",
       "    .dataframe thead th {\n",
       "        text-align: right;\n",
       "    }\n",
       "</style>\n",
       "<table border=\"1\" class=\"dataframe\">\n",
       "  <thead>\n",
       "    <tr style=\"text-align: right;\">\n",
       "      <th></th>\n",
       "      <th>given_name</th>\n",
       "      <th>phonetic_given_name</th>\n",
       "      <th>surname</th>\n",
       "      <th>phonetic_surname</th>\n",
       "      <th>initials</th>\n",
       "      <th>soc_sec_id</th>\n",
       "    </tr>\n",
       "    <tr>\n",
       "      <th>rec_id</th>\n",
       "      <th></th>\n",
       "      <th></th>\n",
       "      <th></th>\n",
       "      <th></th>\n",
       "      <th></th>\n",
       "      <th></th>\n",
       "    </tr>\n",
       "  </thead>\n",
       "  <tbody>\n",
       "    <tr>\n",
       "      <th>rec-1070-org</th>\n",
       "      <td>michaela</td>\n",
       "      <td>M240</td>\n",
       "      <td>neumann</td>\n",
       "      <td>N550</td>\n",
       "      <td>mn</td>\n",
       "      <td>5304218</td>\n",
       "    </tr>\n",
       "    <tr>\n",
       "      <th>rec-1016-org</th>\n",
       "      <td>courtney</td>\n",
       "      <td>C635</td>\n",
       "      <td>painter</td>\n",
       "      <td>P536</td>\n",
       "      <td>cp</td>\n",
       "      <td>4066625</td>\n",
       "    </tr>\n",
       "    <tr>\n",
       "      <th>rec-4405-org</th>\n",
       "      <td>charles</td>\n",
       "      <td>C642</td>\n",
       "      <td>green</td>\n",
       "      <td>G650</td>\n",
       "      <td>cg</td>\n",
       "      <td>4365168</td>\n",
       "    </tr>\n",
       "    <tr>\n",
       "      <th>rec-1288-org</th>\n",
       "      <td>vanessa</td>\n",
       "      <td>V520</td>\n",
       "      <td>parr</td>\n",
       "      <td>P600</td>\n",
       "      <td>vp</td>\n",
       "      <td>9239102</td>\n",
       "    </tr>\n",
       "    <tr>\n",
       "      <th>rec-3585-org</th>\n",
       "      <td>mikayla</td>\n",
       "      <td>M240</td>\n",
       "      <td>malloney</td>\n",
       "      <td>M450</td>\n",
       "      <td>mm</td>\n",
       "      <td>7207688</td>\n",
       "    </tr>\n",
       "  </tbody>\n",
       "</table>\n",
       "</div>"
      ],
      "text/plain": [
       "             given_name phonetic_given_name   surname phonetic_surname  \\\n",
       "rec_id                                                                   \n",
       "rec-1070-org   michaela                M240   neumann             N550   \n",
       "rec-1016-org   courtney                C635   painter             P536   \n",
       "rec-4405-org    charles                C642     green             G650   \n",
       "rec-1288-org    vanessa                V520      parr             P600   \n",
       "rec-3585-org    mikayla                M240  malloney             M450   \n",
       "\n",
       "             initials  soc_sec_id  \n",
       "rec_id                             \n",
       "rec-1070-org       mn     5304218  \n",
       "rec-1016-org       cp     4066625  \n",
       "rec-4405-org       cg     4365168  \n",
       "rec-1288-org       vp     9239102  \n",
       "rec-3585-org       mm     7207688  "
      ]
     },
     "metadata": {},
     "output_type": "display_data"
    }
   ],
   "source": [
    "from recordlinkage.preprocessing import phonetic\n",
    "\n",
    "# Add a phonetic version of the first and last names to the two datasets\n",
    "dfA[\"phonetic_given_name\"] = phonetic(dfA[\"given_name\"], \"soundex\")\n",
    "dfB[\"phonetic_given_name\"] = phonetic(dfB[\"given_name\"], \"soundex\")\n",
    "dfA[\"phonetic_surname\"] = phonetic(dfA[\"surname\"], \"soundex\")\n",
    "dfB[\"phonetic_surname\"] = phonetic(dfB[\"surname\"], \"soundex\")\n",
    "\n",
    "# I'm also adding \"initials\"\n",
    "dfA[\"initials\"] = (dfA[\"given_name\"].str[0]  + dfA[\"surname\"].str[0])\n",
    "dfB[\"initials\"] = (dfB[\"given_name\"].str[0]  + dfB[\"surname\"].str[0])\n",
    "\n",
    "# Cast the social security number to a \"numeric\"\n",
    "dfA['soc_sec_id']= pd.to_numeric(dfA['soc_sec_id'])\n",
    "dfB['soc_sec_id']= pd.to_numeric(dfB['soc_sec_id'])\n",
    "\n",
    "# Print out examples of new columsn in dataframe A, these are the new columns...\n",
    "print(\"\\n\\nAfter doing the same thing to our actual dataset...\")\n",
    "display(dfA[[\"given_name\", \"phonetic_given_name\", \"surname\", \"phonetic_surname\", \"initials\", \"soc_sec_id\"]].head())"
   ]
  },
  {
   "cell_type": "code",
   "execution_count": 21,
   "id": "12e1b2e7",
   "metadata": {
    "colab": {
     "base_uri": "https://localhost:8080/"
    },
    "id": "12e1b2e7",
    "outputId": "9ebe2dff-b03a-4277-b855-6909fae68d29"
   },
   "outputs": [
    {
     "data": {
      "text/plain": [
       "103510"
      ]
     },
     "execution_count": 21,
     "metadata": {},
     "output_type": "execute_result"
    }
   ],
   "source": [
    "indexer = recordlinkage.Index()\n",
    "indexer.block('initials')\n",
    "candidate_links = indexer.index(dfA, dfB)\n",
    "\n",
    "len(candidate_links)"
   ]
  },
  {
   "cell_type": "code",
   "execution_count": 22,
   "id": "1e3424a8",
   "metadata": {
    "colab": {
     "base_uri": "https://localhost:8080/",
     "height": 455
    },
    "id": "1e3424a8",
    "outputId": "3c2a8da1-3303-4505-9dd5-35707a86fa10"
   },
   "outputs": [
    {
     "data": {
      "text/html": [
       "<div>\n",
       "<style scoped>\n",
       "    .dataframe tbody tr th:only-of-type {\n",
       "        vertical-align: middle;\n",
       "    }\n",
       "\n",
       "    .dataframe tbody tr th {\n",
       "        vertical-align: top;\n",
       "    }\n",
       "\n",
       "    .dataframe thead th {\n",
       "        text-align: right;\n",
       "    }\n",
       "</style>\n",
       "<table border=\"1\" class=\"dataframe\">\n",
       "  <thead>\n",
       "    <tr style=\"text-align: right;\">\n",
       "      <th></th>\n",
       "      <th></th>\n",
       "      <th>phonetic_given_name</th>\n",
       "      <th>phonetic_surname</th>\n",
       "      <th>given_name</th>\n",
       "      <th>surname</th>\n",
       "      <th>suburb</th>\n",
       "      <th>state</th>\n",
       "      <th>address_1</th>\n",
       "      <th>soc_sec_id</th>\n",
       "    </tr>\n",
       "    <tr>\n",
       "      <th>rec_id_1</th>\n",
       "      <th>rec_id_2</th>\n",
       "      <th></th>\n",
       "      <th></th>\n",
       "      <th></th>\n",
       "      <th></th>\n",
       "      <th></th>\n",
       "      <th></th>\n",
       "      <th></th>\n",
       "      <th></th>\n",
       "    </tr>\n",
       "  </thead>\n",
       "  <tbody>\n",
       "    <tr>\n",
       "      <th rowspan=\"5\" valign=\"top\">rec-1070-org</th>\n",
       "      <th>rec-2820-dup-0</th>\n",
       "      <td>0</td>\n",
       "      <td>0</td>\n",
       "      <td>0.638889</td>\n",
       "      <td>0.523810</td>\n",
       "      <td>0.410256</td>\n",
       "      <td>1.000000</td>\n",
       "      <td>0.571429</td>\n",
       "      <td>0.0</td>\n",
       "    </tr>\n",
       "    <tr>\n",
       "      <th>rec-684-dup-0</th>\n",
       "      <td>0</td>\n",
       "      <td>0</td>\n",
       "      <td>0.638889</td>\n",
       "      <td>0.642857</td>\n",
       "      <td>0.485897</td>\n",
       "      <td>1.000000</td>\n",
       "      <td>0.826840</td>\n",
       "      <td>0.0</td>\n",
       "    </tr>\n",
       "    <tr>\n",
       "      <th>rec-2942-dup-0</th>\n",
       "      <td>1</td>\n",
       "      <td>0</td>\n",
       "      <td>0.823810</td>\n",
       "      <td>0.642857</td>\n",
       "      <td>0.442002</td>\n",
       "      <td>1.000000</td>\n",
       "      <td>0.574481</td>\n",
       "      <td>0.0</td>\n",
       "    </tr>\n",
       "    <tr>\n",
       "      <th>rec-2283-dup-0</th>\n",
       "      <td>0</td>\n",
       "      <td>0</td>\n",
       "      <td>0.648148</td>\n",
       "      <td>0.676190</td>\n",
       "      <td>0.529915</td>\n",
       "      <td>0.000000</td>\n",
       "      <td>0.383117</td>\n",
       "      <td>0.0</td>\n",
       "    </tr>\n",
       "    <tr>\n",
       "      <th>rec-992-dup-0</th>\n",
       "      <td>0</td>\n",
       "      <td>0</td>\n",
       "      <td>0.583333</td>\n",
       "      <td>0.539683</td>\n",
       "      <td>0.646724</td>\n",
       "      <td>0.000000</td>\n",
       "      <td>0.515873</td>\n",
       "      <td>0.0</td>\n",
       "    </tr>\n",
       "    <tr>\n",
       "      <th>...</th>\n",
       "      <th>...</th>\n",
       "      <td>...</td>\n",
       "      <td>...</td>\n",
       "      <td>...</td>\n",
       "      <td>...</td>\n",
       "      <td>...</td>\n",
       "      <td>...</td>\n",
       "      <td>...</td>\n",
       "      <td>...</td>\n",
       "    </tr>\n",
       "    <tr>\n",
       "      <th>rec-3662-org</th>\n",
       "      <th>rec-3662-dup-0</th>\n",
       "      <td>1</td>\n",
       "      <td>1</td>\n",
       "      <td>1.000000</td>\n",
       "      <td>1.000000</td>\n",
       "      <td>1.000000</td>\n",
       "      <td>1.000000</td>\n",
       "      <td>1.000000</td>\n",
       "      <td>1.0</td>\n",
       "    </tr>\n",
       "    <tr>\n",
       "      <th>rec-705-org</th>\n",
       "      <th>rec-705-dup-0</th>\n",
       "      <td>0</td>\n",
       "      <td>1</td>\n",
       "      <td>0.893333</td>\n",
       "      <td>0.981818</td>\n",
       "      <td>0.975735</td>\n",
       "      <td>1.000000</td>\n",
       "      <td>0.442593</td>\n",
       "      <td>1.0</td>\n",
       "    </tr>\n",
       "    <tr>\n",
       "      <th>rec-2799-org</th>\n",
       "      <th>rec-705-dup-0</th>\n",
       "      <td>0</td>\n",
       "      <td>0</td>\n",
       "      <td>0.730000</td>\n",
       "      <td>0.396970</td>\n",
       "      <td>0.492157</td>\n",
       "      <td>0.666667</td>\n",
       "      <td>0.476068</td>\n",
       "      <td>0.0</td>\n",
       "    </tr>\n",
       "    <tr>\n",
       "      <th rowspan=\"2\" valign=\"top\">rec-1395-org</th>\n",
       "      <th>rec-1395-dup-0</th>\n",
       "      <td>1</td>\n",
       "      <td>1</td>\n",
       "      <td>1.000000</td>\n",
       "      <td>1.000000</td>\n",
       "      <td>0.981818</td>\n",
       "      <td>1.000000</td>\n",
       "      <td>1.000000</td>\n",
       "      <td>1.0</td>\n",
       "    </tr>\n",
       "    <tr>\n",
       "      <th>rec-511-dup-0</th>\n",
       "      <td>0</td>\n",
       "      <td>0</td>\n",
       "      <td>0.600000</td>\n",
       "      <td>0.455556</td>\n",
       "      <td>0.316667</td>\n",
       "      <td>1.000000</td>\n",
       "      <td>0.745299</td>\n",
       "      <td>0.0</td>\n",
       "    </tr>\n",
       "  </tbody>\n",
       "</table>\n",
       "<p>103510 rows × 8 columns</p>\n",
       "</div>"
      ],
      "text/plain": [
       "                             phonetic_given_name  phonetic_surname  \\\n",
       "rec_id_1     rec_id_2                                                \n",
       "rec-1070-org rec-2820-dup-0                    0                 0   \n",
       "             rec-684-dup-0                     0                 0   \n",
       "             rec-2942-dup-0                    1                 0   \n",
       "             rec-2283-dup-0                    0                 0   \n",
       "             rec-992-dup-0                     0                 0   \n",
       "...                                          ...               ...   \n",
       "rec-3662-org rec-3662-dup-0                    1                 1   \n",
       "rec-705-org  rec-705-dup-0                     0                 1   \n",
       "rec-2799-org rec-705-dup-0                     0                 0   \n",
       "rec-1395-org rec-1395-dup-0                    1                 1   \n",
       "             rec-511-dup-0                     0                 0   \n",
       "\n",
       "                             given_name   surname    suburb     state  \\\n",
       "rec_id_1     rec_id_2                                                   \n",
       "rec-1070-org rec-2820-dup-0    0.638889  0.523810  0.410256  1.000000   \n",
       "             rec-684-dup-0     0.638889  0.642857  0.485897  1.000000   \n",
       "             rec-2942-dup-0    0.823810  0.642857  0.442002  1.000000   \n",
       "             rec-2283-dup-0    0.648148  0.676190  0.529915  0.000000   \n",
       "             rec-992-dup-0     0.583333  0.539683  0.646724  0.000000   \n",
       "...                                 ...       ...       ...       ...   \n",
       "rec-3662-org rec-3662-dup-0    1.000000  1.000000  1.000000  1.000000   \n",
       "rec-705-org  rec-705-dup-0     0.893333  0.981818  0.975735  1.000000   \n",
       "rec-2799-org rec-705-dup-0     0.730000  0.396970  0.492157  0.666667   \n",
       "rec-1395-org rec-1395-dup-0    1.000000  1.000000  0.981818  1.000000   \n",
       "             rec-511-dup-0     0.600000  0.455556  0.316667  1.000000   \n",
       "\n",
       "                             address_1  soc_sec_id  \n",
       "rec_id_1     rec_id_2                               \n",
       "rec-1070-org rec-2820-dup-0   0.571429         0.0  \n",
       "             rec-684-dup-0    0.826840         0.0  \n",
       "             rec-2942-dup-0   0.574481         0.0  \n",
       "             rec-2283-dup-0   0.383117         0.0  \n",
       "             rec-992-dup-0    0.515873         0.0  \n",
       "...                                ...         ...  \n",
       "rec-3662-org rec-3662-dup-0   1.000000         1.0  \n",
       "rec-705-org  rec-705-dup-0    0.442593         1.0  \n",
       "rec-2799-org rec-705-dup-0    0.476068         0.0  \n",
       "rec-1395-org rec-1395-dup-0   1.000000         1.0  \n",
       "             rec-511-dup-0    0.745299         0.0  \n",
       "\n",
       "[103510 rows x 8 columns]"
      ]
     },
     "execution_count": 22,
     "metadata": {},
     "output_type": "execute_result"
    }
   ],
   "source": [
    "from recordlinkage import Compare\n",
    "compare = Compare()\n",
    "\n",
    "# Options for \"string\" method argument are \n",
    "# [‘jaro’, ‘jarowinkler’, ‘levenshtein’, ‘damerau_levenshtein’, \n",
    "# ‘qgram’, ‘cosine’, ‘smith_waterman’, ‘lcs’]. Default: ‘levenshtein’\n",
    "\n",
    "# Options for \"numeric\" method argument are \n",
    "# [‘step’, ‘linear’, ‘exp’, ‘gauss’ or ‘squared’]. Default ‘linear’.\n",
    "compare.exact('phonetic_given_name', 'phonetic_given_name', label=\"phonetic_given_name\")\n",
    "compare.exact('phonetic_surname', 'phonetic_surname', label='phonetic_surname')\n",
    "compare.string('given_name', 'given_name', method='jarowinkler', label=\"given_name\")\n",
    "compare.string('surname', 'surname', method='jarowinkler', label=\"surname\")\n",
    "compare.string('suburb', 'suburb', method='jarowinkler', label=\"suburb\")\n",
    "compare.string('state', 'state', method='jarowinkler', label=\"state\")\n",
    "compare.string('address_1', 'address_1', method='jarowinkler', label=\"address_1\")\n",
    "compare.numeric(\"soc_sec_id\",\"soc_sec_id\", label=\"soc_sec_id\")\n",
    "\n",
    "features = compare.compute(candidate_links, dfA, dfB)\n",
    "features"
   ]
  },
  {
   "cell_type": "markdown",
   "id": "ae0d4eb0-66e3-48dd-bbd5-924da37104af",
   "metadata": {},
   "source": [
    "## Logistic Regression <a class=\"anchor\" id=\"2\"></a>"
   ]
  },
  {
   "cell_type": "code",
   "execution_count": 23,
   "id": "Yoerm131MMC0",
   "metadata": {
    "id": "Yoerm131MMC0",
    "tags": []
   },
   "outputs": [],
   "source": [
    "features['Target']=features.index.isin(true_links)\n",
    "features['Target']=features['Target'].astype(int)"
   ]
  },
  {
   "cell_type": "code",
   "execution_count": 24,
   "id": "e8jr3agSMMFb",
   "metadata": {
    "colab": {
     "base_uri": "https://localhost:8080/",
     "height": 237
    },
    "id": "e8jr3agSMMFb",
    "outputId": "3c8a6066-16f3-4cec-ec61-da6c7338e420"
   },
   "outputs": [
    {
     "data": {
      "text/html": [
       "<div>\n",
       "<style scoped>\n",
       "    .dataframe tbody tr th:only-of-type {\n",
       "        vertical-align: middle;\n",
       "    }\n",
       "\n",
       "    .dataframe tbody tr th {\n",
       "        vertical-align: top;\n",
       "    }\n",
       "\n",
       "    .dataframe thead th {\n",
       "        text-align: right;\n",
       "    }\n",
       "</style>\n",
       "<table border=\"1\" class=\"dataframe\">\n",
       "  <thead>\n",
       "    <tr style=\"text-align: right;\">\n",
       "      <th></th>\n",
       "      <th></th>\n",
       "      <th>phonetic_given_name</th>\n",
       "      <th>phonetic_surname</th>\n",
       "      <th>given_name</th>\n",
       "      <th>surname</th>\n",
       "      <th>suburb</th>\n",
       "      <th>state</th>\n",
       "      <th>address_1</th>\n",
       "      <th>soc_sec_id</th>\n",
       "      <th>Target</th>\n",
       "    </tr>\n",
       "    <tr>\n",
       "      <th>rec_id_1</th>\n",
       "      <th>rec_id_2</th>\n",
       "      <th></th>\n",
       "      <th></th>\n",
       "      <th></th>\n",
       "      <th></th>\n",
       "      <th></th>\n",
       "      <th></th>\n",
       "      <th></th>\n",
       "      <th></th>\n",
       "      <th></th>\n",
       "    </tr>\n",
       "  </thead>\n",
       "  <tbody>\n",
       "    <tr>\n",
       "      <th rowspan=\"5\" valign=\"top\">rec-1070-org</th>\n",
       "      <th>rec-2820-dup-0</th>\n",
       "      <td>0</td>\n",
       "      <td>0</td>\n",
       "      <td>0.638889</td>\n",
       "      <td>0.523810</td>\n",
       "      <td>0.410256</td>\n",
       "      <td>1.0</td>\n",
       "      <td>0.571429</td>\n",
       "      <td>0.0</td>\n",
       "      <td>0</td>\n",
       "    </tr>\n",
       "    <tr>\n",
       "      <th>rec-684-dup-0</th>\n",
       "      <td>0</td>\n",
       "      <td>0</td>\n",
       "      <td>0.638889</td>\n",
       "      <td>0.642857</td>\n",
       "      <td>0.485897</td>\n",
       "      <td>1.0</td>\n",
       "      <td>0.826840</td>\n",
       "      <td>0.0</td>\n",
       "      <td>0</td>\n",
       "    </tr>\n",
       "    <tr>\n",
       "      <th>rec-2942-dup-0</th>\n",
       "      <td>1</td>\n",
       "      <td>0</td>\n",
       "      <td>0.823810</td>\n",
       "      <td>0.642857</td>\n",
       "      <td>0.442002</td>\n",
       "      <td>1.0</td>\n",
       "      <td>0.574481</td>\n",
       "      <td>0.0</td>\n",
       "      <td>0</td>\n",
       "    </tr>\n",
       "    <tr>\n",
       "      <th>rec-2283-dup-0</th>\n",
       "      <td>0</td>\n",
       "      <td>0</td>\n",
       "      <td>0.648148</td>\n",
       "      <td>0.676190</td>\n",
       "      <td>0.529915</td>\n",
       "      <td>0.0</td>\n",
       "      <td>0.383117</td>\n",
       "      <td>0.0</td>\n",
       "      <td>0</td>\n",
       "    </tr>\n",
       "    <tr>\n",
       "      <th>rec-992-dup-0</th>\n",
       "      <td>0</td>\n",
       "      <td>0</td>\n",
       "      <td>0.583333</td>\n",
       "      <td>0.539683</td>\n",
       "      <td>0.646724</td>\n",
       "      <td>0.0</td>\n",
       "      <td>0.515873</td>\n",
       "      <td>0.0</td>\n",
       "      <td>0</td>\n",
       "    </tr>\n",
       "  </tbody>\n",
       "</table>\n",
       "</div>"
      ],
      "text/plain": [
       "                             phonetic_given_name  phonetic_surname  \\\n",
       "rec_id_1     rec_id_2                                                \n",
       "rec-1070-org rec-2820-dup-0                    0                 0   \n",
       "             rec-684-dup-0                     0                 0   \n",
       "             rec-2942-dup-0                    1                 0   \n",
       "             rec-2283-dup-0                    0                 0   \n",
       "             rec-992-dup-0                     0                 0   \n",
       "\n",
       "                             given_name   surname    suburb  state  address_1  \\\n",
       "rec_id_1     rec_id_2                                                           \n",
       "rec-1070-org rec-2820-dup-0    0.638889  0.523810  0.410256    1.0   0.571429   \n",
       "             rec-684-dup-0     0.638889  0.642857  0.485897    1.0   0.826840   \n",
       "             rec-2942-dup-0    0.823810  0.642857  0.442002    1.0   0.574481   \n",
       "             rec-2283-dup-0    0.648148  0.676190  0.529915    0.0   0.383117   \n",
       "             rec-992-dup-0     0.583333  0.539683  0.646724    0.0   0.515873   \n",
       "\n",
       "                             soc_sec_id  Target  \n",
       "rec_id_1     rec_id_2                            \n",
       "rec-1070-org rec-2820-dup-0         0.0       0  \n",
       "             rec-684-dup-0          0.0       0  \n",
       "             rec-2942-dup-0         0.0       0  \n",
       "             rec-2283-dup-0         0.0       0  \n",
       "             rec-992-dup-0          0.0       0  "
      ]
     },
     "execution_count": 24,
     "metadata": {},
     "output_type": "execute_result"
    }
   ],
   "source": [
    "features.head()"
   ]
  },
  {
   "cell_type": "code",
   "execution_count": 25,
   "id": "F5gIEHkwMMIS",
   "metadata": {
    "colab": {
     "base_uri": "https://localhost:8080/"
    },
    "id": "F5gIEHkwMMIS",
    "outputId": "2b8334ae-8bb5-46aa-a42f-9e866a3cc007"
   },
   "outputs": [
    {
     "data": {
      "text/plain": [
       "0    99778\n",
       "1     3732\n",
       "Name: Target, dtype: int64"
      ]
     },
     "execution_count": 25,
     "metadata": {},
     "output_type": "execute_result"
    }
   ],
   "source": [
    "features['Target'].value_counts()"
   ]
  },
  {
   "cell_type": "code",
   "execution_count": 26,
   "id": "odchuY-CMMLM",
   "metadata": {
    "id": "odchuY-CMMLM"
   },
   "outputs": [],
   "source": [
    "data=features.reset_index(drop=True)"
   ]
  },
  {
   "cell_type": "code",
   "execution_count": 27,
   "id": "_MwNAP3XMMOQ",
   "metadata": {
    "id": "_MwNAP3XMMOQ"
   },
   "outputs": [],
   "source": [
    "X=data.drop(['Target'],axis=1)\n",
    "Y=data['Target']"
   ]
  },
  {
   "cell_type": "code",
   "execution_count": 28,
   "id": "zold1J2jMMQ8",
   "metadata": {
    "id": "zold1J2jMMQ8"
   },
   "outputs": [],
   "source": [
    "from sklearn.linear_model import LogisticRegression\n",
    "from sklearn.model_selection import train_test_split\n",
    "X_train,X_test,y_train,y_test=train_test_split(X,Y,random_state=42,test_size=0.2)"
   ]
  },
  {
   "cell_type": "code",
   "execution_count": 29,
   "id": "0YCgmLw0OdHq",
   "metadata": {
    "id": "0YCgmLw0OdHq"
   },
   "outputs": [],
   "source": [
    "lr=LogisticRegression(class_weight=\"balanced\")\n",
    "lr.fit(X_train,y_train)\n",
    "y_pred=lr.predict(X_train)\n",
    "y_pred1=lr.predict(X_test)"
   ]
  },
  {
   "cell_type": "code",
   "execution_count": 30,
   "id": "SqFI_d6OOkfo",
   "metadata": {
    "id": "SqFI_d6OOkfo"
   },
   "outputs": [],
   "source": [
    "from sklearn.metrics import confusion_matrix, accuracy_score, classification_report"
   ]
  },
  {
   "cell_type": "code",
   "execution_count": 31,
   "id": "RgicvHJ6PN7C",
   "metadata": {
    "colab": {
     "base_uri": "https://localhost:8080/"
    },
    "id": "RgicvHJ6PN7C",
    "outputId": "f6ff4277-9108-439e-b90f-39af088f8ba6"
   },
   "outputs": [
    {
     "name": "stdout",
     "output_type": "stream",
     "text": [
      "              precision    recall  f1-score   support\n",
      "\n",
      "           0       1.00      1.00      1.00     19930\n",
      "           1       1.00      0.97      0.98       772\n",
      "\n",
      "    accuracy                           1.00     20702\n",
      "   macro avg       1.00      0.99      0.99     20702\n",
      "weighted avg       1.00      1.00      1.00     20702\n",
      "\n"
     ]
    }
   ],
   "source": [
    "print(classification_report(y_pred1,y_test))"
   ]
  },
  {
   "cell_type": "code",
   "execution_count": 32,
   "id": "ihrKZn2uPRdW",
   "metadata": {
    "colab": {
     "base_uri": "https://localhost:8080/",
     "height": 282
    },
    "id": "ihrKZn2uPRdW",
    "outputId": "30c42632-bd70-4f8f-83cc-3882c308c8d8"
   },
   "outputs": [
    {
     "data": {
      "text/plain": [
       "<AxesSubplot:>"
      ]
     },
     "execution_count": 32,
     "metadata": {},
     "output_type": "execute_result"
    },
    {
     "data": {
      "image/png": "[encoded data removed]",
      "text/plain": [
       "<Figure size 432x288 with 2 Axes>"
      ]
     },
     "metadata": {
      "needs_background": "light"
     },
     "output_type": "display_data"
    }
   ],
   "source": [
    "cm=confusion_matrix(y_test,y_pred1)\n",
    "import seaborn as sns\n",
    "sns.heatmap(cm/len(y_test),annot=True)"
   ]
  },
  {
   "cell_type": "code",
   "execution_count": 33,
   "id": "L6YJgIRWPVu3",
   "metadata": {
    "id": "L6YJgIRWPVu3"
   },
   "outputs": [],
   "source": [
    "coef=lr.coef_\n",
    "import numpy as np\n",
    "coef=np.squeeze(coef, axis=0)\n",
    "labels=list(X_train.columns)\n",
    "Features=pd.DataFrame()\n",
    "Features['Names']=labels\n",
    "Features['Weights']=coef\n",
    "Features.sort_values(by=['Weights'],inplace=True,ascending=False)"
   ]
  },
  {
   "cell_type": "code",
   "execution_count": 34,
   "id": "hXJVB2lMP_h6",
   "metadata": {
    "colab": {
     "base_uri": "https://localhost:8080/",
     "height": 300
    },
    "id": "hXJVB2lMP_h6",
    "outputId": "c957af7c-6b36-4ccd-87f5-52883d645701"
   },
   "outputs": [
    {
     "data": {
      "text/html": [
       "<div>\n",
       "<style scoped>\n",
       "    .dataframe tbody tr th:only-of-type {\n",
       "        vertical-align: middle;\n",
       "    }\n",
       "\n",
       "    .dataframe tbody tr th {\n",
       "        vertical-align: top;\n",
       "    }\n",
       "\n",
       "    .dataframe thead th {\n",
       "        text-align: right;\n",
       "    }\n",
       "</style>\n",
       "<table border=\"1\" class=\"dataframe\">\n",
       "  <thead>\n",
       "    <tr style=\"text-align: right;\">\n",
       "      <th></th>\n",
       "      <th>Names</th>\n",
       "      <th>Weights</th>\n",
       "    </tr>\n",
       "  </thead>\n",
       "  <tbody>\n",
       "    <tr>\n",
       "      <th>7</th>\n",
       "      <td>soc_sec_id</td>\n",
       "      <td>9.795109</td>\n",
       "    </tr>\n",
       "    <tr>\n",
       "      <th>4</th>\n",
       "      <td>suburb</td>\n",
       "      <td>7.000827</td>\n",
       "    </tr>\n",
       "    <tr>\n",
       "      <th>2</th>\n",
       "      <td>given_name</td>\n",
       "      <td>6.704811</td>\n",
       "    </tr>\n",
       "    <tr>\n",
       "      <th>6</th>\n",
       "      <td>address_1</td>\n",
       "      <td>5.481709</td>\n",
       "    </tr>\n",
       "    <tr>\n",
       "      <th>3</th>\n",
       "      <td>surname</td>\n",
       "      <td>5.247982</td>\n",
       "    </tr>\n",
       "    <tr>\n",
       "      <th>5</th>\n",
       "      <td>state</td>\n",
       "      <td>3.918714</td>\n",
       "    </tr>\n",
       "    <tr>\n",
       "      <th>1</th>\n",
       "      <td>phonetic_surname</td>\n",
       "      <td>2.472812</td>\n",
       "    </tr>\n",
       "    <tr>\n",
       "      <th>0</th>\n",
       "      <td>phonetic_given_name</td>\n",
       "      <td>1.712121</td>\n",
       "    </tr>\n",
       "  </tbody>\n",
       "</table>\n",
       "</div>"
      ],
      "text/plain": [
       "                 Names   Weights\n",
       "7           soc_sec_id  9.795109\n",
       "4               suburb  7.000827\n",
       "2           given_name  6.704811\n",
       "6            address_1  5.481709\n",
       "3              surname  5.247982\n",
       "5                state  3.918714\n",
       "1     phonetic_surname  2.472812\n",
       "0  phonetic_given_name  1.712121"
      ]
     },
     "execution_count": 34,
     "metadata": {},
     "output_type": "execute_result"
    }
   ],
   "source": [
    "Features"
   ]
  }
 ],
 "metadata": {
  "colab": {
   "collapsed_sections": [],
   "name": "Record Linkage- Logistic Regression",
   "provenance": []
  },
  "kernelspec": {
   "display_name": "Python 3 (ipykernel)",
   "language": "python",
   "name": "python3"
  },
  "language_info": {
   "codemirror_mode": {
    "name": "ipython",
    "version": 3
   },
   "file_extension": ".py",
   "mimetype": "text/x-python",
   "name": "python",
   "nbconvert_exporter": "python",
   "pygments_lexer": "ipython3",
   "version": "3.9.7"
  }
 },
 "nbformat": 4,
 "nbformat_minor": 5
}
