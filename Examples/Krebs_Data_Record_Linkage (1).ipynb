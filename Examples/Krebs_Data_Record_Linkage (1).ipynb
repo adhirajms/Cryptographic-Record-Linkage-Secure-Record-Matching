{
  "nbformat": 4,
  "nbformat_minor": 0,
  "metadata": {
    "colab": {
      "name": "Krebs Data Record Linkage.ipynb",
      "provenance": [],
      "collapsed_sections": []
    },
    "kernelspec": {
      "name": "python3",
      "display_name": "Python 3"
    },
    "language_info": {
      "name": "python"
    }
  },
  "cells": [
    {
      "cell_type": "markdown",
      "source": [
        "## **Table of Contents:**\n",
        "* [Kerbs Data](#1)\n",
        "* [Gradient Boosting](#2)\n",
        "* [Model on Fake Data](#3)"
      ],
      "metadata": {
        "id": "G0io-csxIGgM"
      }
    },
    {
      "cell_type": "code",
      "source": [
        "pip install recordlinkage"
      ],
      "metadata": {
        "colab": {
          "base_uri": "https://localhost:8080/"
        },
        "id": "d4kgNtC8IIug",
        "outputId": "be351c3c-eec2-45b5-b470-c54bfb470734"
      },
      "execution_count": 6,
      "outputs": [
        {
          "output_type": "stream",
          "name": "stdout",
          "text": [
            "Requirement already satisfied: recordlinkage in /usr/local/lib/python3.7/dist-packages (0.15)\n",
            "Requirement already satisfied: joblib in /usr/local/lib/python3.7/dist-packages (from recordlinkage) (1.1.0)\n",
            "Requirement already satisfied: numpy>=1.13.0 in /usr/local/lib/python3.7/dist-packages (from recordlinkage) (1.21.6)\n",
            "Requirement already satisfied: pandas<2,>=1 in /usr/local/lib/python3.7/dist-packages (from recordlinkage) (1.3.5)\n",
            "Requirement already satisfied: scikit-learn>=0.19.0 in /usr/local/lib/python3.7/dist-packages (from recordlinkage) (1.0.2)\n",
            "Requirement already satisfied: scipy>=1 in /usr/local/lib/python3.7/dist-packages (from recordlinkage) (1.4.1)\n",
            "Requirement already satisfied: jellyfish>=0.8.0 in /usr/local/lib/python3.7/dist-packages (from recordlinkage) (0.9.0)\n",
            "Requirement already satisfied: pytz>=2017.3 in /usr/local/lib/python3.7/dist-packages (from pandas<2,>=1->recordlinkage) (2022.1)\n",
            "Requirement already satisfied: python-dateutil>=2.7.3 in /usr/local/lib/python3.7/dist-packages (from pandas<2,>=1->recordlinkage) (2.8.2)\n",
            "Requirement already satisfied: six>=1.5 in /usr/local/lib/python3.7/dist-packages (from python-dateutil>=2.7.3->pandas<2,>=1->recordlinkage) (1.15.0)\n",
            "Requirement already satisfied: threadpoolctl>=2.0.0 in /usr/local/lib/python3.7/dist-packages (from scikit-learn>=0.19.0->recordlinkage) (3.1.0)\n"
          ]
        }
      ]
    },
    {
      "cell_type": "code",
      "source": [
        "import recordlinkage\n",
        "import pandas as pd"
      ],
      "metadata": {
        "id": "6BGFUK4N-RyG"
      },
      "execution_count": 7,
      "outputs": []
    },
    {
      "cell_type": "code",
      "source": [
        "from recordlinkage.datasets import load_krebsregister\n",
        "krebs_data, krebs_match =load_krebsregister()"
      ],
      "metadata": {
        "id": "UvDWM5Zz-SU6"
      },
      "execution_count": 8,
      "outputs": []
    },
    {
      "cell_type": "markdown",
      "source": [
        "## Kerbs Data <a name=\"1\"></a>"
      ],
      "metadata": {
        "id": "ZzrQvg3PIS_O"
      }
    },
    {
      "cell_type": "code",
      "source": [
        "krebs_data.head(10)"
      ],
      "metadata": {
        "colab": {
          "base_uri": "https://localhost:8080/",
          "height": 394
        },
        "id": "b--G2lSU-SXq",
        "outputId": "4309dd5a-8fe1-4d7d-862c-92da9a886976"
      },
      "execution_count": 9,
      "outputs": [
        {
          "output_type": "execute_result",
          "data": {
            "text/plain": [
              "             cmp_firstname1  cmp_firstname2  cmp_lastname1  cmp_lastname2  \\\n",
              "id1   id2                                                                   \n",
              "22161 38467        1.000000             NaN       0.142857            NaN   \n",
              "38713 75352        0.000000             NaN       0.571429            NaN   \n",
              "13699 32825        0.166667             NaN       0.000000            NaN   \n",
              "22709 37682        0.285714             NaN       1.000000            NaN   \n",
              "2342  69060        0.250000             NaN       0.125000            NaN   \n",
              "49596 92145        1.000000             NaN       0.000000            NaN   \n",
              "13092 95695        1.000000             NaN       0.142857            NaN   \n",
              "1151  45872        0.400000             NaN       0.555556            NaN   \n",
              "1732  38913        0.444444             NaN       1.000000            NaN   \n",
              "2708  48237        1.000000             NaN       0.000000            NaN   \n",
              "\n",
              "             cmp_sex  cmp_birthday  cmp_birthmonth  cmp_birthyear  cmp_zipcode  \n",
              "id1   id2                                                                       \n",
              "22161 38467        1           0.0             1.0            0.0          0.0  \n",
              "38713 75352        1           0.0             0.0            0.0          0.0  \n",
              "13699 32825        0           1.0             1.0            1.0          0.0  \n",
              "22709 37682        1           0.0             0.0            0.0          0.0  \n",
              "2342  69060        1           1.0             1.0            1.0          0.0  \n",
              "49596 92145        1           0.0             1.0            0.0          0.0  \n",
              "13092 95695        1           0.0             0.0            1.0          0.0  \n",
              "1151  45872        1           0.0             1.0            0.0          0.0  \n",
              "1732  38913        1           0.0             1.0            0.0          1.0  \n",
              "2708  48237        1           0.0             1.0            0.0          0.0  "
            ],
            "text/html": [
              "\n",
              "  <div id=\"df-e55f8a01-ec1b-46c1-8516-7be7bd0996e8\">\n",
              "    <div class=\"colab-df-container\">\n",
              "      <div>\n",
              "<style scoped>\n",
              "    .dataframe tbody tr th:only-of-type {\n",
              "        vertical-align: middle;\n",
              "    }\n",
              "\n",
              "    .dataframe tbody tr th {\n",
              "        vertical-align: top;\n",
              "    }\n",
              "\n",
              "    .dataframe thead th {\n",
              "        text-align: right;\n",
              "    }\n",
              "</style>\n",
              "<table border=\"1\" class=\"dataframe\">\n",
              "  <thead>\n",
              "    <tr style=\"text-align: right;\">\n",
              "      <th></th>\n",
              "      <th></th>\n",
              "      <th>cmp_firstname1</th>\n",
              "      <th>cmp_firstname2</th>\n",
              "      <th>cmp_lastname1</th>\n",
              "      <th>cmp_lastname2</th>\n",
              "      <th>cmp_sex</th>\n",
              "      <th>cmp_birthday</th>\n",
              "      <th>cmp_birthmonth</th>\n",
              "      <th>cmp_birthyear</th>\n",
              "      <th>cmp_zipcode</th>\n",
              "    </tr>\n",
              "    <tr>\n",
              "      <th>id1</th>\n",
              "      <th>id2</th>\n",
              "      <th></th>\n",
              "      <th></th>\n",
              "      <th></th>\n",
              "      <th></th>\n",
              "      <th></th>\n",
              "      <th></th>\n",
              "      <th></th>\n",
              "      <th></th>\n",
              "      <th></th>\n",
              "    </tr>\n",
              "  </thead>\n",
              "  <tbody>\n",
              "    <tr>\n",
              "      <th>22161</th>\n",
              "      <th>38467</th>\n",
              "      <td>1.000000</td>\n",
              "      <td>NaN</td>\n",
              "      <td>0.142857</td>\n",
              "      <td>NaN</td>\n",
              "      <td>1</td>\n",
              "      <td>0.0</td>\n",
              "      <td>1.0</td>\n",
              "      <td>0.0</td>\n",
              "      <td>0.0</td>\n",
              "    </tr>\n",
              "    <tr>\n",
              "      <th>38713</th>\n",
              "      <th>75352</th>\n",
              "      <td>0.000000</td>\n",
              "      <td>NaN</td>\n",
              "      <td>0.571429</td>\n",
              "      <td>NaN</td>\n",
              "      <td>1</td>\n",
              "      <td>0.0</td>\n",
              "      <td>0.0</td>\n",
              "      <td>0.0</td>\n",
              "      <td>0.0</td>\n",
              "    </tr>\n",
              "    <tr>\n",
              "      <th>13699</th>\n",
              "      <th>32825</th>\n",
              "      <td>0.166667</td>\n",
              "      <td>NaN</td>\n",
              "      <td>0.000000</td>\n",
              "      <td>NaN</td>\n",
              "      <td>0</td>\n",
              "      <td>1.0</td>\n",
              "      <td>1.0</td>\n",
              "      <td>1.0</td>\n",
              "      <td>0.0</td>\n",
              "    </tr>\n",
              "    <tr>\n",
              "      <th>22709</th>\n",
              "      <th>37682</th>\n",
              "      <td>0.285714</td>\n",
              "      <td>NaN</td>\n",
              "      <td>1.000000</td>\n",
              "      <td>NaN</td>\n",
              "      <td>1</td>\n",
              "      <td>0.0</td>\n",
              "      <td>0.0</td>\n",
              "      <td>0.0</td>\n",
              "      <td>0.0</td>\n",
              "    </tr>\n",
              "    <tr>\n",
              "      <th>2342</th>\n",
              "      <th>69060</th>\n",
              "      <td>0.250000</td>\n",
              "      <td>NaN</td>\n",
              "      <td>0.125000</td>\n",
              "      <td>NaN</td>\n",
              "      <td>1</td>\n",
              "      <td>1.0</td>\n",
              "      <td>1.0</td>\n",
              "      <td>1.0</td>\n",
              "      <td>0.0</td>\n",
              "    </tr>\n",
              "    <tr>\n",
              "      <th>49596</th>\n",
              "      <th>92145</th>\n",
              "      <td>1.000000</td>\n",
              "      <td>NaN</td>\n",
              "      <td>0.000000</td>\n",
              "      <td>NaN</td>\n",
              "      <td>1</td>\n",
              "      <td>0.0</td>\n",
              "      <td>1.0</td>\n",
              "      <td>0.0</td>\n",
              "      <td>0.0</td>\n",
              "    </tr>\n",
              "    <tr>\n",
              "      <th>13092</th>\n",
              "      <th>95695</th>\n",
              "      <td>1.000000</td>\n",
              "      <td>NaN</td>\n",
              "      <td>0.142857</td>\n",
              "      <td>NaN</td>\n",
              "      <td>1</td>\n",
              "      <td>0.0</td>\n",
              "      <td>0.0</td>\n",
              "      <td>1.0</td>\n",
              "      <td>0.0</td>\n",
              "    </tr>\n",
              "    <tr>\n",
              "      <th>1151</th>\n",
              "      <th>45872</th>\n",
              "      <td>0.400000</td>\n",
              "      <td>NaN</td>\n",
              "      <td>0.555556</td>\n",
              "      <td>NaN</td>\n",
              "      <td>1</td>\n",
              "      <td>0.0</td>\n",
              "      <td>1.0</td>\n",
              "      <td>0.0</td>\n",
              "      <td>0.0</td>\n",
              "    </tr>\n",
              "    <tr>\n",
              "      <th>1732</th>\n",
              "      <th>38913</th>\n",
              "      <td>0.444444</td>\n",
              "      <td>NaN</td>\n",
              "      <td>1.000000</td>\n",
              "      <td>NaN</td>\n",
              "      <td>1</td>\n",
              "      <td>0.0</td>\n",
              "      <td>1.0</td>\n",
              "      <td>0.0</td>\n",
              "      <td>1.0</td>\n",
              "    </tr>\n",
              "    <tr>\n",
              "      <th>2708</th>\n",
              "      <th>48237</th>\n",
              "      <td>1.000000</td>\n",
              "      <td>NaN</td>\n",
              "      <td>0.000000</td>\n",
              "      <td>NaN</td>\n",
              "      <td>1</td>\n",
              "      <td>0.0</td>\n",
              "      <td>1.0</td>\n",
              "      <td>0.0</td>\n",
              "      <td>0.0</td>\n",
              "    </tr>\n",
              "  </tbody>\n",
              "</table>\n",
              "</div>\n",
              "      <button class=\"colab-df-convert\" onclick=\"convertToInteractive('df-e55f8a01-ec1b-46c1-8516-7be7bd0996e8')\"\n",
              "              title=\"Convert this dataframe to an interactive table.\"\n",
              "              style=\"display:none;\">\n",
              "        \n",
              "  <svg xmlns=\"http://www.w3.org/2000/svg\" height=\"24px\"viewBox=\"0 0 24 24\"\n",
              "       width=\"24px\">\n",
              "    <path d=\"M0 0h24v24H0V0z\" fill=\"none\"/>\n",
              "    <path d=\"M18.56 5.44l.94 2.06.94-2.06 2.06-.94-2.06-.94-.94-2.06-.94 2.06-2.06.94zm-11 1L8.5 8.5l.94-2.06 2.06-.94-2.06-.94L8.5 2.5l-.94 2.06-2.06.94zm10 10l.94 2.06.94-2.06 2.06-.94-2.06-.94-.94-2.06-.94 2.06-2.06.94z\"/><path d=\"M17.41 7.96l-1.37-1.37c-.4-.4-.92-.59-1.43-.59-.52 0-1.04.2-1.43.59L10.3 9.45l-7.72 7.72c-.78.78-.78 2.05 0 2.83L4 21.41c.39.39.9.59 1.41.59.51 0 1.02-.2 1.41-.59l7.78-7.78 2.81-2.81c.8-.78.8-2.07 0-2.86zM5.41 20L4 18.59l7.72-7.72 1.47 1.35L5.41 20z\"/>\n",
              "  </svg>\n",
              "      </button>\n",
              "      \n",
              "  <style>\n",
              "    .colab-df-container {\n",
              "      display:flex;\n",
              "      flex-wrap:wrap;\n",
              "      gap: 12px;\n",
              "    }\n",
              "\n",
              "    .colab-df-convert {\n",
              "      background-color: #E8F0FE;\n",
              "      border: none;\n",
              "      border-radius: 50%;\n",
              "      cursor: pointer;\n",
              "      display: none;\n",
              "      fill: #1967D2;\n",
              "      height: 32px;\n",
              "      padding: 0 0 0 0;\n",
              "      width: 32px;\n",
              "    }\n",
              "\n",
              "    .colab-df-convert:hover {\n",
              "      background-color: #E2EBFA;\n",
              "      box-shadow: 0px 1px 2px rgba(60, 64, 67, 0.3), 0px 1px 3px 1px rgba(60, 64, 67, 0.15);\n",
              "      fill: #174EA6;\n",
              "    }\n",
              "\n",
              "    [theme=dark] .colab-df-convert {\n",
              "      background-color: #3B4455;\n",
              "      fill: #D2E3FC;\n",
              "    }\n",
              "\n",
              "    [theme=dark] .colab-df-convert:hover {\n",
              "      background-color: #434B5C;\n",
              "      box-shadow: 0px 1px 3px 1px rgba(0, 0, 0, 0.15);\n",
              "      filter: drop-shadow(0px 1px 2px rgba(0, 0, 0, 0.3));\n",
              "      fill: #FFFFFF;\n",
              "    }\n",
              "  </style>\n",
              "\n",
              "      <script>\n",
              "        const buttonEl =\n",
              "          document.querySelector('#df-e55f8a01-ec1b-46c1-8516-7be7bd0996e8 button.colab-df-convert');\n",
              "        buttonEl.style.display =\n",
              "          google.colab.kernel.accessAllowed ? 'block' : 'none';\n",
              "\n",
              "        async function convertToInteractive(key) {\n",
              "          const element = document.querySelector('#df-e55f8a01-ec1b-46c1-8516-7be7bd0996e8');\n",
              "          const dataTable =\n",
              "            await google.colab.kernel.invokeFunction('convertToInteractive',\n",
              "                                                     [key], {});\n",
              "          if (!dataTable) return;\n",
              "\n",
              "          const docLinkHtml = 'Like what you see? Visit the ' +\n",
              "            '<a target=\"_blank\" href=https://colab.research.google.com/notebooks/data_table.ipynb>data table notebook</a>'\n",
              "            + ' to learn more about interactive tables.';\n",
              "          element.innerHTML = '';\n",
              "          dataTable['output_type'] = 'display_data';\n",
              "          await google.colab.output.renderOutput(dataTable, element);\n",
              "          const docLink = document.createElement('div');\n",
              "          docLink.innerHTML = docLinkHtml;\n",
              "          element.appendChild(docLink);\n",
              "        }\n",
              "      </script>\n",
              "    </div>\n",
              "  </div>\n",
              "  "
            ]
          },
          "metadata": {},
          "execution_count": 9
        }
      ]
    },
    {
      "cell_type": "code",
      "source": [
        "krebs_data.info()"
      ],
      "metadata": {
        "colab": {
          "base_uri": "https://localhost:8080/"
        },
        "id": "OfmNZNdm-Sag",
        "outputId": "5dec8305-440c-4c3d-9814-1f9ec683f947"
      },
      "execution_count": 10,
      "outputs": [
        {
          "output_type": "stream",
          "name": "stdout",
          "text": [
            "<class 'pandas.core.frame.DataFrame'>\n",
            "MultiIndex: 5749132 entries, (22161, 38467) to (11651, 57925)\n",
            "Data columns (total 9 columns):\n",
            " #   Column          Dtype  \n",
            "---  ------          -----  \n",
            " 0   cmp_firstname1  float64\n",
            " 1   cmp_firstname2  float64\n",
            " 2   cmp_lastname1   float64\n",
            " 3   cmp_lastname2   float64\n",
            " 4   cmp_sex         int64  \n",
            " 5   cmp_birthday    float64\n",
            " 6   cmp_birthmonth  float64\n",
            " 7   cmp_birthyear   float64\n",
            " 8   cmp_zipcode     float64\n",
            "dtypes: float64(8), int64(1)\n",
            "memory usage: 444.1 MB\n"
          ]
        }
      ]
    },
    {
      "cell_type": "code",
      "source": [
        "krebs_data.isna().sum()"
      ],
      "metadata": {
        "colab": {
          "base_uri": "https://localhost:8080/"
        },
        "id": "nh5FDJDU-SdW",
        "outputId": "7a923e29-c1e4-47bd-cf4e-b31c48970ea2"
      },
      "execution_count": 11,
      "outputs": [
        {
          "output_type": "execute_result",
          "data": {
            "text/plain": [
              "cmp_firstname1       1007\n",
              "cmp_firstname2    5645434\n",
              "cmp_lastname1           0\n",
              "cmp_lastname2     5746668\n",
              "cmp_sex                 0\n",
              "cmp_birthday          795\n",
              "cmp_birthmonth        795\n",
              "cmp_birthyear         795\n",
              "cmp_zipcode         12843\n",
              "dtype: int64"
            ]
          },
          "metadata": {},
          "execution_count": 11
        }
      ]
    },
    {
      "cell_type": "code",
      "source": [
        "#as cmp_firstname2,cmp_lastname2 is empty for the major portion dropping it\n",
        "krebs_data.drop(['cmp_firstname2','cmp_lastname2'],axis=1,inplace=True)"
      ],
      "metadata": {
        "id": "ZmL0z_kY-SgU"
      },
      "execution_count": 12,
      "outputs": []
    },
    {
      "cell_type": "code",
      "source": [
        "krebs_data.dropna(inplace=True)"
      ],
      "metadata": {
        "id": "IHm_NB-e-SjS"
      },
      "execution_count": 13,
      "outputs": []
    },
    {
      "cell_type": "code",
      "source": [
        "krebs_data.isna().sum()\n"
      ],
      "metadata": {
        "colab": {
          "base_uri": "https://localhost:8080/"
        },
        "id": "QhbPN3T_-SmN",
        "outputId": "5c401d71-9357-41f1-972d-9c9515e3633c"
      },
      "execution_count": 14,
      "outputs": [
        {
          "output_type": "execute_result",
          "data": {
            "text/plain": [
              "cmp_firstname1    0\n",
              "cmp_lastname1     0\n",
              "cmp_sex           0\n",
              "cmp_birthday      0\n",
              "cmp_birthmonth    0\n",
              "cmp_birthyear     0\n",
              "cmp_zipcode       0\n",
              "dtype: int64"
            ]
          },
          "metadata": {},
          "execution_count": 14
        }
      ]
    },
    {
      "cell_type": "code",
      "source": [
        "krebs_data.cmp_zipcode.value_counts()"
      ],
      "metadata": {
        "colab": {
          "base_uri": "https://localhost:8080/"
        },
        "id": "pKplz-nOGTuN",
        "outputId": "15b58a21-4133-494d-ecd4-a0cdfe5fb97e"
      },
      "execution_count": 15,
      "outputs": [
        {
          "output_type": "execute_result",
          "data": {
            "text/plain": [
              "0.0    5702786\n",
              "1.0      31702\n",
              "Name: cmp_zipcode, dtype: int64"
            ]
          },
          "metadata": {},
          "execution_count": 15
        }
      ]
    },
    {
      "cell_type": "code",
      "source": [
        "krebs_data['Target']=krebs_data.index.isin(krebs_match)\n",
        "krebs_data['Target']=krebs_data['Target'].astype(int)\n",
        "\n",
        "data=krebs_data.reset_index(drop=True)\n",
        "X=data.drop(['Target'],axis=1)\n",
        "Y=data['Target']"
      ],
      "metadata": {
        "id": "9GBrPV4Q-SpZ"
      },
      "execution_count": 16,
      "outputs": []
    },
    {
      "cell_type": "markdown",
      "source": [
        "## Gradient Boosting <a name=\"2\"></a>"
      ],
      "metadata": {
        "id": "bX5f7VK0IWki"
      }
    },
    {
      "cell_type": "code",
      "source": [
        "from sklearn.linear_model import LogisticRegression\n",
        "from sklearn.model_selection import train_test_split\n",
        "X_train,X_test,y_train,y_test=train_test_split(X,Y,random_state=42,test_size=0.2)\n",
        "\n",
        "\n",
        "from sklearn.ensemble import GradientBoostingClassifier\n",
        "clf = GradientBoostingClassifier(n_estimators=100, learning_rate=0.1,max_depth=3, random_state=42).fit(X_train, y_train)"
      ],
      "metadata": {
        "id": "tbkS4VUK-Sse"
      },
      "execution_count": 17,
      "outputs": []
    },
    {
      "cell_type": "code",
      "source": [
        "from sklearn.metrics import confusion_matrix, accuracy_score, classification_report\n",
        "y_pred=clf.predict(X_test)\n",
        "print(classification_report(y_pred,y_test))"
      ],
      "metadata": {
        "colab": {
          "base_uri": "https://localhost:8080/"
        },
        "id": "PYPpSySr-Svc",
        "outputId": "e9dca304-edec-4dea-835f-a2fc05d8817d"
      },
      "execution_count": 18,
      "outputs": [
        {
          "output_type": "stream",
          "name": "stdout",
          "text": [
            "              precision    recall  f1-score   support\n",
            "\n",
            "           0       1.00      1.00      1.00   1142811\n",
            "           1       1.00      1.00      1.00      4087\n",
            "\n",
            "    accuracy                           1.00   1146898\n",
            "   macro avg       1.00      1.00      1.00   1146898\n",
            "weighted avg       1.00      1.00      1.00   1146898\n",
            "\n"
          ]
        }
      ]
    },
    {
      "cell_type": "code",
      "source": [
        "import matplotlib.pyplot as plt\n",
        "\n",
        "print(clf.feature_importances_)\n",
        "\n",
        "plt.figure(figsize=(15, 6), dpi=80)\n",
        "plt.bar(list(X_train.columns), clf.feature_importances_)\n",
        "plt.show()"
      ],
      "metadata": {
        "colab": {
          "base_uri": "https://localhost:8080/",
          "height": 449
        },
        "id": "1wj4EO6g-Syp",
        "outputId": "5b9b49d9-0d53-4e0f-bfe9-c37761d5820e"
      },
      "execution_count": 19,
      "outputs": [
        {
          "output_type": "stream",
          "name": "stdout",
          "text": [
            "[3.56516525e-03 8.36888718e-02 8.60890101e-07 3.43351685e-01\n",
            " 2.57256057e-02 5.27954093e-03 5.38388270e-01]\n"
          ]
        },
        {
          "output_type": "display_data",
          "data": {
            "text/plain": [
              "<Figure size 1200x480 with 1 Axes>"
            ],
            "image/png": "[encoded data removed]"
          },
          "metadata": {
            "needs_background": "light"
          }
        }
      ]
    },
    {
      "cell_type": "code",
      "source": [
        "pip install Faker"
      ],
      "metadata": {
        "colab": {
          "base_uri": "https://localhost:8080/"
        },
        "id": "3Sx8DVVO-S1P",
        "outputId": "d59f8821-5bc9-4f0b-a43d-3c2387cf8e15"
      },
      "execution_count": 20,
      "outputs": [
        {
          "output_type": "stream",
          "name": "stdout",
          "text": [
            "Collecting Faker\n",
            "  Downloading Faker-13.11.0-py3-none-any.whl (1.5 MB)\n",
            "\u001b[K     |████████████████████████████████| 1.5 MB 5.2 MB/s \n",
            "\u001b[?25hRequirement already satisfied: typing-extensions>=3.10.0.2 in /usr/local/lib/python3.7/dist-packages (from Faker) (4.2.0)\n",
            "Requirement already satisfied: python-dateutil>=2.4 in /usr/local/lib/python3.7/dist-packages (from Faker) (2.8.2)\n",
            "Requirement already satisfied: six>=1.5 in /usr/local/lib/python3.7/dist-packages (from python-dateutil>=2.4->Faker) (1.15.0)\n",
            "Installing collected packages: Faker\n",
            "Successfully installed Faker-13.11.0\n"
          ]
        }
      ]
    },
    {
      "cell_type": "markdown",
      "source": [
        "## Model on Fake Data <a name=\"3\"></a>"
      ],
      "metadata": {
        "id": "1GGOgoLkIe6t"
      }
    },
    {
      "cell_type": "code",
      "source": [
        "from faker import Faker\n",
        "fake = Faker(42)\n",
        "import datetime\n",
        "import random\n",
        "start_date = datetime.date(1920, 1, 1)\n",
        "end_date = datetime.date(2000, 1, 1)\n",
        "\n",
        "time_between_dates = end_date - start_date\n",
        "days_between_dates = time_between_dates.days\n",
        "random_number_of_days = random.randrange(days_between_dates)\n",
        "def data_creation(entries):\n",
        "    cmp_firstname1 = []\n",
        "    cmp_lastname1 = []\n",
        "    cmp_sex=[]\n",
        "    cmp_birthday=[]\n",
        "    cmp_birthmonth=[]\n",
        "    cmp_birthyear=[]\n",
        "    cmp_zipcode = []\n",
        "    \n",
        "    for q in range(entries):\n",
        "        cmp_firstname1.append(fake.first_name())\n",
        "        cmp_lastname1.append(fake.last_name())\n",
        "        cmp_sex.append(random.randint(0, 1))\n",
        "        random_number_of_days = random.randrange(days_between_dates)\n",
        "        random_date = start_date + datetime.timedelta(days=random_number_of_days)\n",
        "        cmp_birthday.append(random_date.day)\n",
        "        cmp_birthmonth.append(random_date.month)\n",
        "        cmp_birthyear.append(random_date.year)\n",
        "        cmp_zipcode.append(fake.postcode())\n",
        "\n",
        "        \n",
        "    df = pd.DataFrame(list(zip(cmp_firstname1, cmp_lastname1, cmp_sex, cmp_birthday, cmp_birthmonth, cmp_birthyear,  cmp_zipcode)), \n",
        "                      columns= ['cmp_firstname1', 'cmp_lastname1', 'cmp_sex', 'cmp_birthday', 'cmp_birthmonth', 'cmp_birthyear',  'cmp_zipcode'])\n",
        "    return df"
      ],
      "metadata": {
        "id": "nyA9Y8vnAD1T"
      },
      "execution_count": 21,
      "outputs": []
    },
    {
      "cell_type": "code",
      "source": [
        "data_sample=data_creation(entries=10000)\n"
      ],
      "metadata": {
        "id": "awScJqOfAD4f"
      },
      "execution_count": 22,
      "outputs": []
    },
    {
      "cell_type": "code",
      "source": [
        "data_sample.head(10)"
      ],
      "metadata": {
        "colab": {
          "base_uri": "https://localhost:8080/",
          "height": 363
        },
        "id": "NchHLy4NAD7q",
        "outputId": "89a37d5c-2078-4736-9f14-4d461d8865ff"
      },
      "execution_count": 23,
      "outputs": [
        {
          "output_type": "execute_result",
          "data": {
            "text/plain": [
              "  cmp_firstname1 cmp_lastname1  cmp_sex  cmp_birthday  cmp_birthmonth  \\\n",
              "0           Gary        Bryant        1            16              11   \n",
              "1       Michelle        Keller        0            25              10   \n",
              "2          Emily      Holloway        0            10               2   \n",
              "3         Angela         Hayes        0            12               3   \n",
              "4         Martin        Wilcox        1            15               7   \n",
              "5       Christie      Harrison        1            20               3   \n",
              "6         Angela      Bradshaw        1             6               3   \n",
              "7         Joseph         Garza        1            11              11   \n",
              "8        Charles         Huang        0            23               2   \n",
              "9          David        Jordan        0            16               9   \n",
              "\n",
              "   cmp_birthyear cmp_zipcode  \n",
              "0           1960       47813  \n",
              "1           1970       68400  \n",
              "2           1974       40830  \n",
              "3           1997       35387  \n",
              "4           1970       71480  \n",
              "5           1963       69507  \n",
              "6           1948       95395  \n",
              "7           1927       20183  \n",
              "8           1973       09620  \n",
              "9           1999       35431  "
            ],
            "text/html": [
              "\n",
              "  <div id=\"df-31dee005-dd9c-4f75-9ef2-aa84c9a20119\">\n",
              "    <div class=\"colab-df-container\">\n",
              "      <div>\n",
              "<style scoped>\n",
              "    .dataframe tbody tr th:only-of-type {\n",
              "        vertical-align: middle;\n",
              "    }\n",
              "\n",
              "    .dataframe tbody tr th {\n",
              "        vertical-align: top;\n",
              "    }\n",
              "\n",
              "    .dataframe thead th {\n",
              "        text-align: right;\n",
              "    }\n",
              "</style>\n",
              "<table border=\"1\" class=\"dataframe\">\n",
              "  <thead>\n",
              "    <tr style=\"text-align: right;\">\n",
              "      <th></th>\n",
              "      <th>cmp_firstname1</th>\n",
              "      <th>cmp_lastname1</th>\n",
              "      <th>cmp_sex</th>\n",
              "      <th>cmp_birthday</th>\n",
              "      <th>cmp_birthmonth</th>\n",
              "      <th>cmp_birthyear</th>\n",
              "      <th>cmp_zipcode</th>\n",
              "    </tr>\n",
              "  </thead>\n",
              "  <tbody>\n",
              "    <tr>\n",
              "      <th>0</th>\n",
              "      <td>Gary</td>\n",
              "      <td>Bryant</td>\n",
              "      <td>1</td>\n",
              "      <td>16</td>\n",
              "      <td>11</td>\n",
              "      <td>1960</td>\n",
              "      <td>47813</td>\n",
              "    </tr>\n",
              "    <tr>\n",
              "      <th>1</th>\n",
              "      <td>Michelle</td>\n",
              "      <td>Keller</td>\n",
              "      <td>0</td>\n",
              "      <td>25</td>\n",
              "      <td>10</td>\n",
              "      <td>1970</td>\n",
              "      <td>68400</td>\n",
              "    </tr>\n",
              "    <tr>\n",
              "      <th>2</th>\n",
              "      <td>Emily</td>\n",
              "      <td>Holloway</td>\n",
              "      <td>0</td>\n",
              "      <td>10</td>\n",
              "      <td>2</td>\n",
              "      <td>1974</td>\n",
              "      <td>40830</td>\n",
              "    </tr>\n",
              "    <tr>\n",
              "      <th>3</th>\n",
              "      <td>Angela</td>\n",
              "      <td>Hayes</td>\n",
              "      <td>0</td>\n",
              "      <td>12</td>\n",
              "      <td>3</td>\n",
              "      <td>1997</td>\n",
              "      <td>35387</td>\n",
              "    </tr>\n",
              "    <tr>\n",
              "      <th>4</th>\n",
              "      <td>Martin</td>\n",
              "      <td>Wilcox</td>\n",
              "      <td>1</td>\n",
              "      <td>15</td>\n",
              "      <td>7</td>\n",
              "      <td>1970</td>\n",
              "      <td>71480</td>\n",
              "    </tr>\n",
              "    <tr>\n",
              "      <th>5</th>\n",
              "      <td>Christie</td>\n",
              "      <td>Harrison</td>\n",
              "      <td>1</td>\n",
              "      <td>20</td>\n",
              "      <td>3</td>\n",
              "      <td>1963</td>\n",
              "      <td>69507</td>\n",
              "    </tr>\n",
              "    <tr>\n",
              "      <th>6</th>\n",
              "      <td>Angela</td>\n",
              "      <td>Bradshaw</td>\n",
              "      <td>1</td>\n",
              "      <td>6</td>\n",
              "      <td>3</td>\n",
              "      <td>1948</td>\n",
              "      <td>95395</td>\n",
              "    </tr>\n",
              "    <tr>\n",
              "      <th>7</th>\n",
              "      <td>Joseph</td>\n",
              "      <td>Garza</td>\n",
              "      <td>1</td>\n",
              "      <td>11</td>\n",
              "      <td>11</td>\n",
              "      <td>1927</td>\n",
              "      <td>20183</td>\n",
              "    </tr>\n",
              "    <tr>\n",
              "      <th>8</th>\n",
              "      <td>Charles</td>\n",
              "      <td>Huang</td>\n",
              "      <td>0</td>\n",
              "      <td>23</td>\n",
              "      <td>2</td>\n",
              "      <td>1973</td>\n",
              "      <td>09620</td>\n",
              "    </tr>\n",
              "    <tr>\n",
              "      <th>9</th>\n",
              "      <td>David</td>\n",
              "      <td>Jordan</td>\n",
              "      <td>0</td>\n",
              "      <td>16</td>\n",
              "      <td>9</td>\n",
              "      <td>1999</td>\n",
              "      <td>35431</td>\n",
              "    </tr>\n",
              "  </tbody>\n",
              "</table>\n",
              "</div>\n",
              "      <button class=\"colab-df-convert\" onclick=\"convertToInteractive('df-31dee005-dd9c-4f75-9ef2-aa84c9a20119')\"\n",
              "              title=\"Convert this dataframe to an interactive table.\"\n",
              "              style=\"display:none;\">\n",
              "        \n",
              "  <svg xmlns=\"http://www.w3.org/2000/svg\" height=\"24px\"viewBox=\"0 0 24 24\"\n",
              "       width=\"24px\">\n",
              "    <path d=\"M0 0h24v24H0V0z\" fill=\"none\"/>\n",
              "    <path d=\"M18.56 5.44l.94 2.06.94-2.06 2.06-.94-2.06-.94-.94-2.06-.94 2.06-2.06.94zm-11 1L8.5 8.5l.94-2.06 2.06-.94-2.06-.94L8.5 2.5l-.94 2.06-2.06.94zm10 10l.94 2.06.94-2.06 2.06-.94-2.06-.94-.94-2.06-.94 2.06-2.06.94z\"/><path d=\"M17.41 7.96l-1.37-1.37c-.4-.4-.92-.59-1.43-.59-.52 0-1.04.2-1.43.59L10.3 9.45l-7.72 7.72c-.78.78-.78 2.05 0 2.83L4 21.41c.39.39.9.59 1.41.59.51 0 1.02-.2 1.41-.59l7.78-7.78 2.81-2.81c.8-.78.8-2.07 0-2.86zM5.41 20L4 18.59l7.72-7.72 1.47 1.35L5.41 20z\"/>\n",
              "  </svg>\n",
              "      </button>\n",
              "      \n",
              "  <style>\n",
              "    .colab-df-container {\n",
              "      display:flex;\n",
              "      flex-wrap:wrap;\n",
              "      gap: 12px;\n",
              "    }\n",
              "\n",
              "    .colab-df-convert {\n",
              "      background-color: #E8F0FE;\n",
              "      border: none;\n",
              "      border-radius: 50%;\n",
              "      cursor: pointer;\n",
              "      display: none;\n",
              "      fill: #1967D2;\n",
              "      height: 32px;\n",
              "      padding: 0 0 0 0;\n",
              "      width: 32px;\n",
              "    }\n",
              "\n",
              "    .colab-df-convert:hover {\n",
              "      background-color: #E2EBFA;\n",
              "      box-shadow: 0px 1px 2px rgba(60, 64, 67, 0.3), 0px 1px 3px 1px rgba(60, 64, 67, 0.15);\n",
              "      fill: #174EA6;\n",
              "    }\n",
              "\n",
              "    [theme=dark] .colab-df-convert {\n",
              "      background-color: #3B4455;\n",
              "      fill: #D2E3FC;\n",
              "    }\n",
              "\n",
              "    [theme=dark] .colab-df-convert:hover {\n",
              "      background-color: #434B5C;\n",
              "      box-shadow: 0px 1px 3px 1px rgba(0, 0, 0, 0.15);\n",
              "      filter: drop-shadow(0px 1px 2px rgba(0, 0, 0, 0.3));\n",
              "      fill: #FFFFFF;\n",
              "    }\n",
              "  </style>\n",
              "\n",
              "      <script>\n",
              "        const buttonEl =\n",
              "          document.querySelector('#df-31dee005-dd9c-4f75-9ef2-aa84c9a20119 button.colab-df-convert');\n",
              "        buttonEl.style.display =\n",
              "          google.colab.kernel.accessAllowed ? 'block' : 'none';\n",
              "\n",
              "        async function convertToInteractive(key) {\n",
              "          const element = document.querySelector('#df-31dee005-dd9c-4f75-9ef2-aa84c9a20119');\n",
              "          const dataTable =\n",
              "            await google.colab.kernel.invokeFunction('convertToInteractive',\n",
              "                                                     [key], {});\n",
              "          if (!dataTable) return;\n",
              "\n",
              "          const docLinkHtml = 'Like what you see? Visit the ' +\n",
              "            '<a target=\"_blank\" href=https://colab.research.google.com/notebooks/data_table.ipynb>data table notebook</a>'\n",
              "            + ' to learn more about interactive tables.';\n",
              "          element.innerHTML = '';\n",
              "          dataTable['output_type'] = 'display_data';\n",
              "          await google.colab.output.renderOutput(dataTable, element);\n",
              "          const docLink = document.createElement('div');\n",
              "          docLink.innerHTML = docLinkHtml;\n",
              "          element.appendChild(docLink);\n",
              "        }\n",
              "      </script>\n",
              "    </div>\n",
              "  </div>\n",
              "  "
            ]
          },
          "metadata": {},
          "execution_count": 23
        }
      ]
    },
    {
      "cell_type": "code",
      "source": [
        "data_sample.info()"
      ],
      "metadata": {
        "colab": {
          "base_uri": "https://localhost:8080/"
        },
        "id": "Zy2ywkx6Gd3q",
        "outputId": "01ab03ad-badd-46ab-d777-704a04ff9c6d"
      },
      "execution_count": 24,
      "outputs": [
        {
          "output_type": "stream",
          "name": "stdout",
          "text": [
            "<class 'pandas.core.frame.DataFrame'>\n",
            "RangeIndex: 10000 entries, 0 to 9999\n",
            "Data columns (total 7 columns):\n",
            " #   Column          Non-Null Count  Dtype \n",
            "---  ------          --------------  ----- \n",
            " 0   cmp_firstname1  10000 non-null  object\n",
            " 1   cmp_lastname1   10000 non-null  object\n",
            " 2   cmp_sex         10000 non-null  int64 \n",
            " 3   cmp_birthday    10000 non-null  int64 \n",
            " 4   cmp_birthmonth  10000 non-null  int64 \n",
            " 5   cmp_birthyear   10000 non-null  int64 \n",
            " 6   cmp_zipcode     10000 non-null  object\n",
            "dtypes: int64(4), object(3)\n",
            "memory usage: 547.0+ KB\n"
          ]
        }
      ]
    },
    {
      "cell_type": "code",
      "source": [
        "from recordlinkage import Compare\n",
        "def data1(dfA,dfB,blocker=\"\"):\n",
        "  indexer = recordlinkage.Index()\n",
        "  if blocker!=\"\":\n",
        "    indexer.block(blocker)\n",
        "    candidate_links = indexer.index(dfA, dfB)\n",
        "  else:\n",
        "    a=list(dfA.index)\n",
        "    b=list(dfB.index)\n",
        "    candidate_links=pd.MultiIndex.from_product([a,b])  \n",
        "  compare = Compare()\n",
        "  compare.exact('cmp_sex', 'cmp_sex', label=\"cmp_sex\")\n",
        "  compare.exact('cmp_birthday', 'cmp_birthday', label='cmp_birthday')\n",
        "  compare.exact('cmp_birthmonth', 'cmp_birthmonth', label='cmp_birthmonth')\n",
        "  compare.exact('cmp_birthyear', 'cmp_birthyear', label=\"cmp_birthyear\")\n",
        "  compare.exact('cmp_zipcode', 'cmp_zipcode', label='cmp_zipcode')\n",
        "  compare.string('cmp_firstname1', 'cmp_firstname1', method='jarowinkler', label=\"cmp_firstname1\")\n",
        "  compare.string('cmp_lastname1', 'cmp_lastname1', method='jarowinkler', label=\"cmp_lastname1\")\n",
        "\n",
        "  features = compare.compute(candidate_links, dfA, dfB)\n",
        "  return features"
      ],
      "metadata": {
        "id": "UM6diDknAD-w"
      },
      "execution_count": 25,
      "outputs": []
    },
    {
      "cell_type": "code",
      "source": [
        "dfA1=data_sample\n",
        "dfB1=data_sample\n",
        "dfA1[\"initials\"] = (dfA1[\"cmp_firstname1\"].str[0]  + dfA1[\"cmp_lastname1\"].str[0])\n",
        "dfB1[\"initials\"] = (dfB1[\"cmp_firstname1\"].str[0]  + dfB1[\"cmp_lastname1\"].str[0])\n",
        "features=data1(dfA1,dfB1,\"initials\")"
      ],
      "metadata": {
        "id": "umGFql-MAEBx"
      },
      "execution_count": 26,
      "outputs": []
    },
    {
      "cell_type": "code",
      "source": [
        "features['Match']=clf.predict_proba(features)[:,1]\n",
        "\n",
        "features.reset_index(inplace=True)\n",
        "features=features[features[\"level_0\"]!=features[\"level_1\"]]"
      ],
      "metadata": {
        "colab": {
          "base_uri": "https://localhost:8080/"
        },
        "id": "zlc2rIgoAEE_",
        "outputId": "6ec9e9a7-880c-4964-ef95-2080ee6ca03f"
      },
      "execution_count": 27,
      "outputs": [
        {
          "output_type": "stream",
          "name": "stderr",
          "text": [
            "/usr/local/lib/python3.7/dist-packages/sklearn/base.py:493: FutureWarning: The feature names should match those that were passed during fit. Starting version 1.2, an error will be raised.\n",
            "Feature names must be in the same order as they were in fit.\n",
            "\n",
            "  warnings.warn(message, FutureWarning)\n"
          ]
        }
      ]
    },
    {
      "cell_type": "code",
      "source": [
        "features.sort_values(['Match'],ascending=False,inplace=True)\n",
        "features.head(6)"
      ],
      "metadata": {
        "colab": {
          "base_uri": "https://localhost:8080/",
          "height": 237
        },
        "id": "O5ClIL6EAEH_",
        "outputId": "71ff11a6-8495-458d-e273-89411385a909"
      },
      "execution_count": 28,
      "outputs": [
        {
          "output_type": "execute_result",
          "data": {
            "text/plain": [
              "        level_0  level_1  cmp_sex  cmp_birthday  cmp_birthmonth  \\\n",
              "181617     7546     5410        1             1               1   \n",
              "478384     7272     7846        1             1               0   \n",
              "332993     3158     6074        1             1               0   \n",
              "40041      1177     6116        1             1               0   \n",
              "261416     1568      574        1             1               0   \n",
              "478350     7272     3000        1             1               0   \n",
              "\n",
              "        cmp_birthyear  cmp_zipcode  cmp_firstname1  cmp_lastname1     Match  \n",
              "181617              0            0        0.625000       0.790000  0.988063  \n",
              "478384              0            0        0.671958       0.676190  0.988063  \n",
              "332993              0            0        0.523810       1.000000  0.988063  \n",
              "40041               0            0        1.000000       0.642857  0.988063  \n",
              "261416              0            0        0.513889       0.760000  0.988063  \n",
              "478350              0            0        0.656277       0.577778  0.988063  "
            ],
            "text/html": [
              "\n",
              "  <div id=\"df-798e05ef-5c83-4f9e-9ea9-15a2cc5c1408\">\n",
              "    <div class=\"colab-df-container\">\n",
              "      <div>\n",
              "<style scoped>\n",
              "    .dataframe tbody tr th:only-of-type {\n",
              "        vertical-align: middle;\n",
              "    }\n",
              "\n",
              "    .dataframe tbody tr th {\n",
              "        vertical-align: top;\n",
              "    }\n",
              "\n",
              "    .dataframe thead th {\n",
              "        text-align: right;\n",
              "    }\n",
              "</style>\n",
              "<table border=\"1\" class=\"dataframe\">\n",
              "  <thead>\n",
              "    <tr style=\"text-align: right;\">\n",
              "      <th></th>\n",
              "      <th>level_0</th>\n",
              "      <th>level_1</th>\n",
              "      <th>cmp_sex</th>\n",
              "      <th>cmp_birthday</th>\n",
              "      <th>cmp_birthmonth</th>\n",
              "      <th>cmp_birthyear</th>\n",
              "      <th>cmp_zipcode</th>\n",
              "      <th>cmp_firstname1</th>\n",
              "      <th>cmp_lastname1</th>\n",
              "      <th>Match</th>\n",
              "    </tr>\n",
              "  </thead>\n",
              "  <tbody>\n",
              "    <tr>\n",
              "      <th>181617</th>\n",
              "      <td>7546</td>\n",
              "      <td>5410</td>\n",
              "      <td>1</td>\n",
              "      <td>1</td>\n",
              "      <td>1</td>\n",
              "      <td>0</td>\n",
              "      <td>0</td>\n",
              "      <td>0.625000</td>\n",
              "      <td>0.790000</td>\n",
              "      <td>0.988063</td>\n",
              "    </tr>\n",
              "    <tr>\n",
              "      <th>478384</th>\n",
              "      <td>7272</td>\n",
              "      <td>7846</td>\n",
              "      <td>1</td>\n",
              "      <td>1</td>\n",
              "      <td>0</td>\n",
              "      <td>0</td>\n",
              "      <td>0</td>\n",
              "      <td>0.671958</td>\n",
              "      <td>0.676190</td>\n",
              "      <td>0.988063</td>\n",
              "    </tr>\n",
              "    <tr>\n",
              "      <th>332993</th>\n",
              "      <td>3158</td>\n",
              "      <td>6074</td>\n",
              "      <td>1</td>\n",
              "      <td>1</td>\n",
              "      <td>0</td>\n",
              "      <td>0</td>\n",
              "      <td>0</td>\n",
              "      <td>0.523810</td>\n",
              "      <td>1.000000</td>\n",
              "      <td>0.988063</td>\n",
              "    </tr>\n",
              "    <tr>\n",
              "      <th>40041</th>\n",
              "      <td>1177</td>\n",
              "      <td>6116</td>\n",
              "      <td>1</td>\n",
              "      <td>1</td>\n",
              "      <td>0</td>\n",
              "      <td>0</td>\n",
              "      <td>0</td>\n",
              "      <td>1.000000</td>\n",
              "      <td>0.642857</td>\n",
              "      <td>0.988063</td>\n",
              "    </tr>\n",
              "    <tr>\n",
              "      <th>261416</th>\n",
              "      <td>1568</td>\n",
              "      <td>574</td>\n",
              "      <td>1</td>\n",
              "      <td>1</td>\n",
              "      <td>0</td>\n",
              "      <td>0</td>\n",
              "      <td>0</td>\n",
              "      <td>0.513889</td>\n",
              "      <td>0.760000</td>\n",
              "      <td>0.988063</td>\n",
              "    </tr>\n",
              "    <tr>\n",
              "      <th>478350</th>\n",
              "      <td>7272</td>\n",
              "      <td>3000</td>\n",
              "      <td>1</td>\n",
              "      <td>1</td>\n",
              "      <td>0</td>\n",
              "      <td>0</td>\n",
              "      <td>0</td>\n",
              "      <td>0.656277</td>\n",
              "      <td>0.577778</td>\n",
              "      <td>0.988063</td>\n",
              "    </tr>\n",
              "  </tbody>\n",
              "</table>\n",
              "</div>\n",
              "      <button class=\"colab-df-convert\" onclick=\"convertToInteractive('df-798e05ef-5c83-4f9e-9ea9-15a2cc5c1408')\"\n",
              "              title=\"Convert this dataframe to an interactive table.\"\n",
              "              style=\"display:none;\">\n",
              "        \n",
              "  <svg xmlns=\"http://www.w3.org/2000/svg\" height=\"24px\"viewBox=\"0 0 24 24\"\n",
              "       width=\"24px\">\n",
              "    <path d=\"M0 0h24v24H0V0z\" fill=\"none\"/>\n",
              "    <path d=\"M18.56 5.44l.94 2.06.94-2.06 2.06-.94-2.06-.94-.94-2.06-.94 2.06-2.06.94zm-11 1L8.5 8.5l.94-2.06 2.06-.94-2.06-.94L8.5 2.5l-.94 2.06-2.06.94zm10 10l.94 2.06.94-2.06 2.06-.94-2.06-.94-.94-2.06-.94 2.06-2.06.94z\"/><path d=\"M17.41 7.96l-1.37-1.37c-.4-.4-.92-.59-1.43-.59-.52 0-1.04.2-1.43.59L10.3 9.45l-7.72 7.72c-.78.78-.78 2.05 0 2.83L4 21.41c.39.39.9.59 1.41.59.51 0 1.02-.2 1.41-.59l7.78-7.78 2.81-2.81c.8-.78.8-2.07 0-2.86zM5.41 20L4 18.59l7.72-7.72 1.47 1.35L5.41 20z\"/>\n",
              "  </svg>\n",
              "      </button>\n",
              "      \n",
              "  <style>\n",
              "    .colab-df-container {\n",
              "      display:flex;\n",
              "      flex-wrap:wrap;\n",
              "      gap: 12px;\n",
              "    }\n",
              "\n",
              "    .colab-df-convert {\n",
              "      background-color: #E8F0FE;\n",
              "      border: none;\n",
              "      border-radius: 50%;\n",
              "      cursor: pointer;\n",
              "      display: none;\n",
              "      fill: #1967D2;\n",
              "      height: 32px;\n",
              "      padding: 0 0 0 0;\n",
              "      width: 32px;\n",
              "    }\n",
              "\n",
              "    .colab-df-convert:hover {\n",
              "      background-color: #E2EBFA;\n",
              "      box-shadow: 0px 1px 2px rgba(60, 64, 67, 0.3), 0px 1px 3px 1px rgba(60, 64, 67, 0.15);\n",
              "      fill: #174EA6;\n",
              "    }\n",
              "\n",
              "    [theme=dark] .colab-df-convert {\n",
              "      background-color: #3B4455;\n",
              "      fill: #D2E3FC;\n",
              "    }\n",
              "\n",
              "    [theme=dark] .colab-df-convert:hover {\n",
              "      background-color: #434B5C;\n",
              "      box-shadow: 0px 1px 3px 1px rgba(0, 0, 0, 0.15);\n",
              "      filter: drop-shadow(0px 1px 2px rgba(0, 0, 0, 0.3));\n",
              "      fill: #FFFFFF;\n",
              "    }\n",
              "  </style>\n",
              "\n",
              "      <script>\n",
              "        const buttonEl =\n",
              "          document.querySelector('#df-798e05ef-5c83-4f9e-9ea9-15a2cc5c1408 button.colab-df-convert');\n",
              "        buttonEl.style.display =\n",
              "          google.colab.kernel.accessAllowed ? 'block' : 'none';\n",
              "\n",
              "        async function convertToInteractive(key) {\n",
              "          const element = document.querySelector('#df-798e05ef-5c83-4f9e-9ea9-15a2cc5c1408');\n",
              "          const dataTable =\n",
              "            await google.colab.kernel.invokeFunction('convertToInteractive',\n",
              "                                                     [key], {});\n",
              "          if (!dataTable) return;\n",
              "\n",
              "          const docLinkHtml = 'Like what you see? Visit the ' +\n",
              "            '<a target=\"_blank\" href=https://colab.research.google.com/notebooks/data_table.ipynb>data table notebook</a>'\n",
              "            + ' to learn more about interactive tables.';\n",
              "          element.innerHTML = '';\n",
              "          dataTable['output_type'] = 'display_data';\n",
              "          await google.colab.output.renderOutput(dataTable, element);\n",
              "          const docLink = document.createElement('div');\n",
              "          docLink.innerHTML = docLinkHtml;\n",
              "          element.appendChild(docLink);\n",
              "        }\n",
              "      </script>\n",
              "    </div>\n",
              "  </div>\n",
              "  "
            ]
          },
          "metadata": {},
          "execution_count": 28
        }
      ]
    },
    {
      "cell_type": "code",
      "source": [
        "dfA1.iloc[[features['level_0'].values[0],features['level_1'].values[0]]]"
      ],
      "metadata": {
        "colab": {
          "base_uri": "https://localhost:8080/",
          "height": 112
        },
        "id": "sQj-p7jqAELp",
        "outputId": "3edb2c87-02ac-4758-fb31-97146265e51f"
      },
      "execution_count": 29,
      "outputs": [
        {
          "output_type": "execute_result",
          "data": {
            "text/plain": [
              "     cmp_firstname1 cmp_lastname1  cmp_sex  cmp_birthday  cmp_birthmonth  \\\n",
              "7546         Samuel         Cline        1             3               7   \n",
              "5410       Samantha      Cisneros        1             3               7   \n",
              "\n",
              "      cmp_birthyear cmp_zipcode initials  \n",
              "7546           1948       20519       SC  \n",
              "5410           1992       81614       SC  "
            ],
            "text/html": [
              "\n",
              "  <div id=\"df-400e975e-9397-4dd1-b106-77961c8ff16a\">\n",
              "    <div class=\"colab-df-container\">\n",
              "      <div>\n",
              "<style scoped>\n",
              "    .dataframe tbody tr th:only-of-type {\n",
              "        vertical-align: middle;\n",
              "    }\n",
              "\n",
              "    .dataframe tbody tr th {\n",
              "        vertical-align: top;\n",
              "    }\n",
              "\n",
              "    .dataframe thead th {\n",
              "        text-align: right;\n",
              "    }\n",
              "</style>\n",
              "<table border=\"1\" class=\"dataframe\">\n",
              "  <thead>\n",
              "    <tr style=\"text-align: right;\">\n",
              "      <th></th>\n",
              "      <th>cmp_firstname1</th>\n",
              "      <th>cmp_lastname1</th>\n",
              "      <th>cmp_sex</th>\n",
              "      <th>cmp_birthday</th>\n",
              "      <th>cmp_birthmonth</th>\n",
              "      <th>cmp_birthyear</th>\n",
              "      <th>cmp_zipcode</th>\n",
              "      <th>initials</th>\n",
              "    </tr>\n",
              "  </thead>\n",
              "  <tbody>\n",
              "    <tr>\n",
              "      <th>7546</th>\n",
              "      <td>Samuel</td>\n",
              "      <td>Cline</td>\n",
              "      <td>1</td>\n",
              "      <td>3</td>\n",
              "      <td>7</td>\n",
              "      <td>1948</td>\n",
              "      <td>20519</td>\n",
              "      <td>SC</td>\n",
              "    </tr>\n",
              "    <tr>\n",
              "      <th>5410</th>\n",
              "      <td>Samantha</td>\n",
              "      <td>Cisneros</td>\n",
              "      <td>1</td>\n",
              "      <td>3</td>\n",
              "      <td>7</td>\n",
              "      <td>1992</td>\n",
              "      <td>81614</td>\n",
              "      <td>SC</td>\n",
              "    </tr>\n",
              "  </tbody>\n",
              "</table>\n",
              "</div>\n",
              "      <button class=\"colab-df-convert\" onclick=\"convertToInteractive('df-400e975e-9397-4dd1-b106-77961c8ff16a')\"\n",
              "              title=\"Convert this dataframe to an interactive table.\"\n",
              "              style=\"display:none;\">\n",
              "        \n",
              "  <svg xmlns=\"http://www.w3.org/2000/svg\" height=\"24px\"viewBox=\"0 0 24 24\"\n",
              "       width=\"24px\">\n",
              "    <path d=\"M0 0h24v24H0V0z\" fill=\"none\"/>\n",
              "    <path d=\"M18.56 5.44l.94 2.06.94-2.06 2.06-.94-2.06-.94-.94-2.06-.94 2.06-2.06.94zm-11 1L8.5 8.5l.94-2.06 2.06-.94-2.06-.94L8.5 2.5l-.94 2.06-2.06.94zm10 10l.94 2.06.94-2.06 2.06-.94-2.06-.94-.94-2.06-.94 2.06-2.06.94z\"/><path d=\"M17.41 7.96l-1.37-1.37c-.4-.4-.92-.59-1.43-.59-.52 0-1.04.2-1.43.59L10.3 9.45l-7.72 7.72c-.78.78-.78 2.05 0 2.83L4 21.41c.39.39.9.59 1.41.59.51 0 1.02-.2 1.41-.59l7.78-7.78 2.81-2.81c.8-.78.8-2.07 0-2.86zM5.41 20L4 18.59l7.72-7.72 1.47 1.35L5.41 20z\"/>\n",
              "  </svg>\n",
              "      </button>\n",
              "      \n",
              "  <style>\n",
              "    .colab-df-container {\n",
              "      display:flex;\n",
              "      flex-wrap:wrap;\n",
              "      gap: 12px;\n",
              "    }\n",
              "\n",
              "    .colab-df-convert {\n",
              "      background-color: #E8F0FE;\n",
              "      border: none;\n",
              "      border-radius: 50%;\n",
              "      cursor: pointer;\n",
              "      display: none;\n",
              "      fill: #1967D2;\n",
              "      height: 32px;\n",
              "      padding: 0 0 0 0;\n",
              "      width: 32px;\n",
              "    }\n",
              "\n",
              "    .colab-df-convert:hover {\n",
              "      background-color: #E2EBFA;\n",
              "      box-shadow: 0px 1px 2px rgba(60, 64, 67, 0.3), 0px 1px 3px 1px rgba(60, 64, 67, 0.15);\n",
              "      fill: #174EA6;\n",
              "    }\n",
              "\n",
              "    [theme=dark] .colab-df-convert {\n",
              "      background-color: #3B4455;\n",
              "      fill: #D2E3FC;\n",
              "    }\n",
              "\n",
              "    [theme=dark] .colab-df-convert:hover {\n",
              "      background-color: #434B5C;\n",
              "      box-shadow: 0px 1px 3px 1px rgba(0, 0, 0, 0.15);\n",
              "      filter: drop-shadow(0px 1px 2px rgba(0, 0, 0, 0.3));\n",
              "      fill: #FFFFFF;\n",
              "    }\n",
              "  </style>\n",
              "\n",
              "      <script>\n",
              "        const buttonEl =\n",
              "          document.querySelector('#df-400e975e-9397-4dd1-b106-77961c8ff16a button.colab-df-convert');\n",
              "        buttonEl.style.display =\n",
              "          google.colab.kernel.accessAllowed ? 'block' : 'none';\n",
              "\n",
              "        async function convertToInteractive(key) {\n",
              "          const element = document.querySelector('#df-400e975e-9397-4dd1-b106-77961c8ff16a');\n",
              "          const dataTable =\n",
              "            await google.colab.kernel.invokeFunction('convertToInteractive',\n",
              "                                                     [key], {});\n",
              "          if (!dataTable) return;\n",
              "\n",
              "          const docLinkHtml = 'Like what you see? Visit the ' +\n",
              "            '<a target=\"_blank\" href=https://colab.research.google.com/notebooks/data_table.ipynb>data table notebook</a>'\n",
              "            + ' to learn more about interactive tables.';\n",
              "          element.innerHTML = '';\n",
              "          dataTable['output_type'] = 'display_data';\n",
              "          await google.colab.output.renderOutput(dataTable, element);\n",
              "          const docLink = document.createElement('div');\n",
              "          docLink.innerHTML = docLinkHtml;\n",
              "          element.appendChild(docLink);\n",
              "        }\n",
              "      </script>\n",
              "    </div>\n",
              "  </div>\n",
              "  "
            ]
          },
          "metadata": {},
          "execution_count": 29
        }
      ]
    },
    {
      "cell_type": "code",
      "source": [
        "dfA1.iloc[[features['level_0'].values[2],features['level_1'].values[2]]]"
      ],
      "metadata": {
        "colab": {
          "base_uri": "https://localhost:8080/",
          "height": 112
        },
        "id": "ZciBGPuk-S4u",
        "outputId": "a007c4e9-190e-4c04-f16d-5d472a245b9b"
      },
      "execution_count": 30,
      "outputs": [
        {
          "output_type": "execute_result",
          "data": {
            "text/plain": [
              "     cmp_firstname1 cmp_lastname1  cmp_sex  cmp_birthday  cmp_birthmonth  \\\n",
              "3158        Kristin         Smith        1            18               4   \n",
              "6074        Kenneth         Smith        1            18               1   \n",
              "\n",
              "      cmp_birthyear cmp_zipcode initials  \n",
              "3158           1950       96434       KS  \n",
              "6074           1954       20744       KS  "
            ],
            "text/html": [
              "\n",
              "  <div id=\"df-f4d26911-7d18-4a7c-9a95-e882b910f293\">\n",
              "    <div class=\"colab-df-container\">\n",
              "      <div>\n",
              "<style scoped>\n",
              "    .dataframe tbody tr th:only-of-type {\n",
              "        vertical-align: middle;\n",
              "    }\n",
              "\n",
              "    .dataframe tbody tr th {\n",
              "        vertical-align: top;\n",
              "    }\n",
              "\n",
              "    .dataframe thead th {\n",
              "        text-align: right;\n",
              "    }\n",
              "</style>\n",
              "<table border=\"1\" class=\"dataframe\">\n",
              "  <thead>\n",
              "    <tr style=\"text-align: right;\">\n",
              "      <th></th>\n",
              "      <th>cmp_firstname1</th>\n",
              "      <th>cmp_lastname1</th>\n",
              "      <th>cmp_sex</th>\n",
              "      <th>cmp_birthday</th>\n",
              "      <th>cmp_birthmonth</th>\n",
              "      <th>cmp_birthyear</th>\n",
              "      <th>cmp_zipcode</th>\n",
              "      <th>initials</th>\n",
              "    </tr>\n",
              "  </thead>\n",
              "  <tbody>\n",
              "    <tr>\n",
              "      <th>3158</th>\n",
              "      <td>Kristin</td>\n",
              "      <td>Smith</td>\n",
              "      <td>1</td>\n",
              "      <td>18</td>\n",
              "      <td>4</td>\n",
              "      <td>1950</td>\n",
              "      <td>96434</td>\n",
              "      <td>KS</td>\n",
              "    </tr>\n",
              "    <tr>\n",
              "      <th>6074</th>\n",
              "      <td>Kenneth</td>\n",
              "      <td>Smith</td>\n",
              "      <td>1</td>\n",
              "      <td>18</td>\n",
              "      <td>1</td>\n",
              "      <td>1954</td>\n",
              "      <td>20744</td>\n",
              "      <td>KS</td>\n",
              "    </tr>\n",
              "  </tbody>\n",
              "</table>\n",
              "</div>\n",
              "      <button class=\"colab-df-convert\" onclick=\"convertToInteractive('df-f4d26911-7d18-4a7c-9a95-e882b910f293')\"\n",
              "              title=\"Convert this dataframe to an interactive table.\"\n",
              "              style=\"display:none;\">\n",
              "        \n",
              "  <svg xmlns=\"http://www.w3.org/2000/svg\" height=\"24px\"viewBox=\"0 0 24 24\"\n",
              "       width=\"24px\">\n",
              "    <path d=\"M0 0h24v24H0V0z\" fill=\"none\"/>\n",
              "    <path d=\"M18.56 5.44l.94 2.06.94-2.06 2.06-.94-2.06-.94-.94-2.06-.94 2.06-2.06.94zm-11 1L8.5 8.5l.94-2.06 2.06-.94-2.06-.94L8.5 2.5l-.94 2.06-2.06.94zm10 10l.94 2.06.94-2.06 2.06-.94-2.06-.94-.94-2.06-.94 2.06-2.06.94z\"/><path d=\"M17.41 7.96l-1.37-1.37c-.4-.4-.92-.59-1.43-.59-.52 0-1.04.2-1.43.59L10.3 9.45l-7.72 7.72c-.78.78-.78 2.05 0 2.83L4 21.41c.39.39.9.59 1.41.59.51 0 1.02-.2 1.41-.59l7.78-7.78 2.81-2.81c.8-.78.8-2.07 0-2.86zM5.41 20L4 18.59l7.72-7.72 1.47 1.35L5.41 20z\"/>\n",
              "  </svg>\n",
              "      </button>\n",
              "      \n",
              "  <style>\n",
              "    .colab-df-container {\n",
              "      display:flex;\n",
              "      flex-wrap:wrap;\n",
              "      gap: 12px;\n",
              "    }\n",
              "\n",
              "    .colab-df-convert {\n",
              "      background-color: #E8F0FE;\n",
              "      border: none;\n",
              "      border-radius: 50%;\n",
              "      cursor: pointer;\n",
              "      display: none;\n",
              "      fill: #1967D2;\n",
              "      height: 32px;\n",
              "      padding: 0 0 0 0;\n",
              "      width: 32px;\n",
              "    }\n",
              "\n",
              "    .colab-df-convert:hover {\n",
              "      background-color: #E2EBFA;\n",
              "      box-shadow: 0px 1px 2px rgba(60, 64, 67, 0.3), 0px 1px 3px 1px rgba(60, 64, 67, 0.15);\n",
              "      fill: #174EA6;\n",
              "    }\n",
              "\n",
              "    [theme=dark] .colab-df-convert {\n",
              "      background-color: #3B4455;\n",
              "      fill: #D2E3FC;\n",
              "    }\n",
              "\n",
              "    [theme=dark] .colab-df-convert:hover {\n",
              "      background-color: #434B5C;\n",
              "      box-shadow: 0px 1px 3px 1px rgba(0, 0, 0, 0.15);\n",
              "      filter: drop-shadow(0px 1px 2px rgba(0, 0, 0, 0.3));\n",
              "      fill: #FFFFFF;\n",
              "    }\n",
              "  </style>\n",
              "\n",
              "      <script>\n",
              "        const buttonEl =\n",
              "          document.querySelector('#df-f4d26911-7d18-4a7c-9a95-e882b910f293 button.colab-df-convert');\n",
              "        buttonEl.style.display =\n",
              "          google.colab.kernel.accessAllowed ? 'block' : 'none';\n",
              "\n",
              "        async function convertToInteractive(key) {\n",
              "          const element = document.querySelector('#df-f4d26911-7d18-4a7c-9a95-e882b910f293');\n",
              "          const dataTable =\n",
              "            await google.colab.kernel.invokeFunction('convertToInteractive',\n",
              "                                                     [key], {});\n",
              "          if (!dataTable) return;\n",
              "\n",
              "          const docLinkHtml = 'Like what you see? Visit the ' +\n",
              "            '<a target=\"_blank\" href=https://colab.research.google.com/notebooks/data_table.ipynb>data table notebook</a>'\n",
              "            + ' to learn more about interactive tables.';\n",
              "          element.innerHTML = '';\n",
              "          dataTable['output_type'] = 'display_data';\n",
              "          await google.colab.output.renderOutput(dataTable, element);\n",
              "          const docLink = document.createElement('div');\n",
              "          docLink.innerHTML = docLinkHtml;\n",
              "          element.appendChild(docLink);\n",
              "        }\n",
              "      </script>\n",
              "    </div>\n",
              "  </div>\n",
              "  "
            ]
          },
          "metadata": {},
          "execution_count": 30
        }
      ]
    },
    {
      "cell_type": "code",
      "source": [
        ""
      ],
      "metadata": {
        "id": "O9m3PbdBH44o"
      },
      "execution_count": null,
      "outputs": []
    }
  ]
}