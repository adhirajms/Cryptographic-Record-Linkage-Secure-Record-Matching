{
  "cells": [
    {
      "cell_type": "markdown",
      "source": [
        "# Data Profiler"
      ],
      "metadata": {
        "id": "5YwLgWwS2MLt"
      }
    },
    {
      "cell_type": "markdown",
      "source": [
        "## Table of Contents:\n",
        "* [Importing libraries,loading & transforming data](#first-bullet)\n",
        "* [Using the Existing Labeler](#second-bullet)\n",
        "* [Training Labeler](#third-bullet)\n",
        "* [Creating Function to Train Labeler](#fourth-bullet)"
      ],
      "metadata": {
        "id": "v2VMdzea2t8d"
      }
    },
    {
      "cell_type": "markdown",
      "source": [
        "### Importing libraries, loading & transforming data <a class=\"anchor\" id=\"first-bullet\"></a>\n",
        "\n"
      ],
      "metadata": {
        "id": "qbhiSz1Q6VU_"
      }
    },
    {
      "cell_type": "code",
      "source": [
        ""
      ],
      "metadata": {
        "id": "YjhOkXcQ6UAk"
      },
      "execution_count": null,
      "outputs": []
    },
    {
      "cell_type": "code",
      "execution_count": 1,
      "metadata": {
        "colab": {
          "base_uri": "https://localhost:8080/"
        },
        "id": "ubLyuKokGE88",
        "outputId": "870cb103-e9e0-4608-fa54-ef28006f3f52"
      },
      "outputs": [
        {
          "output_type": "stream",
          "name": "stdout",
          "text": [
            "Collecting dataprofiler\n",
            "  Downloading DataProfiler-0.7.7-py3-none-any.whl (7.5 MB)\n",
            "\u001b[K     |████████████████████████████████| 7.5 MB 5.1 MB/s \n",
            "\u001b[?25hRequirement already satisfied: pandas>=1.1.2 in /usr/local/lib/python3.7/dist-packages (from dataprofiler) (1.3.5)\n",
            "Requirement already satisfied: charset-normalizer>=1.3.6 in /usr/local/lib/python3.7/dist-packages (from dataprofiler) (2.0.12)\n",
            "Requirement already satisfied: six>=1.15.0 in /usr/local/lib/python3.7/dist-packages (from dataprofiler) (1.15.0)\n",
            "Collecting requests==2.27.1\n",
            "  Downloading requests-2.27.1-py2.py3-none-any.whl (63 kB)\n",
            "\u001b[K     |████████████████████████████████| 63 kB 2.3 MB/s \n",
            "\u001b[?25hRequirement already satisfied: psutil>=4.0.0 in /usr/local/lib/python3.7/dist-packages (from dataprofiler) (5.4.8)\n",
            "Requirement already satisfied: scipy>=1.4.1 in /usr/local/lib/python3.7/dist-packages (from dataprofiler) (1.4.1)\n",
            "Requirement already satisfied: python-dateutil>=2.7.5 in /usr/local/lib/python3.7/dist-packages (from dataprofiler) (2.8.2)\n",
            "Requirement already satisfied: numpy>=1.18.5 in /usr/local/lib/python3.7/dist-packages (from dataprofiler) (1.21.6)\n",
            "Requirement already satisfied: wheel>=0.33.1 in /usr/local/lib/python3.7/dist-packages (from dataprofiler) (0.37.1)\n",
            "Requirement already satisfied: pytz>=2020.1 in /usr/local/lib/python3.7/dist-packages (from dataprofiler) (2022.1)\n",
            "Collecting future>=0.18.2\n",
            "  Downloading future-0.18.2.tar.gz (829 kB)\n",
            "\u001b[K     |████████████████████████████████| 829 kB 69.7 MB/s \n",
            "\u001b[?25hRequirement already satisfied: chardet>=3.0.4 in /usr/local/lib/python3.7/dist-packages (from dataprofiler) (3.0.4)\n",
            "Collecting python-snappy>=0.5.4\n",
            "  Downloading python_snappy-0.6.1-cp37-cp37m-manylinux_2_12_x86_64.manylinux2010_x86_64.whl (56 kB)\n",
            "\u001b[K     |████████████████████████████████| 56 kB 3.1 MB/s \n",
            "\u001b[?25hCollecting fastavro>=1.0.0.post1\n",
            "  Downloading fastavro-1.4.12-cp37-cp37m-manylinux_2_17_x86_64.manylinux2014_x86_64.whl (2.3 MB)\n",
            "\u001b[K     |████████████████████████████████| 2.3 MB 23.8 MB/s \n",
            "\u001b[?25hRequirement already satisfied: h5py>=2.10.0 in /usr/local/lib/python3.7/dist-packages (from dataprofiler) (3.1.0)\n",
            "Requirement already satisfied: pyarrow>=1.0.1 in /usr/local/lib/python3.7/dist-packages (from dataprofiler) (6.0.1)\n",
            "Requirement already satisfied: certifi>=2017.4.17 in /usr/local/lib/python3.7/dist-packages (from requests==2.27.1->dataprofiler) (2021.10.8)\n",
            "Requirement already satisfied: urllib3<1.27,>=1.21.1 in /usr/local/lib/python3.7/dist-packages (from requests==2.27.1->dataprofiler) (1.24.3)\n",
            "Requirement already satisfied: idna<4,>=2.5 in /usr/local/lib/python3.7/dist-packages (from requests==2.27.1->dataprofiler) (2.10)\n",
            "Requirement already satisfied: cached-property in /usr/local/lib/python3.7/dist-packages (from h5py>=2.10.0->dataprofiler) (1.5.2)\n",
            "Building wheels for collected packages: future\n",
            "  Building wheel for future (setup.py) ... \u001b[?25l\u001b[?25hdone\n",
            "  Created wheel for future: filename=future-0.18.2-py3-none-any.whl size=491070 sha256=78b0c01e7d0eb6aade9f9c7c3d414752623ac7ca4a54da8c0e5c2cf71f7dc385\n",
            "  Stored in directory: /root/.cache/pip/wheels/56/b0/fe/4410d17b32f1f0c3cf54cdfb2bc04d7b4b8f4ae377e2229ba0\n",
            "Successfully built future\n",
            "Installing collected packages: requests, python-snappy, future, fastavro, dataprofiler\n",
            "  Attempting uninstall: requests\n",
            "    Found existing installation: requests 2.23.0\n",
            "    Uninstalling requests-2.23.0:\n",
            "      Successfully uninstalled requests-2.23.0\n",
            "  Attempting uninstall: future\n",
            "    Found existing installation: future 0.16.0\n",
            "    Uninstalling future-0.16.0:\n",
            "      Successfully uninstalled future-0.16.0\n",
            "\u001b[31mERROR: pip's dependency resolver does not currently take into account all the packages that are installed. This behaviour is the source of the following dependency conflicts.\n",
            "google-colab 1.0.0 requires requests~=2.23.0, but you have requests 2.27.1 which is incompatible.\n",
            "datascience 0.10.6 requires folium==0.2.1, but you have folium 0.8.3 which is incompatible.\u001b[0m\n",
            "Successfully installed dataprofiler-0.7.7 fastavro-1.4.12 future-0.18.2 python-snappy-0.6.1 requests-2.27.1\n"
          ]
        }
      ],
      "source": [
        "!pip install dataprofiler"
      ]
    },
    {
      "cell_type": "code",
      "execution_count": 2,
      "metadata": {
        "id": "GH6mNweUF_X_"
      },
      "outputs": [],
      "source": [
        "import os\n",
        "import sys\n",
        "import json\n",
        "import pandas as pd\n",
        "\n",
        "try:\n",
        "    sys.path.insert(0, '..')\n",
        "    import dataprofiler as dp\n",
        "except ImportError:\n",
        "    import dataprofiler as dp\n",
        "\n",
        "# remove extra tf loggin\n",
        "import tensorflow as tf\n",
        "tf.compat.v1.logging.set_verbosity(tf.compat.v1.logging.ERROR)"
      ]
    },
    {
      "cell_type": "markdown",
      "source": [
        "We will now read in the record linkage dataset"
      ],
      "metadata": {
        "id": "iB5zZ3Vj3A_O"
      }
    },
    {
      "cell_type": "code",
      "execution_count": 3,
      "metadata": {
        "colab": {
          "base_uri": "https://localhost:8080/",
          "height": 302
        },
        "id": "1Qqem3UCGBrK",
        "outputId": "60e3fc8c-4941-463f-e210-43f12522d1e5"
      },
      "outputs": [
        {
          "output_type": "execute_result",
          "data": {
            "text/plain": [
              "  given_name   surname street_number            address_1          address_2  \\\n",
              "0   michaela   neumann             8       stanley street              miami   \n",
              "1   courtney   painter            12    pinkerton circuit         bega flats   \n",
              "2    charles     green            38  salkauskas crescent               kela   \n",
              "3    vanessa      parr           905       macquoid place  broadbridge manor   \n",
              "4    mikayla  malloney            37        randwick road            avalind   \n",
              "\n",
              "             suburb postcode state date_of_birth soc_sec_id  \n",
              "0     winston hills     4223   nsw      19151111    5304218  \n",
              "1         richlands     4560   vic      19161214    4066625  \n",
              "2             dapto     4566   nsw      19480930    4365168  \n",
              "3     south grafton     2135    sa      19951119    9239102  \n",
              "4  hoppers crossing     4552   vic      19860208    7207688  "
            ],
            "text/html": [
              "\n",
              "  <div id=\"df-6b12be1b-d83d-4dee-b1ec-6658dde99468\">\n",
              "    <div class=\"colab-df-container\">\n",
              "      <div>\n",
              "<style scoped>\n",
              "    .dataframe tbody tr th:only-of-type {\n",
              "        vertical-align: middle;\n",
              "    }\n",
              "\n",
              "    .dataframe tbody tr th {\n",
              "        vertical-align: top;\n",
              "    }\n",
              "\n",
              "    .dataframe thead th {\n",
              "        text-align: right;\n",
              "    }\n",
              "</style>\n",
              "<table border=\"1\" class=\"dataframe\">\n",
              "  <thead>\n",
              "    <tr style=\"text-align: right;\">\n",
              "      <th></th>\n",
              "      <th>given_name</th>\n",
              "      <th>surname</th>\n",
              "      <th>street_number</th>\n",
              "      <th>address_1</th>\n",
              "      <th>address_2</th>\n",
              "      <th>suburb</th>\n",
              "      <th>postcode</th>\n",
              "      <th>state</th>\n",
              "      <th>date_of_birth</th>\n",
              "      <th>soc_sec_id</th>\n",
              "    </tr>\n",
              "  </thead>\n",
              "  <tbody>\n",
              "    <tr>\n",
              "      <th>0</th>\n",
              "      <td>michaela</td>\n",
              "      <td>neumann</td>\n",
              "      <td>8</td>\n",
              "      <td>stanley street</td>\n",
              "      <td>miami</td>\n",
              "      <td>winston hills</td>\n",
              "      <td>4223</td>\n",
              "      <td>nsw</td>\n",
              "      <td>19151111</td>\n",
              "      <td>5304218</td>\n",
              "    </tr>\n",
              "    <tr>\n",
              "      <th>1</th>\n",
              "      <td>courtney</td>\n",
              "      <td>painter</td>\n",
              "      <td>12</td>\n",
              "      <td>pinkerton circuit</td>\n",
              "      <td>bega flats</td>\n",
              "      <td>richlands</td>\n",
              "      <td>4560</td>\n",
              "      <td>vic</td>\n",
              "      <td>19161214</td>\n",
              "      <td>4066625</td>\n",
              "    </tr>\n",
              "    <tr>\n",
              "      <th>2</th>\n",
              "      <td>charles</td>\n",
              "      <td>green</td>\n",
              "      <td>38</td>\n",
              "      <td>salkauskas crescent</td>\n",
              "      <td>kela</td>\n",
              "      <td>dapto</td>\n",
              "      <td>4566</td>\n",
              "      <td>nsw</td>\n",
              "      <td>19480930</td>\n",
              "      <td>4365168</td>\n",
              "    </tr>\n",
              "    <tr>\n",
              "      <th>3</th>\n",
              "      <td>vanessa</td>\n",
              "      <td>parr</td>\n",
              "      <td>905</td>\n",
              "      <td>macquoid place</td>\n",
              "      <td>broadbridge manor</td>\n",
              "      <td>south grafton</td>\n",
              "      <td>2135</td>\n",
              "      <td>sa</td>\n",
              "      <td>19951119</td>\n",
              "      <td>9239102</td>\n",
              "    </tr>\n",
              "    <tr>\n",
              "      <th>4</th>\n",
              "      <td>mikayla</td>\n",
              "      <td>malloney</td>\n",
              "      <td>37</td>\n",
              "      <td>randwick road</td>\n",
              "      <td>avalind</td>\n",
              "      <td>hoppers crossing</td>\n",
              "      <td>4552</td>\n",
              "      <td>vic</td>\n",
              "      <td>19860208</td>\n",
              "      <td>7207688</td>\n",
              "    </tr>\n",
              "  </tbody>\n",
              "</table>\n",
              "</div>\n",
              "      <button class=\"colab-df-convert\" onclick=\"convertToInteractive('df-6b12be1b-d83d-4dee-b1ec-6658dde99468')\"\n",
              "              title=\"Convert this dataframe to an interactive table.\"\n",
              "              style=\"display:none;\">\n",
              "        \n",
              "  <svg xmlns=\"http://www.w3.org/2000/svg\" height=\"24px\"viewBox=\"0 0 24 24\"\n",
              "       width=\"24px\">\n",
              "    <path d=\"M0 0h24v24H0V0z\" fill=\"none\"/>\n",
              "    <path d=\"M18.56 5.44l.94 2.06.94-2.06 2.06-.94-2.06-.94-.94-2.06-.94 2.06-2.06.94zm-11 1L8.5 8.5l.94-2.06 2.06-.94-2.06-.94L8.5 2.5l-.94 2.06-2.06.94zm10 10l.94 2.06.94-2.06 2.06-.94-2.06-.94-.94-2.06-.94 2.06-2.06.94z\"/><path d=\"M17.41 7.96l-1.37-1.37c-.4-.4-.92-.59-1.43-.59-.52 0-1.04.2-1.43.59L10.3 9.45l-7.72 7.72c-.78.78-.78 2.05 0 2.83L4 21.41c.39.39.9.59 1.41.59.51 0 1.02-.2 1.41-.59l7.78-7.78 2.81-2.81c.8-.78.8-2.07 0-2.86zM5.41 20L4 18.59l7.72-7.72 1.47 1.35L5.41 20z\"/>\n",
              "  </svg>\n",
              "      </button>\n",
              "      \n",
              "  <style>\n",
              "    .colab-df-container {\n",
              "      display:flex;\n",
              "      flex-wrap:wrap;\n",
              "      gap: 12px;\n",
              "    }\n",
              "\n",
              "    .colab-df-convert {\n",
              "      background-color: #E8F0FE;\n",
              "      border: none;\n",
              "      border-radius: 50%;\n",
              "      cursor: pointer;\n",
              "      display: none;\n",
              "      fill: #1967D2;\n",
              "      height: 32px;\n",
              "      padding: 0 0 0 0;\n",
              "      width: 32px;\n",
              "    }\n",
              "\n",
              "    .colab-df-convert:hover {\n",
              "      background-color: #E2EBFA;\n",
              "      box-shadow: 0px 1px 2px rgba(60, 64, 67, 0.3), 0px 1px 3px 1px rgba(60, 64, 67, 0.15);\n",
              "      fill: #174EA6;\n",
              "    }\n",
              "\n",
              "    [theme=dark] .colab-df-convert {\n",
              "      background-color: #3B4455;\n",
              "      fill: #D2E3FC;\n",
              "    }\n",
              "\n",
              "    [theme=dark] .colab-df-convert:hover {\n",
              "      background-color: #434B5C;\n",
              "      box-shadow: 0px 1px 3px 1px rgba(0, 0, 0, 0.15);\n",
              "      filter: drop-shadow(0px 1px 2px rgba(0, 0, 0, 0.3));\n",
              "      fill: #FFFFFF;\n",
              "    }\n",
              "  </style>\n",
              "\n",
              "      <script>\n",
              "        const buttonEl =\n",
              "          document.querySelector('#df-6b12be1b-d83d-4dee-b1ec-6658dde99468 button.colab-df-convert');\n",
              "        buttonEl.style.display =\n",
              "          google.colab.kernel.accessAllowed ? 'block' : 'none';\n",
              "\n",
              "        async function convertToInteractive(key) {\n",
              "          const element = document.querySelector('#df-6b12be1b-d83d-4dee-b1ec-6658dde99468');\n",
              "          const dataTable =\n",
              "            await google.colab.kernel.invokeFunction('convertToInteractive',\n",
              "                                                     [key], {});\n",
              "          if (!dataTable) return;\n",
              "\n",
              "          const docLinkHtml = 'Like what you see? Visit the ' +\n",
              "            '<a target=\"_blank\" href=https://colab.research.google.com/notebooks/data_table.ipynb>data table notebook</a>'\n",
              "            + ' to learn more about interactive tables.';\n",
              "          element.innerHTML = '';\n",
              "          dataTable['output_type'] = 'display_data';\n",
              "          await google.colab.output.renderOutput(dataTable, element);\n",
              "          const docLink = document.createElement('div');\n",
              "          docLink.innerHTML = docLinkHtml;\n",
              "          element.appendChild(docLink);\n",
              "        }\n",
              "      </script>\n",
              "    </div>\n",
              "  </div>\n",
              "  "
            ]
          },
          "metadata": {},
          "execution_count": 3
        }
      ],
      "source": [
        "data = dp.Data('/content/drive/MyDrive/Capstone/Client Work/Data/recordlinkage1.csv')\n",
        "df_data = data.data\n",
        "df_data.head()"
      ]
    },
    {
      "cell_type": "markdown",
      "source": [
        "### Using the Existing Labeler <a class=\"anchor\" id=\"second-bullet\"></a>\n"
      ],
      "metadata": {
        "id": "ZJSHlrro82HL"
      }
    },
    {
      "cell_type": "markdown",
      "source": [
        "#### We will run the pre-exisitng labeler for structured data for our dataset"
      ],
      "metadata": {
        "id": "usYJW1OF3TG_"
      }
    },
    {
      "cell_type": "code",
      "execution_count": 4,
      "metadata": {
        "colab": {
          "base_uri": "https://localhost:8080/"
        },
        "id": "cHL9TuU7IDVY",
        "outputId": "dd202054-342d-42dd-ca3a-8b618d0e6f7a"
      },
      "outputs": [
        {
          "output_type": "stream",
          "name": "stdout",
          "text": [
            "Labels: ['PAD', 'UNKNOWN', 'ADDRESS', 'BAN', 'CREDIT_CARD', 'DATE', 'TIME', 'DATETIME', 'DRIVERS_LICENSE', 'EMAIL_ADDRESS', 'UUID', 'HASH_OR_KEY', 'IPV4', 'IPV6', 'MAC_ADDRESS', 'PERSON', 'PHONE_NUMBER', 'SSN', 'URL', 'US_STATE', 'INTEGER', 'FLOAT', 'QUANTITY', 'ORDINAL']\n",
            "\n",
            "\n",
            "Label Mapping: {'PAD': 0, 'UNKNOWN': 1, 'ADDRESS': 2, 'BAN': 3, 'CREDIT_CARD': 4, 'DATE': 5, 'TIME': 6, 'DATETIME': 7, 'DRIVERS_LICENSE': 8, 'EMAIL_ADDRESS': 9, 'UUID': 10, 'HASH_OR_KEY': 11, 'IPV4': 12, 'IPV6': 13, 'MAC_ADDRESS': 14, 'PERSON': 15, 'PHONE_NUMBER': 16, 'SSN': 17, 'URL': 18, 'US_STATE': 19, 'INTEGER': 20, 'FLOAT': 21, 'QUANTITY': 22, 'ORDINAL': 23}\n",
            "\n",
            "\n",
            "Predictions: ['UNKNOWN' 'UNKNOWN' 'INTEGER' ... 'UNKNOWN' 'DATE' 'DRIVERS_LICENSE']\n",
            "\n",
            "\n",
            "Confidences: [[0. 1. 0. ... 0. 0. 0.]\n",
            " [0. 1. 0. ... 0. 0. 0.]\n",
            " [0. 0. 0. ... 0. 0. 0.]\n",
            " ...\n",
            " [0. 1. 0. ... 0. 0. 0.]\n",
            " [0. 0. 0. ... 0. 0. 0.]\n",
            " [0. 0. 0. ... 0. 0. 0.]]\n"
          ]
        }
      ],
      "source": [
        "labeler = dp.DataLabeler(labeler_type='structured')\n",
        "\n",
        "# print out the labels and label mapping\n",
        "print(\"Labels: {}\".format(labeler.labels)) \n",
        "print(\"\\n\")\n",
        "print(\"Label Mapping: {}\".format(labeler.label_mapping))\n",
        "print(\"\\n\")\n",
        "\n",
        "# make predictions and get labels for each cell going row by row\n",
        "# predict options are model dependent and the default model can show prediction confidences\n",
        "predictions = labeler.predict(data, predict_options={\"show_confidences\": True})\n",
        "\n",
        "# display prediction results\n",
        "print(\"Predictions: {}\".format(predictions['pred']))\n",
        "print(\"\\n\")\n",
        "\n",
        "# display confidence results\n",
        "print(\"Confidences: {}\".format(predictions['conf']))"
      ]
    },
    {
      "cell_type": "code",
      "execution_count": 5,
      "metadata": {
        "id": "7pCurv_1IDdw"
      },
      "outputs": [],
      "source": [
        "# helper functions for printing results\n",
        "\n",
        "def get_structured_results(results):\n",
        "    \"\"\"Helper function to get data labels for each column.\"\"\"\n",
        "    columns = []\n",
        "    predictions = []\n",
        "    samples = []\n",
        "    for col in results['data_stats']:\n",
        "        columns.append(col['column_name'])\n",
        "        predictions.append(col['data_label'])\n",
        "        samples.append(col['samples'])\n",
        "\n",
        "    df_results = pd.DataFrame({'Column': columns, 'Prediction': predictions, 'Sample': samples})\n",
        "    return df_results\n",
        "\n",
        "def get_unstructured_results(data, results):\n",
        "    \"\"\"Helper function to get data labels for each labeled piece of text.\"\"\"\n",
        "    labeled_data = []\n",
        "    for pred in results['pred'][0]:\n",
        "        labeled_data.append([data[0][pred[0]:pred[1]], pred[2]])\n",
        "    label_df = pd.DataFrame(labeled_data, columns=['Text', 'Labels'])\n",
        "    return label_df\n",
        "    \n",
        "\n",
        "pd.set_option('display.width', 100)"
      ]
    },
    {
      "cell_type": "code",
      "execution_count": 6,
      "metadata": {
        "colab": {
          "base_uri": "https://localhost:8080/"
        },
        "id": "A6-8UXGUIDhE",
        "outputId": "109c6896-d1fc-4a3f-defe-f318e132c30c"
      },
      "outputs": [
        {
          "output_type": "stream",
          "name": "stdout",
          "text": [
            "INFO:DataProfiler.profilers.profile_builder: Finding the Null values in the columns... \n"
          ]
        },
        {
          "output_type": "stream",
          "name": "stderr",
          "text": [
            "100%|██████████| 10/10 [00:00<00:00, 163.28it/s]\n"
          ]
        },
        {
          "output_type": "stream",
          "name": "stdout",
          "text": [
            "INFO:DataProfiler.profilers.profile_builder: Calculating the statistics...  (with 4 processes)\n"
          ]
        },
        {
          "output_type": "stream",
          "name": "stderr",
          "text": [
            "100%|██████████| 10/10 [00:00<00:00, 11.55it/s]\n"
          ]
        },
        {
          "output_type": "stream",
          "name": "stdout",
          "text": [
            "          Column       Prediction                                             Sample\n",
            "0     given_name          UNKNOWN          [pakita, kayla, lachlan, indiana, connor]\n",
            "1        surname          UNKNOWN        [wasley, boileau, roff, campbell, littlely]\n",
            "2  street_number          INTEGER                               [67, 303, 9, 14, 16]\n",
            "3      address_1          UNKNOWN  [hone place, shirlow place, geelong street, ga...\n",
            "4      address_2          UNKNOWN  [uarah, the lakes retirement village, northwoo...\n",
            "5         suburb          UNKNOWN  [ryde, balaklava, burwood east, belmont, norwood]\n",
            "6       postcode          INTEGER                     [5063, 0820, 3943, 3155, 5086]\n",
            "7          state          UNKNOWN                           [vic, sa, act, qld, vic]\n",
            "8  date_of_birth             DATE  [19960111, 19240510, 19140203, 19021008, 19280...\n",
            "9     soc_sec_id  DRIVERS_LICENSE      [3138813, 5659846, 5875656, 4738674, 4578360]\n"
          ]
        }
      ],
      "source": [
        "# set options to only run the labeler\n",
        "profile_options = dp.ProfilerOptions()\n",
        "profile_options.set({\"structured_options.text.is_enabled\": False, \n",
        "                     \"int.is_enabled\": False, \n",
        "                     \"float.is_enabled\": False, \n",
        "                     \"order.is_enabled\": False, \n",
        "                     \"category.is_enabled\": False, \n",
        "                     \"chi2_homogeneity.is_enabled\": False,\n",
        "                     \"datetime.is_enabled\": False,})\n",
        "\n",
        "profile = dp.Profiler(data, options=profile_options)\n",
        "\n",
        "results = profile.report()    \n",
        "print(get_structured_results(results))"
      ]
    },
    {
      "cell_type": "markdown",
      "source": [
        "In this example, the results show that the Data Profiler is able to detect integers, URLs, address, and floats appropriately. Unknown is typically strings of text, which is appropriate for those columns."
      ],
      "metadata": {
        "id": "_ggup3N434Sc"
      }
    },
    {
      "cell_type": "markdown",
      "source": [
        "### Training Labeler <a class=\"anchor\" id=\"third-bullet\"></a>"
      ],
      "metadata": {
        "id": "AlEU5cd69Mox"
      }
    },
    {
      "cell_type": "code",
      "execution_count": 7,
      "metadata": {
        "colab": {
          "base_uri": "https://localhost:8080/"
        },
        "id": "HvsN7FKxMA2F",
        "outputId": "e3524ebe-913e-4f58-a503-2975bd201524"
      },
      "outputs": [
        {
          "output_type": "execute_result",
          "data": {
            "text/plain": [
              "Index(['given_name', 'surname', 'street_number', 'address_1', 'address_2', 'suburb', 'postcode',\n",
              "       'state', 'date_of_birth', 'soc_sec_id'],\n",
              "      dtype='object')"
            ]
          },
          "metadata": {},
          "execution_count": 7
        }
      ],
      "source": [
        "data.columns"
      ]
    },
    {
      "cell_type": "markdown",
      "source": [
        "#### Here we train the labeler on the record linkage dataset"
      ],
      "metadata": {
        "id": "FYUtOf3ZOrvl"
      }
    },
    {
      "cell_type": "code",
      "execution_count": 8,
      "metadata": {
        "id": "ZI-iH5CFIDkM"
      },
      "outputs": [],
      "source": [
        "data = dp.Data('/content/drive/MyDrive/Capstone/Client Work/Data/recordlinkage1.csv')\n",
        "df = data.data[['given_name', 'surname', 'street_number', 'address_1', 'address_2', 'suburb', 'postcode',\n",
        "                'state', 'date_of_birth', 'soc_sec_id']]\n",
        "df.head()\n",
        "\n",
        "# split data to training and test set\n",
        "split_ratio = 0.2\n",
        "df = df.sample(frac=1).reset_index(drop=True)\n",
        "data_train = df[:int((1 - split_ratio) * len(df))]\n",
        "data_test = df[int((1 - split_ratio) * len(df)):]"
      ]
    },
    {
      "cell_type": "code",
      "source": [
        "# train a new labeler with column names as labels\n",
        "if not os.path.exists('data_labeler_saved'):\n",
        "    os.makedirs('data_labeler_saved')\n",
        "\n",
        "labeler = dp.train_structured_labeler(\n",
        "    data=data_train,\n",
        "    save_dirpath=\"data_labeler_saved\",\n",
        "    epochs=50,\n",
        "    default_label=\"given_name\"\n",
        ")"
      ],
      "metadata": {
        "colab": {
          "base_uri": "https://localhost:8080/"
        },
        "id": "QfaLBJRC9jtV",
        "outputId": "1962e158-a21d-4bb7-df53-df192d41ece8"
      },
      "execution_count": 10,
      "outputs": [
        {
          "output_type": "stream",
          "name": "stdout",
          "text": [
            "EPOCH 0, batch_id 1: loss: 3.810373 - acc: 0.272151 - f1_score 0.272151"
          ]
        },
        {
          "output_type": "stream",
          "name": "stderr",
          "text": [
            "/usr/local/lib/python3.7/dist-packages/keras/engine/training.py:2034: UserWarning: Metric F1Score implements a `reset_states()` method; rename it to `reset_state()` (without the final \"s\"). The name `reset_states()` has been deprecated to improve API consistency.\n",
            "  m.reset_state()\n"
          ]
        },
        {
          "output_type": "stream",
          "name": "stdout",
          "text": [
            "EPOCH 0 (3s), loss: 2.989107 - acc: 0.387145 - f1_score 0.387145 -- val_f1: 0.065428 - val_precision: 0.079006 - val_recall 0.136769\n"
          ]
        },
        {
          "output_type": "stream",
          "name": "stderr",
          "text": [
            "/usr/local/lib/python3.7/dist-packages/keras/engine/training.py:2034: UserWarning: Metric F1Score implements a `reset_states()` method; rename it to `reset_state()` (without the final \"s\"). The name `reset_states()` has been deprecated to improve API consistency.\n",
            "  m.reset_state()\n"
          ]
        },
        {
          "output_type": "stream",
          "name": "stdout",
          "text": [
            "EPOCH 1 (0s), loss: 1.741082 - acc: 0.520450 - f1_score 0.520450 -- val_f1: 0.088839 - val_precision: 0.285110 - val_recall 0.202605\n"
          ]
        },
        {
          "output_type": "stream",
          "name": "stderr",
          "text": [
            "/usr/local/lib/python3.7/dist-packages/keras/engine/training.py:2034: UserWarning: Metric F1Score implements a `reset_states()` method; rename it to `reset_state()` (without the final \"s\"). The name `reset_states()` has been deprecated to improve API consistency.\n",
            "  m.reset_state()\n"
          ]
        },
        {
          "output_type": "stream",
          "name": "stdout",
          "text": [
            "EPOCH 2 (0s), loss: 1.284778 - acc: 0.598235 - f1_score 0.598235 -- val_f1: 0.135467 - val_precision: 0.478243 - val_recall 0.222202\n"
          ]
        },
        {
          "output_type": "stream",
          "name": "stderr",
          "text": [
            "/usr/local/lib/python3.7/dist-packages/keras/engine/training.py:2034: UserWarning: Metric F1Score implements a `reset_states()` method; rename it to `reset_state()` (without the final \"s\"). The name `reset_states()` has been deprecated to improve API consistency.\n",
            "  m.reset_state()\n"
          ]
        },
        {
          "output_type": "stream",
          "name": "stdout",
          "text": [
            "EPOCH 3 (0s), loss: 1.083605 - acc: 0.655121 - f1_score 0.655121 -- val_f1: 0.209598 - val_precision: 0.536079 - val_recall 0.265324\n"
          ]
        },
        {
          "output_type": "stream",
          "name": "stderr",
          "text": [
            "/usr/local/lib/python3.7/dist-packages/keras/engine/training.py:2034: UserWarning: Metric F1Score implements a `reset_states()` method; rename it to `reset_state()` (without the final \"s\"). The name `reset_states()` has been deprecated to improve API consistency.\n",
            "  m.reset_state()\n"
          ]
        },
        {
          "output_type": "stream",
          "name": "stdout",
          "text": [
            "EPOCH 4 (0s), loss: 0.903651 - acc: 0.692076 - f1_score 0.692076 -- val_f1: 0.343902 - val_precision: 0.618413 - val_recall 0.354812\n"
          ]
        },
        {
          "output_type": "stream",
          "name": "stderr",
          "text": [
            "/usr/local/lib/python3.7/dist-packages/keras/engine/training.py:2034: UserWarning: Metric F1Score implements a `reset_states()` method; rename it to `reset_state()` (without the final \"s\"). The name `reset_states()` has been deprecated to improve API consistency.\n",
            "  m.reset_state()\n"
          ]
        },
        {
          "output_type": "stream",
          "name": "stdout",
          "text": [
            "EPOCH 5 (0s), loss: 0.786716 - acc: 0.719619 - f1_score 0.719619 -- val_f1: 0.455977 - val_precision: 0.658502 - val_recall 0.447480\n"
          ]
        },
        {
          "output_type": "stream",
          "name": "stderr",
          "text": [
            "/usr/local/lib/python3.7/dist-packages/keras/engine/training.py:2034: UserWarning: Metric F1Score implements a `reset_states()` method; rename it to `reset_state()` (without the final \"s\"). The name `reset_states()` has been deprecated to improve API consistency.\n",
            "  m.reset_state()\n"
          ]
        },
        {
          "output_type": "stream",
          "name": "stdout",
          "text": [
            "EPOCH 6 (0s), loss: 0.695297 - acc: 0.740484 - f1_score 0.740484 -- val_f1: 0.520843 - val_precision: 0.680633 - val_recall 0.507155\n"
          ]
        },
        {
          "output_type": "stream",
          "name": "stderr",
          "text": [
            "/usr/local/lib/python3.7/dist-packages/keras/engine/training.py:2034: UserWarning: Metric F1Score implements a `reset_states()` method; rename it to `reset_state()` (without the final \"s\"). The name `reset_states()` has been deprecated to improve API consistency.\n",
            "  m.reset_state()\n"
          ]
        },
        {
          "output_type": "stream",
          "name": "stdout",
          "text": [
            "EPOCH 7 (0s), loss: 0.642216 - acc: 0.761090 - f1_score 0.761090 -- val_f1: 0.571156 - val_precision: 0.693207 - val_recall 0.560766\n"
          ]
        },
        {
          "output_type": "stream",
          "name": "stderr",
          "text": [
            "/usr/local/lib/python3.7/dist-packages/keras/engine/training.py:2034: UserWarning: Metric F1Score implements a `reset_states()` method; rename it to `reset_state()` (without the final \"s\"). The name `reset_states()` has been deprecated to improve API consistency.\n",
            "  m.reset_state()\n"
          ]
        },
        {
          "output_type": "stream",
          "name": "stdout",
          "text": [
            "EPOCH 8 (0s), loss: 0.601715 - acc: 0.772249 - f1_score 0.772249 -- val_f1: 0.614555 - val_precision: 0.703835 - val_recall 0.610406\n"
          ]
        },
        {
          "output_type": "stream",
          "name": "stderr",
          "text": [
            "/usr/local/lib/python3.7/dist-packages/keras/engine/training.py:2034: UserWarning: Metric F1Score implements a `reset_states()` method; rename it to `reset_state()` (without the final \"s\"). The name `reset_states()` has been deprecated to improve API consistency.\n",
            "  m.reset_state()\n"
          ]
        },
        {
          "output_type": "stream",
          "name": "stdout",
          "text": [
            "EPOCH 9 (0s), loss: 0.551461 - acc: 0.794654 - f1_score 0.794654 -- val_f1: 0.647506 - val_precision: 0.717917 - val_recall 0.649116\n"
          ]
        },
        {
          "output_type": "stream",
          "name": "stderr",
          "text": [
            "/usr/local/lib/python3.7/dist-packages/keras/engine/training.py:2034: UserWarning: Metric F1Score implements a `reset_states()` method; rename it to `reset_state()` (without the final \"s\"). The name `reset_states()` has been deprecated to improve API consistency.\n",
            "  m.reset_state()\n"
          ]
        },
        {
          "output_type": "stream",
          "name": "stdout",
          "text": [
            "EPOCH 10 (0s), loss: 0.514511 - acc: 0.811176 - f1_score 0.811176 -- val_f1: 0.675951 - val_precision: 0.731459 - val_recall 0.682203\n"
          ]
        },
        {
          "output_type": "stream",
          "name": "stderr",
          "text": [
            "/usr/local/lib/python3.7/dist-packages/keras/engine/training.py:2034: UserWarning: Metric F1Score implements a `reset_states()` method; rename it to `reset_state()` (without the final \"s\"). The name `reset_states()` has been deprecated to improve API consistency.\n",
            "  m.reset_state()\n"
          ]
        },
        {
          "output_type": "stream",
          "name": "stdout",
          "text": [
            "EPOCH 11 (0s), loss: 0.482730 - acc: 0.821920 - f1_score 0.821920 -- val_f1: 0.700628 - val_precision: 0.744549 - val_recall 0.710898\n"
          ]
        },
        {
          "output_type": "stream",
          "name": "stderr",
          "text": [
            "/usr/local/lib/python3.7/dist-packages/keras/engine/training.py:2034: UserWarning: Metric F1Score implements a `reset_states()` method; rename it to `reset_state()` (without the final \"s\"). The name `reset_states()` has been deprecated to improve API consistency.\n",
            "  m.reset_state()\n"
          ]
        },
        {
          "output_type": "stream",
          "name": "stdout",
          "text": [
            "EPOCH 12 (0s), loss: 0.452670 - acc: 0.831851 - f1_score 0.831851 -- val_f1: 0.723001 - val_precision: 0.760000 - val_recall 0.736813\n"
          ]
        },
        {
          "output_type": "stream",
          "name": "stderr",
          "text": [
            "/usr/local/lib/python3.7/dist-packages/keras/engine/training.py:2034: UserWarning: Metric F1Score implements a `reset_states()` method; rename it to `reset_state()` (without the final \"s\"). The name `reset_states()` has been deprecated to improve API consistency.\n",
            "  m.reset_state()\n"
          ]
        },
        {
          "output_type": "stream",
          "name": "stdout",
          "text": [
            "EPOCH 13 (0s), loss: 0.424706 - acc: 0.841384 - f1_score 0.841384 -- val_f1: 0.743737 - val_precision: 0.775202 - val_recall 0.759222\n"
          ]
        },
        {
          "output_type": "stream",
          "name": "stderr",
          "text": [
            "/usr/local/lib/python3.7/dist-packages/keras/engine/training.py:2034: UserWarning: Metric F1Score implements a `reset_states()` method; rename it to `reset_state()` (without the final \"s\"). The name `reset_states()` has been deprecated to improve API consistency.\n",
            "  m.reset_state()\n"
          ]
        },
        {
          "output_type": "stream",
          "name": "stdout",
          "text": [
            "EPOCH 14 (0s), loss: 0.397602 - acc: 0.846557 - f1_score 0.846557 -- val_f1: 0.764038 - val_precision: 0.796239 - val_recall 0.778514\n"
          ]
        },
        {
          "output_type": "stream",
          "name": "stderr",
          "text": [
            "/usr/local/lib/python3.7/dist-packages/keras/engine/training.py:2034: UserWarning: Metric F1Score implements a `reset_states()` method; rename it to `reset_state()` (without the final \"s\"). The name `reset_states()` has been deprecated to improve API consistency.\n",
            "  m.reset_state()\n"
          ]
        },
        {
          "output_type": "stream",
          "name": "stdout",
          "text": [
            "EPOCH 15 (0s), loss: 0.389249 - acc: 0.850087 - f1_score 0.850087 -- val_f1: 0.784069 - val_precision: 0.817148 - val_recall 0.797311\n"
          ]
        },
        {
          "output_type": "stream",
          "name": "stderr",
          "text": [
            "/usr/local/lib/python3.7/dist-packages/keras/engine/training.py:2034: UserWarning: Metric F1Score implements a `reset_states()` method; rename it to `reset_state()` (without the final \"s\"). The name `reset_states()` has been deprecated to improve API consistency.\n",
            "  m.reset_state()\n"
          ]
        },
        {
          "output_type": "stream",
          "name": "stdout",
          "text": [
            "EPOCH 16 (0s), loss: 0.374471 - acc: 0.855121 - f1_score 0.855121 -- val_f1: 0.802297 - val_precision: 0.835862 - val_recall 0.813306\n"
          ]
        },
        {
          "output_type": "stream",
          "name": "stderr",
          "text": [
            "/usr/local/lib/python3.7/dist-packages/keras/engine/training.py:2034: UserWarning: Metric F1Score implements a `reset_states()` method; rename it to `reset_state()` (without the final \"s\"). The name `reset_states()` has been deprecated to improve API consistency.\n",
            "  m.reset_state()\n"
          ]
        },
        {
          "output_type": "stream",
          "name": "stdout",
          "text": [
            "EPOCH 17 (0s), loss: 0.365146 - acc: 0.857768 - f1_score 0.857768 -- val_f1: 0.815031 - val_precision: 0.851951 - val_recall 0.825311\n"
          ]
        },
        {
          "output_type": "stream",
          "name": "stderr",
          "text": [
            "/usr/local/lib/python3.7/dist-packages/keras/engine/training.py:2034: UserWarning: Metric F1Score implements a `reset_states()` method; rename it to `reset_state()` (without the final \"s\"). The name `reset_states()` has been deprecated to improve API consistency.\n",
            "  m.reset_state()\n"
          ]
        },
        {
          "output_type": "stream",
          "name": "stdout",
          "text": [
            "EPOCH 18 (0s), loss: 0.359486 - acc: 0.856159 - f1_score 0.856159 -- val_f1: 0.826515 - val_precision: 0.863206 - val_recall 0.835378\n"
          ]
        },
        {
          "output_type": "stream",
          "name": "stderr",
          "text": [
            "/usr/local/lib/python3.7/dist-packages/keras/engine/training.py:2034: UserWarning: Metric F1Score implements a `reset_states()` method; rename it to `reset_state()` (without the final \"s\"). The name `reset_states()` has been deprecated to improve API consistency.\n",
            "  m.reset_state()\n"
          ]
        },
        {
          "output_type": "stream",
          "name": "stdout",
          "text": [
            "EPOCH 19 (0s), loss: 0.345259 - acc: 0.863633 - f1_score 0.863633 -- val_f1: 0.836103 - val_precision: 0.869822 - val_recall 0.843434\n"
          ]
        },
        {
          "output_type": "stream",
          "name": "stderr",
          "text": [
            "/usr/local/lib/python3.7/dist-packages/keras/engine/training.py:2034: UserWarning: Metric F1Score implements a `reset_states()` method; rename it to `reset_state()` (without the final \"s\"). The name `reset_states()` has been deprecated to improve API consistency.\n",
            "  m.reset_state()\n"
          ]
        },
        {
          "output_type": "stream",
          "name": "stdout",
          "text": [
            "EPOCH 20 (0s), loss: 0.333361 - acc: 0.868754 - f1_score 0.868754 -- val_f1: 0.844984 - val_precision: 0.875995 - val_recall 0.851279\n"
          ]
        },
        {
          "output_type": "stream",
          "name": "stderr",
          "text": [
            "/usr/local/lib/python3.7/dist-packages/keras/engine/training.py:2034: UserWarning: Metric F1Score implements a `reset_states()` method; rename it to `reset_state()` (without the final \"s\"). The name `reset_states()` has been deprecated to improve API consistency.\n",
            "  m.reset_state()\n"
          ]
        },
        {
          "output_type": "stream",
          "name": "stdout",
          "text": [
            "EPOCH 21 (0s), loss: 0.319339 - acc: 0.873772 - f1_score 0.873772 -- val_f1: 0.851318 - val_precision: 0.881418 - val_recall 0.857208\n"
          ]
        },
        {
          "output_type": "stream",
          "name": "stderr",
          "text": [
            "/usr/local/lib/python3.7/dist-packages/keras/engine/training.py:2034: UserWarning: Metric F1Score implements a `reset_states()` method; rename it to `reset_state()` (without the final \"s\"). The name `reset_states()` has been deprecated to improve API consistency.\n",
            "  m.reset_state()\n"
          ]
        },
        {
          "output_type": "stream",
          "name": "stdout",
          "text": [
            "EPOCH 22 (0s), loss: 0.324854 - acc: 0.869221 - f1_score 0.869221 -- val_f1: 0.856648 - val_precision: 0.885956 - val_recall 0.862494\n"
          ]
        },
        {
          "output_type": "stream",
          "name": "stderr",
          "text": [
            "/usr/local/lib/python3.7/dist-packages/keras/engine/training.py:2034: UserWarning: Metric F1Score implements a `reset_states()` method; rename it to `reset_state()` (without the final \"s\"). The name `reset_states()` has been deprecated to improve API consistency.\n",
            "  m.reset_state()\n"
          ]
        },
        {
          "output_type": "stream",
          "name": "stdout",
          "text": [
            "EPOCH 23 (0s), loss: 0.294841 - acc: 0.882889 - f1_score 0.882889 -- val_f1: 0.860818 - val_precision: 0.888432 - val_recall 0.866201\n"
          ]
        },
        {
          "output_type": "stream",
          "name": "stderr",
          "text": [
            "/usr/local/lib/python3.7/dist-packages/keras/engine/training.py:2034: UserWarning: Metric F1Score implements a `reset_states()` method; rename it to `reset_state()` (without the final \"s\"). The name `reset_states()` has been deprecated to improve API consistency.\n",
            "  m.reset_state()\n"
          ]
        },
        {
          "output_type": "stream",
          "name": "stdout",
          "text": [
            "EPOCH 24 (0s), loss: 0.306606 - acc: 0.878408 - f1_score 0.878408 -- val_f1: 0.865552 - val_precision: 0.890850 - val_recall 0.870960\n"
          ]
        },
        {
          "output_type": "stream",
          "name": "stderr",
          "text": [
            "/usr/local/lib/python3.7/dist-packages/keras/engine/training.py:2034: UserWarning: Metric F1Score implements a `reset_states()` method; rename it to `reset_state()` (without the final \"s\"). The name `reset_states()` has been deprecated to improve API consistency.\n",
            "  m.reset_state()\n"
          ]
        },
        {
          "output_type": "stream",
          "name": "stdout",
          "text": [
            "EPOCH 25 (0s), loss: 0.292208 - acc: 0.882855 - f1_score 0.882855 -- val_f1: 0.869042 - val_precision: 0.893921 - val_recall 0.874151\n"
          ]
        },
        {
          "output_type": "stream",
          "name": "stderr",
          "text": [
            "/usr/local/lib/python3.7/dist-packages/keras/engine/training.py:2034: UserWarning: Metric F1Score implements a `reset_states()` method; rename it to `reset_state()` (without the final \"s\"). The name `reset_states()` has been deprecated to improve API consistency.\n",
            "  m.reset_state()\n"
          ]
        },
        {
          "output_type": "stream",
          "name": "stdout",
          "text": [
            "EPOCH 26 (0s), loss: 0.287362 - acc: 0.885830 - f1_score 0.885830 -- val_f1: 0.872975 - val_precision: 0.896575 - val_recall 0.877479\n"
          ]
        },
        {
          "output_type": "stream",
          "name": "stderr",
          "text": [
            "/usr/local/lib/python3.7/dist-packages/keras/engine/training.py:2034: UserWarning: Metric F1Score implements a `reset_states()` method; rename it to `reset_state()` (without the final \"s\"). The name `reset_states()` has been deprecated to improve API consistency.\n",
            "  m.reset_state()\n"
          ]
        },
        {
          "output_type": "stream",
          "name": "stdout",
          "text": [
            "EPOCH 27 (0s), loss: 0.285377 - acc: 0.885848 - f1_score 0.885848 -- val_f1: 0.875586 - val_precision: 0.897918 - val_recall 0.879595\n"
          ]
        },
        {
          "output_type": "stream",
          "name": "stderr",
          "text": [
            "/usr/local/lib/python3.7/dist-packages/keras/engine/training.py:2034: UserWarning: Metric F1Score implements a `reset_states()` method; rename it to `reset_state()` (without the final \"s\"). The name `reset_states()` has been deprecated to improve API consistency.\n",
            "  m.reset_state()\n"
          ]
        },
        {
          "output_type": "stream",
          "name": "stdout",
          "text": [
            "EPOCH 28 (0s), loss: 0.278654 - acc: 0.888443 - f1_score 0.888443 -- val_f1: 0.877834 - val_precision: 0.899852 - val_recall 0.881564\n"
          ]
        },
        {
          "output_type": "stream",
          "name": "stderr",
          "text": [
            "/usr/local/lib/python3.7/dist-packages/keras/engine/training.py:2034: UserWarning: Metric F1Score implements a `reset_states()` method; rename it to `reset_state()` (without the final \"s\"). The name `reset_states()` has been deprecated to improve API consistency.\n",
            "  m.reset_state()\n"
          ]
        },
        {
          "output_type": "stream",
          "name": "stdout",
          "text": [
            "EPOCH 29 (0s), loss: 0.269336 - acc: 0.891592 - f1_score 0.891592 -- val_f1: 0.879696 - val_precision: 0.900837 - val_recall 0.883649\n"
          ]
        },
        {
          "output_type": "stream",
          "name": "stderr",
          "text": [
            "/usr/local/lib/python3.7/dist-packages/keras/engine/training.py:2034: UserWarning: Metric F1Score implements a `reset_states()` method; rename it to `reset_state()` (without the final \"s\"). The name `reset_states()` has been deprecated to improve API consistency.\n",
            "  m.reset_state()\n"
          ]
        },
        {
          "output_type": "stream",
          "name": "stdout",
          "text": [
            "EPOCH 30 (0s), loss: 0.270798 - acc: 0.890104 - f1_score 0.890104 -- val_f1: 0.883108 - val_precision: 0.903071 - val_recall 0.886271\n"
          ]
        },
        {
          "output_type": "stream",
          "name": "stderr",
          "text": [
            "/usr/local/lib/python3.7/dist-packages/keras/engine/training.py:2034: UserWarning: Metric F1Score implements a `reset_states()` method; rename it to `reset_state()` (without the final \"s\"). The name `reset_states()` has been deprecated to improve API consistency.\n",
            "  m.reset_state()\n"
          ]
        },
        {
          "output_type": "stream",
          "name": "stdout",
          "text": [
            "EPOCH 31 (0s), loss: 0.262606 - acc: 0.894204 - f1_score 0.894204 -- val_f1: 0.886958 - val_precision: 0.904297 - val_recall 0.889483\n"
          ]
        },
        {
          "output_type": "stream",
          "name": "stderr",
          "text": [
            "/usr/local/lib/python3.7/dist-packages/keras/engine/training.py:2034: UserWarning: Metric F1Score implements a `reset_states()` method; rename it to `reset_state()` (without the final \"s\"). The name `reset_states()` has been deprecated to improve API consistency.\n",
            "  m.reset_state()\n"
          ]
        },
        {
          "output_type": "stream",
          "name": "stdout",
          "text": [
            "EPOCH 32 (0s), loss: 0.260707 - acc: 0.897163 - f1_score 0.897163 -- val_f1: 0.888476 - val_precision: 0.905886 - val_recall 0.890873\n"
          ]
        },
        {
          "output_type": "stream",
          "name": "stderr",
          "text": [
            "/usr/local/lib/python3.7/dist-packages/keras/engine/training.py:2034: UserWarning: Metric F1Score implements a `reset_states()` method; rename it to `reset_state()` (without the final \"s\"). The name `reset_states()` has been deprecated to improve API consistency.\n",
            "  m.reset_state()\n"
          ]
        },
        {
          "output_type": "stream",
          "name": "stdout",
          "text": [
            "EPOCH 33 (0s), loss: 0.262811 - acc: 0.895986 - f1_score 0.895986 -- val_f1: 0.889066 - val_precision: 0.906388 - val_recall 0.891810\n"
          ]
        },
        {
          "output_type": "stream",
          "name": "stderr",
          "text": [
            "/usr/local/lib/python3.7/dist-packages/keras/engine/training.py:2034: UserWarning: Metric F1Score implements a `reset_states()` method; rename it to `reset_state()` (without the final \"s\"). The name `reset_states()` has been deprecated to improve API consistency.\n",
            "  m.reset_state()\n"
          ]
        },
        {
          "output_type": "stream",
          "name": "stdout",
          "text": [
            "EPOCH 34 (0s), loss: 0.240287 - acc: 0.904706 - f1_score 0.904706 -- val_f1: 0.890435 - val_precision: 0.906521 - val_recall 0.893464\n"
          ]
        },
        {
          "output_type": "stream",
          "name": "stderr",
          "text": [
            "/usr/local/lib/python3.7/dist-packages/keras/engine/training.py:2034: UserWarning: Metric F1Score implements a `reset_states()` method; rename it to `reset_state()` (without the final \"s\"). The name `reset_states()` has been deprecated to improve API consistency.\n",
            "  m.reset_state()\n"
          ]
        },
        {
          "output_type": "stream",
          "name": "stdout",
          "text": [
            "EPOCH 35 (0s), loss: 0.254986 - acc: 0.897716 - f1_score 0.897716 -- val_f1: 0.893965 - val_precision: 0.908406 - val_recall 0.896486\n"
          ]
        },
        {
          "output_type": "stream",
          "name": "stderr",
          "text": [
            "/usr/local/lib/python3.7/dist-packages/keras/engine/training.py:2034: UserWarning: Metric F1Score implements a `reset_states()` method; rename it to `reset_state()` (without the final \"s\"). The name `reset_states()` has been deprecated to improve API consistency.\n",
            "  m.reset_state()\n"
          ]
        },
        {
          "output_type": "stream",
          "name": "stdout",
          "text": [
            "EPOCH 36 (0s), loss: 0.244407 - acc: 0.904343 - f1_score 0.904343 -- val_f1: 0.896083 - val_precision: 0.910617 - val_recall 0.897718\n"
          ]
        },
        {
          "output_type": "stream",
          "name": "stderr",
          "text": [
            "/usr/local/lib/python3.7/dist-packages/keras/engine/training.py:2034: UserWarning: Metric F1Score implements a `reset_states()` method; rename it to `reset_state()` (without the final \"s\"). The name `reset_states()` has been deprecated to improve API consistency.\n",
            "  m.reset_state()\n"
          ]
        },
        {
          "output_type": "stream",
          "name": "stdout",
          "text": [
            "EPOCH 37 (0s), loss: 0.245936 - acc: 0.902266 - f1_score 0.902266 -- val_f1: 0.898538 - val_precision: 0.912109 - val_recall 0.899824\n"
          ]
        },
        {
          "output_type": "stream",
          "name": "stderr",
          "text": [
            "/usr/local/lib/python3.7/dist-packages/keras/engine/training.py:2034: UserWarning: Metric F1Score implements a `reset_states()` method; rename it to `reset_state()` (without the final \"s\"). The name `reset_states()` has been deprecated to improve API consistency.\n",
            "  m.reset_state()\n"
          ]
        },
        {
          "output_type": "stream",
          "name": "stdout",
          "text": [
            "EPOCH 38 (0s), loss: 0.234315 - acc: 0.906799 - f1_score 0.906799 -- val_f1: 0.901218 - val_precision: 0.912545 - val_recall 0.902594\n"
          ]
        },
        {
          "output_type": "stream",
          "name": "stderr",
          "text": [
            "/usr/local/lib/python3.7/dist-packages/keras/engine/training.py:2034: UserWarning: Metric F1Score implements a `reset_states()` method; rename it to `reset_state()` (without the final \"s\"). The name `reset_states()` has been deprecated to improve API consistency.\n",
            "  m.reset_state()\n"
          ]
        },
        {
          "output_type": "stream",
          "name": "stdout",
          "text": [
            "EPOCH 39 (0s), loss: 0.250538 - acc: 0.900606 - f1_score 0.900606 -- val_f1: 0.904693 - val_precision: 0.914032 - val_recall 0.905637\n"
          ]
        },
        {
          "output_type": "stream",
          "name": "stderr",
          "text": [
            "/usr/local/lib/python3.7/dist-packages/keras/engine/training.py:2034: UserWarning: Metric F1Score implements a `reset_states()` method; rename it to `reset_state()` (without the final \"s\"). The name `reset_states()` has been deprecated to improve API consistency.\n",
            "  m.reset_state()\n"
          ]
        },
        {
          "output_type": "stream",
          "name": "stdout",
          "text": [
            "EPOCH 40 (1s), loss: 0.227407 - acc: 0.910519 - f1_score 0.910519 -- val_f1: 0.907824 - val_precision: 0.916262 - val_recall 0.907964\n"
          ]
        },
        {
          "output_type": "stream",
          "name": "stderr",
          "text": [
            "/usr/local/lib/python3.7/dist-packages/keras/engine/training.py:2034: UserWarning: Metric F1Score implements a `reset_states()` method; rename it to `reset_state()` (without the final \"s\"). The name `reset_states()` has been deprecated to improve API consistency.\n",
            "  m.reset_state()\n"
          ]
        },
        {
          "output_type": "stream",
          "name": "stdout",
          "text": [
            "EPOCH 41 (0s), loss: 0.244500 - acc: 0.903875 - f1_score 0.903875 -- val_f1: 0.908707 - val_precision: 0.916686 - val_recall 0.909291\n"
          ]
        },
        {
          "output_type": "stream",
          "name": "stderr",
          "text": [
            "/usr/local/lib/python3.7/dist-packages/keras/engine/training.py:2034: UserWarning: Metric F1Score implements a `reset_states()` method; rename it to `reset_state()` (without the final \"s\"). The name `reset_states()` has been deprecated to improve API consistency.\n",
            "  m.reset_state()\n"
          ]
        },
        {
          "output_type": "stream",
          "name": "stdout",
          "text": [
            "EPOCH 42 (0s), loss: 0.228190 - acc: 0.910779 - f1_score 0.910779 -- val_f1: 0.909345 - val_precision: 0.917380 - val_recall 0.910260\n"
          ]
        },
        {
          "output_type": "stream",
          "name": "stderr",
          "text": [
            "/usr/local/lib/python3.7/dist-packages/keras/engine/training.py:2034: UserWarning: Metric F1Score implements a `reset_states()` method; rename it to `reset_state()` (without the final \"s\"). The name `reset_states()` has been deprecated to improve API consistency.\n",
            "  m.reset_state()\n"
          ]
        },
        {
          "output_type": "stream",
          "name": "stdout",
          "text": [
            "EPOCH 43 (0s), loss: 0.239474 - acc: 0.903581 - f1_score 0.903581 -- val_f1: 0.911706 - val_precision: 0.918747 - val_recall 0.912218\n"
          ]
        },
        {
          "output_type": "stream",
          "name": "stderr",
          "text": [
            "/usr/local/lib/python3.7/dist-packages/keras/engine/training.py:2034: UserWarning: Metric F1Score implements a `reset_states()` method; rename it to `reset_state()` (without the final \"s\"). The name `reset_states()` has been deprecated to improve API consistency.\n",
            "  m.reset_state()\n"
          ]
        },
        {
          "output_type": "stream",
          "name": "stdout",
          "text": [
            "EPOCH 44 (0s), loss: 0.220831 - acc: 0.914792 - f1_score 0.914792 -- val_f1: 0.912923 - val_precision: 0.919396 - val_recall 0.913545\n"
          ]
        },
        {
          "output_type": "stream",
          "name": "stderr",
          "text": [
            "/usr/local/lib/python3.7/dist-packages/keras/engine/training.py:2034: UserWarning: Metric F1Score implements a `reset_states()` method; rename it to `reset_state()` (without the final \"s\"). The name `reset_states()` has been deprecated to improve API consistency.\n",
            "  m.reset_state()\n"
          ]
        },
        {
          "output_type": "stream",
          "name": "stdout",
          "text": [
            "EPOCH 45 (1s), loss: 0.222838 - acc: 0.913616 - f1_score 0.913616 -- val_f1: 0.913712 - val_precision: 0.919679 - val_recall 0.914609\n"
          ]
        },
        {
          "output_type": "stream",
          "name": "stderr",
          "text": [
            "/usr/local/lib/python3.7/dist-packages/keras/engine/training.py:2034: UserWarning: Metric F1Score implements a `reset_states()` method; rename it to `reset_state()` (without the final \"s\"). The name `reset_states()` has been deprecated to improve API consistency.\n",
            "  m.reset_state()\n"
          ]
        },
        {
          "output_type": "stream",
          "name": "stdout",
          "text": [
            "EPOCH 46 (1s), loss: 0.222635 - acc: 0.914481 - f1_score 0.914481 -- val_f1: 0.915359 - val_precision: 0.920675 - val_recall 0.915925\n"
          ]
        },
        {
          "output_type": "stream",
          "name": "stderr",
          "text": [
            "/usr/local/lib/python3.7/dist-packages/keras/engine/training.py:2034: UserWarning: Metric F1Score implements a `reset_states()` method; rename it to `reset_state()` (without the final \"s\"). The name `reset_states()` has been deprecated to improve API consistency.\n",
            "  m.reset_state()\n"
          ]
        },
        {
          "output_type": "stream",
          "name": "stdout",
          "text": [
            "EPOCH 47 (0s), loss: 0.211540 - acc: 0.915519 - f1_score 0.915519 -- val_f1: 0.916550 - val_precision: 0.921293 - val_recall 0.917020\n"
          ]
        },
        {
          "output_type": "stream",
          "name": "stderr",
          "text": [
            "/usr/local/lib/python3.7/dist-packages/keras/engine/training.py:2034: UserWarning: Metric F1Score implements a `reset_states()` method; rename it to `reset_state()` (without the final \"s\"). The name `reset_states()` has been deprecated to improve API consistency.\n",
            "  m.reset_state()\n"
          ]
        },
        {
          "output_type": "stream",
          "name": "stdout",
          "text": [
            "EPOCH 48 (0s), loss: 0.214847 - acc: 0.916644 - f1_score 0.916644 -- val_f1: 0.916960 - val_precision: 0.920340 - val_recall 0.917757\n"
          ]
        },
        {
          "output_type": "stream",
          "name": "stderr",
          "text": [
            "/usr/local/lib/python3.7/dist-packages/keras/engine/training.py:2034: UserWarning: Metric F1Score implements a `reset_states()` method; rename it to `reset_state()` (without the final \"s\"). The name `reset_states()` has been deprecated to improve API consistency.\n",
            "  m.reset_state()\n"
          ]
        },
        {
          "output_type": "stream",
          "name": "stdout",
          "text": [
            "EPOCH 49 (0s), loss: 0.206754 - acc: 0.918166 - f1_score 0.918166 -- val_f1: 0.917930 - val_precision: 0.920696 - val_recall 0.918495\n"
          ]
        }
      ]
    },
    {
      "cell_type": "code",
      "source": [
        "faker_data= dp.Data('/content/drive/MyDrive/Capstone/Client Work/Data/Fake_data.csv')"
      ],
      "metadata": {
        "id": "zHaf6LUHwEGD"
      },
      "execution_count": 11,
      "outputs": []
    },
    {
      "cell_type": "code",
      "source": [
        "faker_data.columns"
      ],
      "metadata": {
        "colab": {
          "base_uri": "https://localhost:8080/"
        },
        "id": "YKCPBRdawPfp",
        "outputId": "8d176f1f-0969-4e0c-ba5f-75e952b5350f"
      },
      "execution_count": 12,
      "outputs": [
        {
          "output_type": "execute_result",
          "data": {
            "text/plain": [
              "Index(['given_name', 'surname', 'street_number', 'address_1', 'address_2', 'suburb', 'postcode',\n",
              "       'state', 'date_of_birth', 'soc_sec_id'],\n",
              "      dtype='object')"
            ]
          },
          "metadata": {},
          "execution_count": 12
        }
      ]
    },
    {
      "cell_type": "markdown",
      "source": [
        "#### Here we train the labeler on the dataset that we have created using faker"
      ],
      "metadata": {
        "id": "Ur3lsXEQOxHW"
      }
    },
    {
      "cell_type": "code",
      "source": [
        "df1 = faker_data.data[['given_name', 'surname', 'street_number', 'address_1', 'address_2', 'suburb', 'postcode',\n",
        "                'state', 'date_of_birth', 'soc_sec_id']]\n",
        "df1.head()\n",
        "\n",
        "# split data to training and test set\n",
        "split_ratio = 0.2\n",
        "df1 = df1.sample(frac=1).reset_index(drop=True)\n",
        "data_train1 = df1[:int((1 - split_ratio) * len(df1))]\n",
        "data_test1 = df1[int((1 - split_ratio) * len(df1)):]"
      ],
      "metadata": {
        "id": "_bOxtlCjwnSG"
      },
      "execution_count": 13,
      "outputs": []
    },
    {
      "cell_type": "code",
      "source": [
        "# train a new labeler with column names as labels\n",
        "if not os.path.exists('data_labeler_saved'):\n",
        "    os.makedirs('data_labeler_saved')\n",
        "\n",
        "labeler_faker = dp.train_structured_labeler(\n",
        "    data=data_train1,\n",
        "    save_dirpath=\"data_labeler_saved\",\n",
        "    epochs=20,\n",
        "    default_label=\"given_name\"\n",
        ")"
      ],
      "metadata": {
        "colab": {
          "base_uri": "https://localhost:8080/"
        },
        "id": "Ri2D0kMpwBFI",
        "outputId": "01225dc4-72a6-402d-d4b7-54d7bbe0b37a"
      },
      "execution_count": 14,
      "outputs": [
        {
          "output_type": "stream",
          "name": "stdout",
          "text": [
            "\rEPOCH 0, batch_id 0: loss: 4.052550 - acc: 0.145919 - f1_score 0.145919"
          ]
        },
        {
          "output_type": "stream",
          "name": "stderr",
          "text": [
            "/usr/local/lib/python3.7/dist-packages/keras/engine/training.py:2034: UserWarning: Metric F1Score implements a `reset_states()` method; rename it to `reset_state()` (without the final \"s\"). The name `reset_states()` has been deprecated to improve API consistency.\n",
            "  m.reset_state()\n"
          ]
        },
        {
          "output_type": "stream",
          "name": "stdout",
          "text": [
            "EPOCH 0 (5s), loss: 1.514228 - acc: 0.616490 - f1_score 0.616490 -- val_f1: 0.362958 - val_precision: 0.428006 - val_recall 0.468975\n"
          ]
        },
        {
          "output_type": "stream",
          "name": "stderr",
          "text": [
            "/usr/local/lib/python3.7/dist-packages/keras/engine/training.py:2034: UserWarning: Metric F1Score implements a `reset_states()` method; rename it to `reset_state()` (without the final \"s\"). The name `reset_states()` has been deprecated to improve API consistency.\n",
            "  m.reset_state()\n"
          ]
        },
        {
          "output_type": "stream",
          "name": "stdout",
          "text": [
            "EPOCH 1 (1s), loss: 0.879483 - acc: 0.717529 - f1_score 0.717529 -- val_f1: 0.427533 - val_precision: 0.473789 - val_recall 0.517597\n"
          ]
        },
        {
          "output_type": "stream",
          "name": "stderr",
          "text": [
            "/usr/local/lib/python3.7/dist-packages/keras/engine/training.py:2034: UserWarning: Metric F1Score implements a `reset_states()` method; rename it to `reset_state()` (without the final \"s\"). The name `reset_states()` has been deprecated to improve API consistency.\n",
            "  m.reset_state()\n"
          ]
        },
        {
          "output_type": "stream",
          "name": "stdout",
          "text": [
            "EPOCH 2 (1s), loss: 0.592684 - acc: 0.792392 - f1_score 0.792392 -- val_f1: 0.520870 - val_precision: 0.606370 - val_recall 0.592769\n"
          ]
        },
        {
          "output_type": "stream",
          "name": "stderr",
          "text": [
            "/usr/local/lib/python3.7/dist-packages/keras/engine/training.py:2034: UserWarning: Metric F1Score implements a `reset_states()` method; rename it to `reset_state()` (without the final \"s\"). The name `reset_states()` has been deprecated to improve API consistency.\n",
            "  m.reset_state()\n"
          ]
        },
        {
          "output_type": "stream",
          "name": "stdout",
          "text": [
            "EPOCH 3 (1s), loss: 0.445528 - acc: 0.828333 - f1_score 0.828333 -- val_f1: 0.586639 - val_precision: 0.619746 - val_recall 0.659520\n"
          ]
        },
        {
          "output_type": "stream",
          "name": "stderr",
          "text": [
            "/usr/local/lib/python3.7/dist-packages/keras/engine/training.py:2034: UserWarning: Metric F1Score implements a `reset_states()` method; rename it to `reset_state()` (without the final \"s\"). The name `reset_states()` has been deprecated to improve API consistency.\n",
            "  m.reset_state()\n"
          ]
        },
        {
          "output_type": "stream",
          "name": "stdout",
          "text": [
            "EPOCH 4 (1s), loss: 0.366071 - acc: 0.858961 - f1_score 0.858961 -- val_f1: 0.602959 - val_precision: 0.737730 - val_recall 0.677324\n"
          ]
        },
        {
          "output_type": "stream",
          "name": "stderr",
          "text": [
            "/usr/local/lib/python3.7/dist-packages/keras/engine/training.py:2034: UserWarning: Metric F1Score implements a `reset_states()` method; rename it to `reset_state()` (without the final \"s\"). The name `reset_states()` has been deprecated to improve API consistency.\n",
            "  m.reset_state()\n"
          ]
        },
        {
          "output_type": "stream",
          "name": "stdout",
          "text": [
            "EPOCH 5 (1s), loss: 0.314709 - acc: 0.879588 - f1_score 0.879588 -- val_f1: 0.608164 - val_precision: 0.724328 - val_recall 0.677280\n"
          ]
        },
        {
          "output_type": "stream",
          "name": "stderr",
          "text": [
            "/usr/local/lib/python3.7/dist-packages/keras/engine/training.py:2034: UserWarning: Metric F1Score implements a `reset_states()` method; rename it to `reset_state()` (without the final \"s\"). The name `reset_states()` has been deprecated to improve API consistency.\n",
            "  m.reset_state()\n"
          ]
        },
        {
          "output_type": "stream",
          "name": "stdout",
          "text": [
            "EPOCH 6 (1s), loss: 0.290893 - acc: 0.885412 - f1_score 0.885412 -- val_f1: 0.646213 - val_precision: 0.739396 - val_recall 0.705024\n"
          ]
        },
        {
          "output_type": "stream",
          "name": "stderr",
          "text": [
            "/usr/local/lib/python3.7/dist-packages/keras/engine/training.py:2034: UserWarning: Metric F1Score implements a `reset_states()` method; rename it to `reset_state()` (without the final \"s\"). The name `reset_states()` has been deprecated to improve API consistency.\n",
            "  m.reset_state()\n"
          ]
        },
        {
          "output_type": "stream",
          "name": "stdout",
          "text": [
            "EPOCH 7 (2s), loss: 0.246954 - acc: 0.902569 - f1_score 0.902569 -- val_f1: 0.714147 - val_precision: 0.774276 - val_recall 0.754499\n"
          ]
        },
        {
          "output_type": "stream",
          "name": "stderr",
          "text": [
            "/usr/local/lib/python3.7/dist-packages/keras/engine/training.py:2034: UserWarning: Metric F1Score implements a `reset_states()` method; rename it to `reset_state()` (without the final \"s\"). The name `reset_states()` has been deprecated to improve API consistency.\n",
            "  m.reset_state()\n"
          ]
        },
        {
          "output_type": "stream",
          "name": "stdout",
          "text": [
            "EPOCH 8 (1s), loss: 0.228402 - acc: 0.908216 - f1_score 0.908216 -- val_f1: 0.783614 - val_precision: 0.815197 - val_recall 0.806396\n"
          ]
        },
        {
          "output_type": "stream",
          "name": "stderr",
          "text": [
            "/usr/local/lib/python3.7/dist-packages/keras/engine/training.py:2034: UserWarning: Metric F1Score implements a `reset_states()` method; rename it to `reset_state()` (without the final \"s\"). The name `reset_states()` has been deprecated to improve API consistency.\n",
            "  m.reset_state()\n"
          ]
        },
        {
          "output_type": "stream",
          "name": "stdout",
          "text": [
            "EPOCH 9 (1s), loss: 0.225753 - acc: 0.911569 - f1_score 0.911569 -- val_f1: 0.855133 - val_precision: 0.868996 - val_recall 0.862467\n"
          ]
        },
        {
          "output_type": "stream",
          "name": "stderr",
          "text": [
            "/usr/local/lib/python3.7/dist-packages/keras/engine/training.py:2034: UserWarning: Metric F1Score implements a `reset_states()` method; rename it to `reset_state()` (without the final \"s\"). The name `reset_states()` has been deprecated to improve API consistency.\n",
            "  m.reset_state()\n"
          ]
        },
        {
          "output_type": "stream",
          "name": "stdout",
          "text": [
            "EPOCH 10 (1s), loss: 0.203902 - acc: 0.921569 - f1_score 0.921569 -- val_f1: 0.894714 - val_precision: 0.901509 - val_recall 0.895954\n"
          ]
        },
        {
          "output_type": "stream",
          "name": "stderr",
          "text": [
            "/usr/local/lib/python3.7/dist-packages/keras/engine/training.py:2034: UserWarning: Metric F1Score implements a `reset_states()` method; rename it to `reset_state()` (without the final \"s\"). The name `reset_states()` has been deprecated to improve API consistency.\n",
            "  m.reset_state()\n"
          ]
        },
        {
          "output_type": "stream",
          "name": "stdout",
          "text": [
            "EPOCH 11 (1s), loss: 0.186327 - acc: 0.926333 - f1_score 0.926333 -- val_f1: 0.920950 - val_precision: 0.926487 - val_recall 0.919441\n"
          ]
        },
        {
          "output_type": "stream",
          "name": "stderr",
          "text": [
            "/usr/local/lib/python3.7/dist-packages/keras/engine/training.py:2034: UserWarning: Metric F1Score implements a `reset_states()` method; rename it to `reset_state()` (without the final \"s\"). The name `reset_states()` has been deprecated to improve API consistency.\n",
            "  m.reset_state()\n"
          ]
        },
        {
          "output_type": "stream",
          "name": "stdout",
          "text": [
            "EPOCH 12 (1s), loss: 0.185913 - acc: 0.927529 - f1_score 0.927529 -- val_f1: 0.931880 - val_precision: 0.939042 - val_recall 0.929411\n"
          ]
        },
        {
          "output_type": "stream",
          "name": "stderr",
          "text": [
            "/usr/local/lib/python3.7/dist-packages/keras/engine/training.py:2034: UserWarning: Metric F1Score implements a `reset_states()` method; rename it to `reset_state()` (without the final \"s\"). The name `reset_states()` has been deprecated to improve API consistency.\n",
            "  m.reset_state()\n"
          ]
        },
        {
          "output_type": "stream",
          "name": "stdout",
          "text": [
            "EPOCH 13 (1s), loss: 0.169857 - acc: 0.936333 - f1_score 0.936333 -- val_f1: 0.937111 - val_precision: 0.944281 - val_recall 0.935020\n"
          ]
        },
        {
          "output_type": "stream",
          "name": "stderr",
          "text": [
            "/usr/local/lib/python3.7/dist-packages/keras/engine/training.py:2034: UserWarning: Metric F1Score implements a `reset_states()` method; rename it to `reset_state()` (without the final \"s\"). The name `reset_states()` has been deprecated to improve API consistency.\n",
            "  m.reset_state()\n"
          ]
        },
        {
          "output_type": "stream",
          "name": "stdout",
          "text": [
            "EPOCH 14 (1s), loss: 0.161954 - acc: 0.937863 - f1_score 0.937863 -- val_f1: 0.941098 - val_precision: 0.949220 - val_recall 0.939021\n"
          ]
        },
        {
          "output_type": "stream",
          "name": "stderr",
          "text": [
            "/usr/local/lib/python3.7/dist-packages/keras/engine/training.py:2034: UserWarning: Metric F1Score implements a `reset_states()` method; rename it to `reset_state()` (without the final \"s\"). The name `reset_states()` has been deprecated to improve API consistency.\n",
            "  m.reset_state()\n"
          ]
        },
        {
          "output_type": "stream",
          "name": "stdout",
          "text": [
            "EPOCH 15 (1s), loss: 0.164025 - acc: 0.937549 - f1_score 0.937549 -- val_f1: 0.944055 - val_precision: 0.952441 - val_recall 0.942040\n"
          ]
        },
        {
          "output_type": "stream",
          "name": "stderr",
          "text": [
            "/usr/local/lib/python3.7/dist-packages/keras/engine/training.py:2034: UserWarning: Metric F1Score implements a `reset_states()` method; rename it to `reset_state()` (without the final \"s\"). The name `reset_states()` has been deprecated to improve API consistency.\n",
            "  m.reset_state()\n"
          ]
        },
        {
          "output_type": "stream",
          "name": "stdout",
          "text": [
            "EPOCH 16 (1s), loss: 0.150754 - acc: 0.944314 - f1_score 0.944314 -- val_f1: 0.946752 - val_precision: 0.954442 - val_recall 0.944896\n"
          ]
        },
        {
          "output_type": "stream",
          "name": "stderr",
          "text": [
            "/usr/local/lib/python3.7/dist-packages/keras/engine/training.py:2034: UserWarning: Metric F1Score implements a `reset_states()` method; rename it to `reset_state()` (without the final \"s\"). The name `reset_states()` has been deprecated to improve API consistency.\n",
            "  m.reset_state()\n"
          ]
        },
        {
          "output_type": "stream",
          "name": "stdout",
          "text": [
            "EPOCH 17 (1s), loss: 0.147885 - acc: 0.944804 - f1_score 0.944804 -- val_f1: 0.949420 - val_precision: 0.955999 - val_recall 0.948315\n"
          ]
        },
        {
          "output_type": "stream",
          "name": "stderr",
          "text": [
            "/usr/local/lib/python3.7/dist-packages/keras/engine/training.py:2034: UserWarning: Metric F1Score implements a `reset_states()` method; rename it to `reset_state()` (without the final \"s\"). The name `reset_states()` has been deprecated to improve API consistency.\n",
            "  m.reset_state()\n"
          ]
        },
        {
          "output_type": "stream",
          "name": "stdout",
          "text": [
            "EPOCH 18 (2s), loss: 0.185889 - acc: 0.928039 - f1_score 0.928039 -- val_f1: 0.955145 - val_precision: 0.958481 - val_recall 0.954595\n"
          ]
        },
        {
          "output_type": "stream",
          "name": "stderr",
          "text": [
            "/usr/local/lib/python3.7/dist-packages/keras/engine/training.py:2034: UserWarning: Metric F1Score implements a `reset_states()` method; rename it to `reset_state()` (without the final \"s\"). The name `reset_states()` has been deprecated to improve API consistency.\n",
            "  m.reset_state()\n"
          ]
        },
        {
          "output_type": "stream",
          "name": "stdout",
          "text": [
            "EPOCH 19 (2s), loss: 0.144778 - acc: 0.944255 - f1_score 0.944255 -- val_f1: 0.955584 - val_precision: 0.957835 - val_recall 0.955872\n"
          ]
        }
      ]
    },
    {
      "cell_type": "markdown",
      "source": [
        "#### Now we will read in the second record linkage dataset. "
      ],
      "metadata": {
        "id": "khR5f7139pcP"
      }
    },
    {
      "cell_type": "markdown",
      "source": [
        "#### We will rename all of the columns as well"
      ],
      "metadata": {
        "id": "f12K55oVDiC3"
      }
    },
    {
      "cell_type": "code",
      "execution_count": 15,
      "metadata": {
        "id": "DAMvcZdJPPJi"
      },
      "outputs": [],
      "source": [
        "data1=dp.Data('/content/drive/MyDrive/Capstone/Client Work/Data/recordlinkage2.csv')\n",
        "# data1= dp.Data('/content/fake.csv')\n",
        "data1.rename(columns={'given_name': 'col_10', 'surname': 'col_9', 'street_number': 'col_8', 'address_1': 'col_7', \n",
        "                      'address_2': 'col_6','suburb': 'col_5', 'postcode': 'col_4', 'state': 'col_3', 'date_of_birth': \n",
        "                      'col_2', 'soc_sec_id': 'col_1'}, inplace=True)"
      ]
    },
    {
      "cell_type": "code",
      "source": [
        "data1.head()"
      ],
      "metadata": {
        "colab": {
          "base_uri": "https://localhost:8080/",
          "height": 206
        },
        "id": "aptwPa-xjJvS",
        "outputId": "23f5bcde-b338-4610-a2e7-3ee5eb4aafb6"
      },
      "execution_count": 16,
      "outputs": [
        {
          "output_type": "execute_result",
          "data": {
            "text/plain": [
              "     col_10      col_9 col_8                 col_7               col_6              col_5 col_4  \\\n",
              "0     elton                3         light setreet            pinehill         windermere  3212   \n",
              "1  mitchell      maxon    47         edkins street           lochaoair         north ryde  3355   \n",
              "2                white    72       lambrigg street            kelgoola  broadbeach waters  3159   \n",
              "3     elk i    menzies     1          lyster place                              northwood  2585   \n",
              "4            garanggar        may maxwell crescent  springettst arcade        forest hill  2342   \n",
              "\n",
              "  col_3     col_2    col_1  \n",
              "0   vic  19651013  1551941  \n",
              "1   nsw  19390212  8859999  \n",
              "2   vic  19620216  9731855  \n",
              "3   vic  19980624  4970481  \n",
              "4   vic  19921016  1366884  "
            ],
            "text/html": [
              "\n",
              "  <div id=\"df-de7cbaa1-0357-4460-96bb-28af49c08fcf\">\n",
              "    <div class=\"colab-df-container\">\n",
              "      <div>\n",
              "<style scoped>\n",
              "    .dataframe tbody tr th:only-of-type {\n",
              "        vertical-align: middle;\n",
              "    }\n",
              "\n",
              "    .dataframe tbody tr th {\n",
              "        vertical-align: top;\n",
              "    }\n",
              "\n",
              "    .dataframe thead th {\n",
              "        text-align: right;\n",
              "    }\n",
              "</style>\n",
              "<table border=\"1\" class=\"dataframe\">\n",
              "  <thead>\n",
              "    <tr style=\"text-align: right;\">\n",
              "      <th></th>\n",
              "      <th>col_10</th>\n",
              "      <th>col_9</th>\n",
              "      <th>col_8</th>\n",
              "      <th>col_7</th>\n",
              "      <th>col_6</th>\n",
              "      <th>col_5</th>\n",
              "      <th>col_4</th>\n",
              "      <th>col_3</th>\n",
              "      <th>col_2</th>\n",
              "      <th>col_1</th>\n",
              "    </tr>\n",
              "  </thead>\n",
              "  <tbody>\n",
              "    <tr>\n",
              "      <th>0</th>\n",
              "      <td>elton</td>\n",
              "      <td></td>\n",
              "      <td>3</td>\n",
              "      <td>light setreet</td>\n",
              "      <td>pinehill</td>\n",
              "      <td>windermere</td>\n",
              "      <td>3212</td>\n",
              "      <td>vic</td>\n",
              "      <td>19651013</td>\n",
              "      <td>1551941</td>\n",
              "    </tr>\n",
              "    <tr>\n",
              "      <th>1</th>\n",
              "      <td>mitchell</td>\n",
              "      <td>maxon</td>\n",
              "      <td>47</td>\n",
              "      <td>edkins street</td>\n",
              "      <td>lochaoair</td>\n",
              "      <td>north ryde</td>\n",
              "      <td>3355</td>\n",
              "      <td>nsw</td>\n",
              "      <td>19390212</td>\n",
              "      <td>8859999</td>\n",
              "    </tr>\n",
              "    <tr>\n",
              "      <th>2</th>\n",
              "      <td></td>\n",
              "      <td>white</td>\n",
              "      <td>72</td>\n",
              "      <td>lambrigg street</td>\n",
              "      <td>kelgoola</td>\n",
              "      <td>broadbeach waters</td>\n",
              "      <td>3159</td>\n",
              "      <td>vic</td>\n",
              "      <td>19620216</td>\n",
              "      <td>9731855</td>\n",
              "    </tr>\n",
              "    <tr>\n",
              "      <th>3</th>\n",
              "      <td>elk i</td>\n",
              "      <td>menzies</td>\n",
              "      <td>1</td>\n",
              "      <td>lyster place</td>\n",
              "      <td></td>\n",
              "      <td>northwood</td>\n",
              "      <td>2585</td>\n",
              "      <td>vic</td>\n",
              "      <td>19980624</td>\n",
              "      <td>4970481</td>\n",
              "    </tr>\n",
              "    <tr>\n",
              "      <th>4</th>\n",
              "      <td></td>\n",
              "      <td>garanggar</td>\n",
              "      <td></td>\n",
              "      <td>may maxwell crescent</td>\n",
              "      <td>springettst arcade</td>\n",
              "      <td>forest hill</td>\n",
              "      <td>2342</td>\n",
              "      <td>vic</td>\n",
              "      <td>19921016</td>\n",
              "      <td>1366884</td>\n",
              "    </tr>\n",
              "  </tbody>\n",
              "</table>\n",
              "</div>\n",
              "      <button class=\"colab-df-convert\" onclick=\"convertToInteractive('df-de7cbaa1-0357-4460-96bb-28af49c08fcf')\"\n",
              "              title=\"Convert this dataframe to an interactive table.\"\n",
              "              style=\"display:none;\">\n",
              "        \n",
              "  <svg xmlns=\"http://www.w3.org/2000/svg\" height=\"24px\"viewBox=\"0 0 24 24\"\n",
              "       width=\"24px\">\n",
              "    <path d=\"M0 0h24v24H0V0z\" fill=\"none\"/>\n",
              "    <path d=\"M18.56 5.44l.94 2.06.94-2.06 2.06-.94-2.06-.94-.94-2.06-.94 2.06-2.06.94zm-11 1L8.5 8.5l.94-2.06 2.06-.94-2.06-.94L8.5 2.5l-.94 2.06-2.06.94zm10 10l.94 2.06.94-2.06 2.06-.94-2.06-.94-.94-2.06-.94 2.06-2.06.94z\"/><path d=\"M17.41 7.96l-1.37-1.37c-.4-.4-.92-.59-1.43-.59-.52 0-1.04.2-1.43.59L10.3 9.45l-7.72 7.72c-.78.78-.78 2.05 0 2.83L4 21.41c.39.39.9.59 1.41.59.51 0 1.02-.2 1.41-.59l7.78-7.78 2.81-2.81c.8-.78.8-2.07 0-2.86zM5.41 20L4 18.59l7.72-7.72 1.47 1.35L5.41 20z\"/>\n",
              "  </svg>\n",
              "      </button>\n",
              "      \n",
              "  <style>\n",
              "    .colab-df-container {\n",
              "      display:flex;\n",
              "      flex-wrap:wrap;\n",
              "      gap: 12px;\n",
              "    }\n",
              "\n",
              "    .colab-df-convert {\n",
              "      background-color: #E8F0FE;\n",
              "      border: none;\n",
              "      border-radius: 50%;\n",
              "      cursor: pointer;\n",
              "      display: none;\n",
              "      fill: #1967D2;\n",
              "      height: 32px;\n",
              "      padding: 0 0 0 0;\n",
              "      width: 32px;\n",
              "    }\n",
              "\n",
              "    .colab-df-convert:hover {\n",
              "      background-color: #E2EBFA;\n",
              "      box-shadow: 0px 1px 2px rgba(60, 64, 67, 0.3), 0px 1px 3px 1px rgba(60, 64, 67, 0.15);\n",
              "      fill: #174EA6;\n",
              "    }\n",
              "\n",
              "    [theme=dark] .colab-df-convert {\n",
              "      background-color: #3B4455;\n",
              "      fill: #D2E3FC;\n",
              "    }\n",
              "\n",
              "    [theme=dark] .colab-df-convert:hover {\n",
              "      background-color: #434B5C;\n",
              "      box-shadow: 0px 1px 3px 1px rgba(0, 0, 0, 0.15);\n",
              "      filter: drop-shadow(0px 1px 2px rgba(0, 0, 0, 0.3));\n",
              "      fill: #FFFFFF;\n",
              "    }\n",
              "  </style>\n",
              "\n",
              "      <script>\n",
              "        const buttonEl =\n",
              "          document.querySelector('#df-de7cbaa1-0357-4460-96bb-28af49c08fcf button.colab-df-convert');\n",
              "        buttonEl.style.display =\n",
              "          google.colab.kernel.accessAllowed ? 'block' : 'none';\n",
              "\n",
              "        async function convertToInteractive(key) {\n",
              "          const element = document.querySelector('#df-de7cbaa1-0357-4460-96bb-28af49c08fcf');\n",
              "          const dataTable =\n",
              "            await google.colab.kernel.invokeFunction('convertToInteractive',\n",
              "                                                     [key], {});\n",
              "          if (!dataTable) return;\n",
              "\n",
              "          const docLinkHtml = 'Like what you see? Visit the ' +\n",
              "            '<a target=\"_blank\" href=https://colab.research.google.com/notebooks/data_table.ipynb>data table notebook</a>'\n",
              "            + ' to learn more about interactive tables.';\n",
              "          element.innerHTML = '';\n",
              "          dataTable['output_type'] = 'display_data';\n",
              "          await google.colab.output.renderOutput(dataTable, element);\n",
              "          const docLink = document.createElement('div');\n",
              "          docLink.innerHTML = docLinkHtml;\n",
              "          element.appendChild(docLink);\n",
              "        }\n",
              "      </script>\n",
              "    </div>\n",
              "  </div>\n",
              "  "
            ]
          },
          "metadata": {},
          "execution_count": 16
        }
      ]
    },
    {
      "cell_type": "markdown",
      "source": [
        "#### Using the labeler trained on the record linkage dataset to get predictions for the other record linkage dataset"
      ],
      "metadata": {
        "id": "WohmKIVcO58c"
      }
    },
    {
      "cell_type": "code",
      "execution_count": 17,
      "metadata": {
        "colab": {
          "base_uri": "https://localhost:8080/"
        },
        "id": "hKvL4hE0LWJZ",
        "outputId": "dbb41cd8-f8c3-4c7a-bd45-f4f20653c031"
      },
      "outputs": [
        {
          "output_type": "stream",
          "name": "stdout",
          "text": [
            "INFO:DataProfiler.profilers.profile_builder: Finding the Null values in the columns... \n"
          ]
        },
        {
          "output_type": "stream",
          "name": "stderr",
          "text": [
            "100%|██████████| 10/10 [00:00<00:00, 139.06it/s]\n"
          ]
        },
        {
          "output_type": "stream",
          "name": "stdout",
          "text": [
            "INFO:DataProfiler.profilers.profile_builder: Calculating the statistics...  (with 4 processes)\n"
          ]
        },
        {
          "output_type": "stream",
          "name": "stderr",
          "text": [
            "100%|██████████| 10/10 [00:00<00:00, 17.95it/s]\n"
          ]
        },
        {
          "output_type": "stream",
          "name": "stdout",
          "text": [
            "   Column     Prediction                                             Sample\n",
            "0  col_10     given_name          [elijah, noah, cain, samantha, zachariah]\n",
            "1   col_9        surname          [beatton, ryah, goode, tiahnee, rawlings]\n",
            "2   col_8  street_number                              [16, 246, 17, 27, 15]\n",
            "3   col_7      address_1  [gurney kplace, throsselel srreet, marsden str...\n",
            "4   col_6      address_2  [summer hill, coolsdie, withern house, sundown...\n",
            "5   col_5         suburb  [macquarie park, glenorf, cantexbury, arana ih...\n",
            "6   col_4       postcode                     [6149, 3910, 2902, 2090, 2213]\n",
            "7   col_3          state                          [vic, nsw, nsw, nsw, qld]\n",
            "8   col_2  date_of_birth  [19391117, 19330313, 19760516, 19890119, 19531...\n",
            "9   col_1     soc_sec_id      [7533159, 3981694, 3359595, 3938828, 9865461]\n"
          ]
        }
      ],
      "source": [
        "# predict with the labeler object\n",
        "profile_options.set({'structured_options.data_labeler.data_labeler_object': labeler})\n",
        "profile = dp.Profiler(data1, options=profile_options)\n",
        "\n",
        "# get the prediction from the data profiler\n",
        "results = profile.report()\n",
        "print(get_structured_results(results))"
      ]
    },
    {
      "cell_type": "markdown",
      "source": [
        "#### Using the labeler trained on the dataset generated via faker to get predictions for the other record linkage dataset"
      ],
      "metadata": {
        "id": "HBk5dN7IPGmg"
      }
    },
    {
      "cell_type": "code",
      "execution_count": 18,
      "metadata": {
        "id": "BKgIufbgPItw",
        "colab": {
          "base_uri": "https://localhost:8080/"
        },
        "outputId": "5fa6dfaa-6587-4cf6-807e-5a592425ebe4"
      },
      "outputs": [
        {
          "output_type": "stream",
          "name": "stdout",
          "text": [
            "INFO:DataProfiler.profilers.profile_builder: Finding the Null values in the columns... \n"
          ]
        },
        {
          "output_type": "stream",
          "name": "stderr",
          "text": [
            "100%|██████████| 10/10 [00:00<00:00, 128.55it/s]\n"
          ]
        },
        {
          "output_type": "stream",
          "name": "stdout",
          "text": [
            "INFO:DataProfiler.profilers.profile_builder: Calculating the statistics...  (with 4 processes)\n"
          ]
        },
        {
          "output_type": "stream",
          "name": "stderr",
          "text": [
            "100%|██████████| 10/10 [00:00<00:00, 15.23it/s]\n"
          ]
        },
        {
          "output_type": "stream",
          "name": "stdout",
          "text": [
            "   Column                  Prediction                                             Sample\n",
            "0  col_10        address_1|given_name                [jesscia, elle, evan, holl, callum]\n",
            "1   col_9                   address_1         [theodore, walch, ryan, lackher, desantis]\n",
            "2   col_8               street_number                                [46, 8, 16, 11, 31]\n",
            "3   col_7                   address_2  [ordell street, holmes c rescent, solandef pla...\n",
            "4   col_6  suburb|address_2|address_1  [mylandra, kassingbrook, rye park, kiaora, cli...\n",
            "5   col_5            suburb|address_1  [bittern, magnetic island, thornbury, st peter...\n",
            "6   col_4               street_number                     [4506, 4350, 2068, 3844, 4306]\n",
            "7   col_3                   address_1                           [sa, tas, nsw, nsw, vic]\n",
            "8   col_2               date_of_birth  [19891212, 19280129, 19790719, 19330911, 19941...\n",
            "9   col_1                  soc_sec_id      [1783041, 9472794, 8822107, 5824638, 7757358]\n"
          ]
        }
      ],
      "source": [
        "# predict with the labeler object\n",
        "profile_options.set({'structured_options.data_labeler.data_labeler_object': labeler_faker})\n",
        "profile = dp.Profiler(data1, options=profile_options)\n",
        "\n",
        "# get the prediction from the data profiler\n",
        "results = profile.report()\n",
        "print(get_structured_results(results))"
      ]
    },
    {
      "cell_type": "markdown",
      "source": [
        "#### Using the labeler trained on the record linkage dataset to get predictions on the dataset generated via faker"
      ],
      "metadata": {
        "id": "S5xpLbEdPOSi"
      }
    },
    {
      "cell_type": "code",
      "source": [
        "# predict with the labeler object\n",
        "profile_options.set({'structured_options.data_labeler.data_labeler_object': labeler})\n",
        "profile = dp.Profiler(faker_data, options=profile_options)\n",
        "\n",
        "# get the prediction from the data profiler\n",
        "results = profile.report()\n",
        "print(get_structured_results(results))"
      ],
      "metadata": {
        "colab": {
          "base_uri": "https://localhost:8080/"
        },
        "id": "NjgOe9MSyIEX",
        "outputId": "5cdfe6fd-43c7-4ed1-9a5e-4a88fea77a37"
      },
      "execution_count": 19,
      "outputs": [
        {
          "output_type": "stream",
          "name": "stdout",
          "text": [
            "INFO:DataProfiler.profilers.profile_builder: Finding the Null values in the columns... \n"
          ]
        },
        {
          "output_type": "stream",
          "name": "stderr",
          "text": [
            "/usr/local/lib/python3.7/dist-packages/dataprofiler/profilers/profile_builder.py:2023: UserWarning: The data will be profiled with a sample size of 5000. All statistics will be based on this subsample and not the whole dataset.\n",
            "  \"not the whole dataset.\".format(sample_size))\n",
            "100%|██████████| 10/10 [00:00<00:00, 110.45it/s]\n"
          ]
        },
        {
          "output_type": "stream",
          "name": "stdout",
          "text": [
            "INFO:DataProfiler.profilers.profile_builder: Calculating the statistics...  (with 4 processes)\n"
          ]
        },
        {
          "output_type": "stream",
          "name": "stderr",
          "text": [
            "100%|██████████| 10/10 [00:00<00:00, 16.67it/s]\n"
          ]
        },
        {
          "output_type": "stream",
          "name": "stdout",
          "text": [
            "          Column                Prediction                                             Sample\n",
            "0     given_name                given_name        [Mark, Melanie, Virginia, Samantha, Nicole]\n",
            "1        surname                given_name         [Cobb, Calderon, Graham, Contreras, Young]\n",
            "2  street_number                  postcode                      [240, 29041, 691, 67707, 287]\n",
            "3      address_1        surname|given_name               [Islands, Oval, Course, Hill, Grove]\n",
            "4      address_2                 address_2  [Ellis Skyway, Darren Station, Tammy Gardens, ...\n",
            "5         suburb                 address_2  [Hillview, Brownbury, New Beth, Melissaburgh, ...\n",
            "6       postcode                  postcode                [77029, 15743, 30853, 60817, 70607]\n",
            "7          state                 address_2  [New Mexico, New York, New Mexico, Oklahoma, A...\n",
            "8  date_of_birth             date_of_birth  [19880210, 20141223, 20061028, 19490327, 19440...\n",
            "9     soc_sec_id  date_of_birth|soc_sec_id  [696239898, 746220375, 364493568, 217399932, 3...\n"
          ]
        }
      ]
    },
    {
      "cell_type": "markdown",
      "source": [
        "### Creating Function to Train Labeler <a class=\"anchor\" id=\"fourth-bullet\"></a>"
      ],
      "metadata": {
        "id": "sVfw0X0mHVmp"
      }
    },
    {
      "cell_type": "code",
      "source": [
        "def create_labeler(dataframe, n):\n",
        "  df=dataframe.data[list(dataframe.columns)]\n",
        "  df.head()\n",
        "  labeler= dp.train_structured_labeler(\n",
        "    data=dataframe,\n",
        "    save_dirpath=\"data_labeler_saved\",\n",
        "    epochs=n,\n",
        "    default_label=list(dataframe.columns)[0]\n",
        "    )\n",
        "  return labeler"
      ],
      "metadata": {
        "id": "shcMYTdzHcPL"
      },
      "execution_count": 22,
      "outputs": []
    },
    {
      "cell_type": "code",
      "source": [
        ""
      ],
      "metadata": {
        "id": "nPpgPH9Chr5K"
      },
      "execution_count": 22,
      "outputs": []
    },
    {
      "cell_type": "code",
      "source": [
        "def check_data (dataframe, labeler):\n",
        "  profile_options.set({'structured_options.data_labeler.data_labeler_object': labeler})\n",
        "  profile = dp.Profiler(dataframe, options=profile_options)\n",
        "  # get the prediction from the data profiler\n",
        "  results = profile.report()\n",
        "  return(get_structured_results(results))\n",
        "\n"
      ],
      "metadata": {
        "id": "mo8WMjK5XiHe"
      },
      "execution_count": 23,
      "outputs": []
    },
    {
      "cell_type": "code",
      "source": [
        "record_linkage_labeler=create_labeler(data, 50)"
      ],
      "metadata": {
        "colab": {
          "base_uri": "https://localhost:8080/"
        },
        "id": "maTMM9XlcHvI",
        "outputId": "4f9207e2-b702-4365-ac7e-918e8153a4c8"
      },
      "execution_count": 24,
      "outputs": [
        {
          "output_type": "stream",
          "name": "stdout",
          "text": [
            "EPOCH 0, batch_id 1: loss: 2.962923 - acc: 0.303244 - f1_score 0.303244"
          ]
        },
        {
          "output_type": "stream",
          "name": "stderr",
          "text": [
            "/usr/local/lib/python3.7/dist-packages/keras/engine/training.py:2034: UserWarning: Metric F1Score implements a `reset_states()` method; rename it to `reset_state()` (without the final \"s\"). The name `reset_states()` has been deprecated to improve API consistency.\n",
            "  m.reset_state()\n"
          ]
        },
        {
          "output_type": "stream",
          "name": "stdout",
          "text": [
            "EPOCH 0 (3s), loss: 2.212177 - acc: 0.466086 - f1_score 0.466086 -- val_f1: 0.351539 - val_precision: 0.328745 - val_recall 0.504940\n"
          ]
        },
        {
          "output_type": "stream",
          "name": "stderr",
          "text": [
            "/usr/local/lib/python3.7/dist-packages/keras/engine/training.py:2034: UserWarning: Metric F1Score implements a `reset_states()` method; rename it to `reset_state()` (without the final \"s\"). The name `reset_states()` has been deprecated to improve API consistency.\n",
            "  m.reset_state()\n"
          ]
        },
        {
          "output_type": "stream",
          "name": "stdout",
          "text": [
            "EPOCH 1 (0s), loss: 1.464921 - acc: 0.597353 - f1_score 0.597353 -- val_f1: 0.334715 - val_precision: 0.308416 - val_recall 0.485869\n"
          ]
        },
        {
          "output_type": "stream",
          "name": "stderr",
          "text": [
            "/usr/local/lib/python3.7/dist-packages/keras/engine/training.py:2034: UserWarning: Metric F1Score implements a `reset_states()` method; rename it to `reset_state()` (without the final \"s\"). The name `reset_states()` has been deprecated to improve API consistency.\n",
            "  m.reset_state()\n"
          ]
        },
        {
          "output_type": "stream",
          "name": "stdout",
          "text": [
            "EPOCH 2 (0s), loss: 1.175571 - acc: 0.643122 - f1_score 0.643122 -- val_f1: 0.363083 - val_precision: 0.484402 - val_recall 0.508816\n"
          ]
        },
        {
          "output_type": "stream",
          "name": "stderr",
          "text": [
            "/usr/local/lib/python3.7/dist-packages/keras/engine/training.py:2034: UserWarning: Metric F1Score implements a `reset_states()` method; rename it to `reset_state()` (without the final \"s\"). The name `reset_states()` has been deprecated to improve API consistency.\n",
            "  m.reset_state()\n"
          ]
        },
        {
          "output_type": "stream",
          "name": "stdout",
          "text": [
            "EPOCH 3 (0s), loss: 0.967250 - acc: 0.688145 - f1_score 0.688145 -- val_f1: 0.391882 - val_precision: 0.482738 - val_recall 0.522690\n"
          ]
        },
        {
          "output_type": "stream",
          "name": "stderr",
          "text": [
            "/usr/local/lib/python3.7/dist-packages/keras/engine/training.py:2034: UserWarning: Metric F1Score implements a `reset_states()` method; rename it to `reset_state()` (without the final \"s\"). The name `reset_states()` has been deprecated to improve API consistency.\n",
            "  m.reset_state()\n"
          ]
        },
        {
          "output_type": "stream",
          "name": "stdout",
          "text": [
            "EPOCH 4 (0s), loss: 0.829537 - acc: 0.716629 - f1_score 0.716629 -- val_f1: 0.464572 - val_precision: 0.558491 - val_recall 0.570779\n"
          ]
        },
        {
          "output_type": "stream",
          "name": "stderr",
          "text": [
            "/usr/local/lib/python3.7/dist-packages/keras/engine/training.py:2034: UserWarning: Metric F1Score implements a `reset_states()` method; rename it to `reset_state()` (without the final \"s\"). The name `reset_states()` has been deprecated to improve API consistency.\n",
            "  m.reset_state()\n"
          ]
        },
        {
          "output_type": "stream",
          "name": "stdout",
          "text": [
            "EPOCH 5 (1s), loss: 0.757691 - acc: 0.726267 - f1_score 0.726267 -- val_f1: 0.520749 - val_precision: 0.610842 - val_recall 0.618085\n"
          ]
        },
        {
          "output_type": "stream",
          "name": "stderr",
          "text": [
            "/usr/local/lib/python3.7/dist-packages/keras/engine/training.py:2034: UserWarning: Metric F1Score implements a `reset_states()` method; rename it to `reset_state()` (without the final \"s\"). The name `reset_states()` has been deprecated to improve API consistency.\n",
            "  m.reset_state()\n"
          ]
        },
        {
          "output_type": "stream",
          "name": "stdout",
          "text": [
            "EPOCH 6 (1s), loss: 0.647964 - acc: 0.754344 - f1_score 0.754344 -- val_f1: 0.553994 - val_precision: 0.632546 - val_recall 0.637912\n"
          ]
        },
        {
          "output_type": "stream",
          "name": "stderr",
          "text": [
            "/usr/local/lib/python3.7/dist-packages/keras/engine/training.py:2034: UserWarning: Metric F1Score implements a `reset_states()` method; rename it to `reset_state()` (without the final \"s\"). The name `reset_states()` has been deprecated to improve API consistency.\n",
            "  m.reset_state()\n"
          ]
        },
        {
          "output_type": "stream",
          "name": "stdout",
          "text": [
            "EPOCH 7 (1s), loss: 0.580274 - acc: 0.770204 - f1_score 0.770204 -- val_f1: 0.588653 - val_precision: 0.656476 - val_recall 0.659724\n"
          ]
        },
        {
          "output_type": "stream",
          "name": "stderr",
          "text": [
            "/usr/local/lib/python3.7/dist-packages/keras/engine/training.py:2034: UserWarning: Metric F1Score implements a `reset_states()` method; rename it to `reset_state()` (without the final \"s\"). The name `reset_states()` has been deprecated to improve API consistency.\n",
            "  m.reset_state()\n"
          ]
        },
        {
          "output_type": "stream",
          "name": "stdout",
          "text": [
            "EPOCH 8 (1s), loss: 0.540134 - acc: 0.782851 - f1_score 0.782851 -- val_f1: 0.616498 - val_precision: 0.674366 - val_recall 0.678290\n"
          ]
        },
        {
          "output_type": "stream",
          "name": "stderr",
          "text": [
            "/usr/local/lib/python3.7/dist-packages/keras/engine/training.py:2034: UserWarning: Metric F1Score implements a `reset_states()` method; rename it to `reset_state()` (without the final \"s\"). The name `reset_states()` has been deprecated to improve API consistency.\n",
            "  m.reset_state()\n"
          ]
        },
        {
          "output_type": "stream",
          "name": "stdout",
          "text": [
            "EPOCH 9 (1s), loss: 0.478276 - acc: 0.808462 - f1_score 0.808462 -- val_f1: 0.643970 - val_precision: 0.691218 - val_recall 0.696679\n"
          ]
        },
        {
          "output_type": "stream",
          "name": "stderr",
          "text": [
            "/usr/local/lib/python3.7/dist-packages/keras/engine/training.py:2034: UserWarning: Metric F1Score implements a `reset_states()` method; rename it to `reset_state()` (without the final \"s\"). The name `reset_states()` has been deprecated to improve API consistency.\n",
            "  m.reset_state()\n"
          ]
        },
        {
          "output_type": "stream",
          "name": "stdout",
          "text": [
            "EPOCH 10 (1s), loss: 0.450705 - acc: 0.824910 - f1_score 0.824910 -- val_f1: 0.675739 - val_precision: 0.709963 - val_recall 0.718735\n"
          ]
        },
        {
          "output_type": "stream",
          "name": "stderr",
          "text": [
            "/usr/local/lib/python3.7/dist-packages/keras/engine/training.py:2034: UserWarning: Metric F1Score implements a `reset_states()` method; rename it to `reset_state()` (without the final \"s\"). The name `reset_states()` has been deprecated to improve API consistency.\n",
            "  m.reset_state()\n"
          ]
        },
        {
          "output_type": "stream",
          "name": "stdout",
          "text": [
            "EPOCH 11 (1s), loss: 0.403029 - acc: 0.847466 - f1_score 0.847466 -- val_f1: 0.703207 - val_precision: 0.731126 - val_recall 0.738520\n"
          ]
        },
        {
          "output_type": "stream",
          "name": "stderr",
          "text": [
            "/usr/local/lib/python3.7/dist-packages/keras/engine/training.py:2034: UserWarning: Metric F1Score implements a `reset_states()` method; rename it to `reset_state()` (without the final \"s\"). The name `reset_states()` has been deprecated to improve API consistency.\n",
            "  m.reset_state()\n"
          ]
        },
        {
          "output_type": "stream",
          "name": "stdout",
          "text": [
            "EPOCH 12 (0s), loss: 0.382682 - acc: 0.857308 - f1_score 0.857308 -- val_f1: 0.730594 - val_precision: 0.752559 - val_recall 0.759407\n"
          ]
        },
        {
          "output_type": "stream",
          "name": "stderr",
          "text": [
            "/usr/local/lib/python3.7/dist-packages/keras/engine/training.py:2034: UserWarning: Metric F1Score implements a `reset_states()` method; rename it to `reset_state()` (without the final \"s\"). The name `reset_states()` has been deprecated to improve API consistency.\n",
            "  m.reset_state()\n"
          ]
        },
        {
          "output_type": "stream",
          "name": "stdout",
          "text": [
            "EPOCH 13 (0s), loss: 0.345738 - acc: 0.872557 - f1_score 0.872557 -- val_f1: 0.755880 - val_precision: 0.777328 - val_recall 0.778183\n"
          ]
        },
        {
          "output_type": "stream",
          "name": "stderr",
          "text": [
            "/usr/local/lib/python3.7/dist-packages/keras/engine/training.py:2034: UserWarning: Metric F1Score implements a `reset_states()` method; rename it to `reset_state()` (without the final \"s\"). The name `reset_states()` has been deprecated to improve API consistency.\n",
            "  m.reset_state()\n"
          ]
        },
        {
          "output_type": "stream",
          "name": "stdout",
          "text": [
            "EPOCH 14 (0s), loss: 0.347157 - acc: 0.871222 - f1_score 0.871222 -- val_f1: 0.789251 - val_precision: 0.803208 - val_recall 0.803981\n"
          ]
        },
        {
          "output_type": "stream",
          "name": "stderr",
          "text": [
            "/usr/local/lib/python3.7/dist-packages/keras/engine/training.py:2034: UserWarning: Metric F1Score implements a `reset_states()` method; rename it to `reset_state()` (without the final \"s\"). The name `reset_states()` has been deprecated to improve API consistency.\n",
            "  m.reset_state()\n"
          ]
        },
        {
          "output_type": "stream",
          "name": "stdout",
          "text": [
            "EPOCH 15 (1s), loss: 0.322319 - acc: 0.879457 - f1_score 0.879457 -- val_f1: 0.813836 - val_precision: 0.821888 - val_recall 0.824489\n"
          ]
        },
        {
          "output_type": "stream",
          "name": "stderr",
          "text": [
            "/usr/local/lib/python3.7/dist-packages/keras/engine/training.py:2034: UserWarning: Metric F1Score implements a `reset_states()` method; rename it to `reset_state()` (without the final \"s\"). The name `reset_states()` has been deprecated to improve API consistency.\n",
            "  m.reset_state()\n"
          ]
        },
        {
          "output_type": "stream",
          "name": "stdout",
          "text": [
            "EPOCH 16 (0s), loss: 0.309425 - acc: 0.883077 - f1_score 0.883077 -- val_f1: 0.832078 - val_precision: 0.836835 - val_recall 0.840339\n"
          ]
        },
        {
          "output_type": "stream",
          "name": "stderr",
          "text": [
            "/usr/local/lib/python3.7/dist-packages/keras/engine/training.py:2034: UserWarning: Metric F1Score implements a `reset_states()` method; rename it to `reset_state()` (without the final \"s\"). The name `reset_states()` has been deprecated to improve API consistency.\n",
            "  m.reset_state()\n"
          ]
        },
        {
          "output_type": "stream",
          "name": "stdout",
          "text": [
            "EPOCH 17 (0s), loss: 0.302805 - acc: 0.885249 - f1_score 0.885249 -- val_f1: 0.851950 - val_precision: 0.853994 - val_recall 0.858258\n"
          ]
        },
        {
          "output_type": "stream",
          "name": "stderr",
          "text": [
            "/usr/local/lib/python3.7/dist-packages/keras/engine/training.py:2034: UserWarning: Metric F1Score implements a `reset_states()` method; rename it to `reset_state()` (without the final \"s\"). The name `reset_states()` has been deprecated to improve API consistency.\n",
            "  m.reset_state()\n"
          ]
        },
        {
          "output_type": "stream",
          "name": "stdout",
          "text": [
            "EPOCH 18 (0s), loss: 0.292590 - acc: 0.891109 - f1_score 0.891109 -- val_f1: 0.863564 - val_precision: 0.865024 - val_recall 0.868928\n"
          ]
        },
        {
          "output_type": "stream",
          "name": "stderr",
          "text": [
            "/usr/local/lib/python3.7/dist-packages/keras/engine/training.py:2034: UserWarning: Metric F1Score implements a `reset_states()` method; rename it to `reset_state()` (without the final \"s\"). The name `reset_states()` has been deprecated to improve API consistency.\n",
            "  m.reset_state()\n"
          ]
        },
        {
          "output_type": "stream",
          "name": "stdout",
          "text": [
            "EPOCH 19 (1s), loss: 0.283239 - acc: 0.891561 - f1_score 0.891561 -- val_f1: 0.874508 - val_precision: 0.877152 - val_recall 0.878598\n"
          ]
        },
        {
          "output_type": "stream",
          "name": "stderr",
          "text": [
            "/usr/local/lib/python3.7/dist-packages/keras/engine/training.py:2034: UserWarning: Metric F1Score implements a `reset_states()` method; rename it to `reset_state()` (without the final \"s\"). The name `reset_states()` has been deprecated to improve API consistency.\n",
            "  m.reset_state()\n"
          ]
        },
        {
          "output_type": "stream",
          "name": "stdout",
          "text": [
            "EPOCH 20 (1s), loss: 0.273744 - acc: 0.893597 - f1_score 0.893597 -- val_f1: 0.880612 - val_precision: 0.883937 - val_recall 0.883828\n"
          ]
        },
        {
          "output_type": "stream",
          "name": "stderr",
          "text": [
            "/usr/local/lib/python3.7/dist-packages/keras/engine/training.py:2034: UserWarning: Metric F1Score implements a `reset_states()` method; rename it to `reset_state()` (without the final \"s\"). The name `reset_states()` has been deprecated to improve API consistency.\n",
            "  m.reset_state()\n"
          ]
        },
        {
          "output_type": "stream",
          "name": "stdout",
          "text": [
            "EPOCH 21 (0s), loss: 0.270863 - acc: 0.896199 - f1_score 0.896199 -- val_f1: 0.886946 - val_precision: 0.890696 - val_recall 0.888881\n"
          ]
        },
        {
          "output_type": "stream",
          "name": "stderr",
          "text": [
            "/usr/local/lib/python3.7/dist-packages/keras/engine/training.py:2034: UserWarning: Metric F1Score implements a `reset_states()` method; rename it to `reset_state()` (without the final \"s\"). The name `reset_states()` has been deprecated to improve API consistency.\n",
            "  m.reset_state()\n"
          ]
        },
        {
          "output_type": "stream",
          "name": "stdout",
          "text": [
            "EPOCH 22 (0s), loss: 0.251031 - acc: 0.903665 - f1_score 0.903665 -- val_f1: 0.892481 - val_precision: 0.897182 - val_recall 0.893826\n"
          ]
        },
        {
          "output_type": "stream",
          "name": "stderr",
          "text": [
            "/usr/local/lib/python3.7/dist-packages/keras/engine/training.py:2034: UserWarning: Metric F1Score implements a `reset_states()` method; rename it to `reset_state()` (without the final \"s\"). The name `reset_states()` has been deprecated to improve API consistency.\n",
            "  m.reset_state()\n"
          ]
        },
        {
          "output_type": "stream",
          "name": "stdout",
          "text": [
            "EPOCH 23 (0s), loss: 0.255062 - acc: 0.902579 - f1_score 0.902579 -- val_f1: 0.895171 - val_precision: 0.900549 - val_recall 0.896987\n"
          ]
        },
        {
          "output_type": "stream",
          "name": "stderr",
          "text": [
            "/usr/local/lib/python3.7/dist-packages/keras/engine/training.py:2034: UserWarning: Metric F1Score implements a `reset_states()` method; rename it to `reset_state()` (without the final \"s\"). The name `reset_states()` has been deprecated to improve API consistency.\n",
            "  m.reset_state()\n"
          ]
        },
        {
          "output_type": "stream",
          "name": "stdout",
          "text": [
            "EPOCH 24 (1s), loss: 0.262083 - acc: 0.896991 - f1_score 0.896991 -- val_f1: 0.898579 - val_precision: 0.904910 - val_recall 0.899863\n"
          ]
        },
        {
          "output_type": "stream",
          "name": "stderr",
          "text": [
            "/usr/local/lib/python3.7/dist-packages/keras/engine/training.py:2034: UserWarning: Metric F1Score implements a `reset_states()` method; rename it to `reset_state()` (without the final \"s\"). The name `reset_states()` has been deprecated to improve API consistency.\n",
            "  m.reset_state()\n"
          ]
        },
        {
          "output_type": "stream",
          "name": "stdout",
          "text": [
            "EPOCH 25 (0s), loss: 0.243183 - acc: 0.907489 - f1_score 0.907489 -- val_f1: 0.902181 - val_precision: 0.908914 - val_recall 0.903050\n"
          ]
        },
        {
          "output_type": "stream",
          "name": "stderr",
          "text": [
            "/usr/local/lib/python3.7/dist-packages/keras/engine/training.py:2034: UserWarning: Metric F1Score implements a `reset_states()` method; rename it to `reset_state()` (without the final \"s\"). The name `reset_states()` has been deprecated to improve API consistency.\n",
            "  m.reset_state()\n"
          ]
        },
        {
          "output_type": "stream",
          "name": "stdout",
          "text": [
            "EPOCH 26 (0s), loss: 0.241802 - acc: 0.907036 - f1_score 0.907036 -- val_f1: 0.905185 - val_precision: 0.911873 - val_recall 0.905799\n"
          ]
        },
        {
          "output_type": "stream",
          "name": "stderr",
          "text": [
            "/usr/local/lib/python3.7/dist-packages/keras/engine/training.py:2034: UserWarning: Metric F1Score implements a `reset_states()` method; rename it to `reset_state()` (without the final \"s\"). The name `reset_states()` has been deprecated to improve API consistency.\n",
            "  m.reset_state()\n"
          ]
        },
        {
          "output_type": "stream",
          "name": "stdout",
          "text": [
            "EPOCH 27 (0s), loss: 0.218844 - acc: 0.917217 - f1_score 0.917217 -- val_f1: 0.907880 - val_precision: 0.914691 - val_recall 0.908280\n"
          ]
        },
        {
          "output_type": "stream",
          "name": "stderr",
          "text": [
            "/usr/local/lib/python3.7/dist-packages/keras/engine/training.py:2034: UserWarning: Metric F1Score implements a `reset_states()` method; rename it to `reset_state()` (without the final \"s\"). The name `reset_states()` has been deprecated to improve API consistency.\n",
            "  m.reset_state()\n"
          ]
        },
        {
          "output_type": "stream",
          "name": "stdout",
          "text": [
            "EPOCH 28 (0s), loss: 0.224175 - acc: 0.917081 - f1_score 0.917081 -- val_f1: 0.910142 - val_precision: 0.917708 - val_recall 0.910315\n"
          ]
        },
        {
          "output_type": "stream",
          "name": "stderr",
          "text": [
            "/usr/local/lib/python3.7/dist-packages/keras/engine/training.py:2034: UserWarning: Metric F1Score implements a `reset_states()` method; rename it to `reset_state()` (without the final \"s\"). The name `reset_states()` has been deprecated to improve API consistency.\n",
            "  m.reset_state()\n"
          ]
        },
        {
          "output_type": "stream",
          "name": "stdout",
          "text": [
            "EPOCH 29 (0s), loss: 0.220028 - acc: 0.914231 - f1_score 0.914231 -- val_f1: 0.912235 - val_precision: 0.919519 - val_recall 0.912257\n"
          ]
        },
        {
          "output_type": "stream",
          "name": "stderr",
          "text": [
            "/usr/local/lib/python3.7/dist-packages/keras/engine/training.py:2034: UserWarning: Metric F1Score implements a `reset_states()` method; rename it to `reset_state()` (without the final \"s\"). The name `reset_states()` has been deprecated to improve API consistency.\n",
            "  m.reset_state()\n"
          ]
        },
        {
          "output_type": "stream",
          "name": "stdout",
          "text": [
            "EPOCH 30 (0s), loss: 0.226930 - acc: 0.915136 - f1_score 0.915136 -- val_f1: 0.914701 - val_precision: 0.921910 - val_recall 0.914401\n"
          ]
        },
        {
          "output_type": "stream",
          "name": "stderr",
          "text": [
            "/usr/local/lib/python3.7/dist-packages/keras/engine/training.py:2034: UserWarning: Metric F1Score implements a `reset_states()` method; rename it to `reset_state()` (without the final \"s\"). The name `reset_states()` has been deprecated to improve API consistency.\n",
            "  m.reset_state()\n"
          ]
        },
        {
          "output_type": "stream",
          "name": "stdout",
          "text": [
            "EPOCH 31 (0s), loss: 0.209653 - acc: 0.920656 - f1_score 0.920656 -- val_f1: 0.915159 - val_precision: 0.923709 - val_recall 0.915309\n"
          ]
        },
        {
          "output_type": "stream",
          "name": "stderr",
          "text": [
            "/usr/local/lib/python3.7/dist-packages/keras/engine/training.py:2034: UserWarning: Metric F1Score implements a `reset_states()` method; rename it to `reset_state()` (without the final \"s\"). The name `reset_states()` has been deprecated to improve API consistency.\n",
            "  m.reset_state()\n"
          ]
        },
        {
          "output_type": "stream",
          "name": "stdout",
          "text": [
            "EPOCH 32 (0s), loss: 0.210397 - acc: 0.919118 - f1_score 0.919118 -- val_f1: 0.917483 - val_precision: 0.923815 - val_recall 0.917227\n"
          ]
        },
        {
          "output_type": "stream",
          "name": "stderr",
          "text": [
            "/usr/local/lib/python3.7/dist-packages/keras/engine/training.py:2034: UserWarning: Metric F1Score implements a `reset_states()` method; rename it to `reset_state()` (without the final \"s\"). The name `reset_states()` has been deprecated to improve API consistency.\n",
            "  m.reset_state()\n"
          ]
        },
        {
          "output_type": "stream",
          "name": "stdout",
          "text": [
            "EPOCH 33 (0s), loss: 0.205177 - acc: 0.921357 - f1_score 0.921357 -- val_f1: 0.917964 - val_precision: 0.926394 - val_recall 0.917151\n"
          ]
        },
        {
          "output_type": "stream",
          "name": "stderr",
          "text": [
            "/usr/local/lib/python3.7/dist-packages/keras/engine/training.py:2034: UserWarning: Metric F1Score implements a `reset_states()` method; rename it to `reset_state()` (without the final \"s\"). The name `reset_states()` has been deprecated to improve API consistency.\n",
            "  m.reset_state()\n"
          ]
        },
        {
          "output_type": "stream",
          "name": "stdout",
          "text": [
            "EPOCH 34 (0s), loss: 0.206895 - acc: 0.919321 - f1_score 0.919321 -- val_f1: 0.918726 - val_precision: 0.926792 - val_recall 0.918656\n"
          ]
        },
        {
          "output_type": "stream",
          "name": "stderr",
          "text": [
            "/usr/local/lib/python3.7/dist-packages/keras/engine/training.py:2034: UserWarning: Metric F1Score implements a `reset_states()` method; rename it to `reset_state()` (without the final \"s\"). The name `reset_states()` has been deprecated to improve API consistency.\n",
            "  m.reset_state()\n"
          ]
        },
        {
          "output_type": "stream",
          "name": "stdout",
          "text": [
            "EPOCH 35 (0s), loss: 0.205701 - acc: 0.922240 - f1_score 0.922240 -- val_f1: 0.920973 - val_precision: 0.928016 - val_recall 0.920582\n"
          ]
        },
        {
          "output_type": "stream",
          "name": "stderr",
          "text": [
            "/usr/local/lib/python3.7/dist-packages/keras/engine/training.py:2034: UserWarning: Metric F1Score implements a `reset_states()` method; rename it to `reset_state()` (without the final \"s\"). The name `reset_states()` has been deprecated to improve API consistency.\n",
            "  m.reset_state()\n"
          ]
        },
        {
          "output_type": "stream",
          "name": "stdout",
          "text": [
            "EPOCH 36 (0s), loss: 0.188764 - acc: 0.929367 - f1_score 0.929367 -- val_f1: 0.922548 - val_precision: 0.930298 - val_recall 0.922263\n"
          ]
        },
        {
          "output_type": "stream",
          "name": "stderr",
          "text": [
            "/usr/local/lib/python3.7/dist-packages/keras/engine/training.py:2034: UserWarning: Metric F1Score implements a `reset_states()` method; rename it to `reset_state()` (without the final \"s\"). The name `reset_states()` has been deprecated to improve API consistency.\n",
            "  m.reset_state()\n"
          ]
        },
        {
          "output_type": "stream",
          "name": "stdout",
          "text": [
            "EPOCH 37 (0s), loss: 0.192261 - acc: 0.929072 - f1_score 0.929072 -- val_f1: 0.923440 - val_precision: 0.930546 - val_recall 0.923297\n"
          ]
        },
        {
          "output_type": "stream",
          "name": "stderr",
          "text": [
            "/usr/local/lib/python3.7/dist-packages/keras/engine/training.py:2034: UserWarning: Metric F1Score implements a `reset_states()` method; rename it to `reset_state()` (without the final \"s\"). The name `reset_states()` has been deprecated to improve API consistency.\n",
            "  m.reset_state()\n"
          ]
        },
        {
          "output_type": "stream",
          "name": "stdout",
          "text": [
            "EPOCH 38 (0s), loss: 0.196773 - acc: 0.925181 - f1_score 0.925181 -- val_f1: 0.924057 - val_precision: 0.931623 - val_recall 0.923735\n"
          ]
        },
        {
          "output_type": "stream",
          "name": "stderr",
          "text": [
            "/usr/local/lib/python3.7/dist-packages/keras/engine/training.py:2034: UserWarning: Metric F1Score implements a `reset_states()` method; rename it to `reset_state()` (without the final \"s\"). The name `reset_states()` has been deprecated to improve API consistency.\n",
            "  m.reset_state()\n"
          ]
        },
        {
          "output_type": "stream",
          "name": "stdout",
          "text": [
            "EPOCH 39 (0s), loss: 0.200796 - acc: 0.925588 - f1_score 0.925588 -- val_f1: 0.925206 - val_precision: 0.933090 - val_recall 0.925088\n"
          ]
        },
        {
          "output_type": "stream",
          "name": "stderr",
          "text": [
            "/usr/local/lib/python3.7/dist-packages/keras/engine/training.py:2034: UserWarning: Metric F1Score implements a `reset_states()` method; rename it to `reset_state()` (without the final \"s\"). The name `reset_states()` has been deprecated to improve API consistency.\n",
            "  m.reset_state()\n"
          ]
        },
        {
          "output_type": "stream",
          "name": "stdout",
          "text": [
            "EPOCH 40 (0s), loss: 0.180192 - acc: 0.931810 - f1_score 0.931810 -- val_f1: 0.927145 - val_precision: 0.933807 - val_recall 0.927241\n"
          ]
        },
        {
          "output_type": "stream",
          "name": "stderr",
          "text": [
            "/usr/local/lib/python3.7/dist-packages/keras/engine/training.py:2034: UserWarning: Metric F1Score implements a `reset_states()` method; rename it to `reset_state()` (without the final \"s\"). The name `reset_states()` has been deprecated to improve API consistency.\n",
            "  m.reset_state()\n"
          ]
        },
        {
          "output_type": "stream",
          "name": "stdout",
          "text": [
            "EPOCH 41 (0s), loss: 0.185161 - acc: 0.929457 - f1_score 0.929457 -- val_f1: 0.928041 - val_precision: 0.934743 - val_recall 0.927611\n"
          ]
        },
        {
          "output_type": "stream",
          "name": "stderr",
          "text": [
            "/usr/local/lib/python3.7/dist-packages/keras/engine/training.py:2034: UserWarning: Metric F1Score implements a `reset_states()` method; rename it to `reset_state()` (without the final \"s\"). The name `reset_states()` has been deprecated to improve API consistency.\n",
            "  m.reset_state()\n"
          ]
        },
        {
          "output_type": "stream",
          "name": "stdout",
          "text": [
            "EPOCH 42 (0s), loss: 0.174982 - acc: 0.936154 - f1_score 0.936154 -- val_f1: 0.927751 - val_precision: 0.936151 - val_recall 0.927762\n"
          ]
        },
        {
          "output_type": "stream",
          "name": "stderr",
          "text": [
            "/usr/local/lib/python3.7/dist-packages/keras/engine/training.py:2034: UserWarning: Metric F1Score implements a `reset_states()` method; rename it to `reset_state()` (without the final \"s\"). The name `reset_states()` has been deprecated to improve API consistency.\n",
            "  m.reset_state()\n"
          ]
        },
        {
          "output_type": "stream",
          "name": "stdout",
          "text": [
            "EPOCH 43 (0s), loss: 0.170481 - acc: 0.936063 - f1_score 0.936063 -- val_f1: 0.929682 - val_precision: 0.936850 - val_recall 0.929402\n"
          ]
        },
        {
          "output_type": "stream",
          "name": "stderr",
          "text": [
            "/usr/local/lib/python3.7/dist-packages/keras/engine/training.py:2034: UserWarning: Metric F1Score implements a `reset_states()` method; rename it to `reset_state()` (without the final \"s\"). The name `reset_states()` has been deprecated to improve API consistency.\n",
            "  m.reset_state()\n"
          ]
        },
        {
          "output_type": "stream",
          "name": "stdout",
          "text": [
            "EPOCH 44 (0s), loss: 0.166645 - acc: 0.936742 - f1_score 0.936742 -- val_f1: 0.929949 - val_precision: 0.937787 - val_recall 0.929822\n"
          ]
        },
        {
          "output_type": "stream",
          "name": "stderr",
          "text": [
            "/usr/local/lib/python3.7/dist-packages/keras/engine/training.py:2034: UserWarning: Metric F1Score implements a `reset_states()` method; rename it to `reset_state()` (without the final \"s\"). The name `reset_states()` has been deprecated to improve API consistency.\n",
            "  m.reset_state()\n"
          ]
        },
        {
          "output_type": "stream",
          "name": "stdout",
          "text": [
            "EPOCH 45 (0s), loss: 0.164478 - acc: 0.939683 - f1_score 0.939683 -- val_f1: 0.930572 - val_precision: 0.938553 - val_recall 0.930520\n"
          ]
        },
        {
          "output_type": "stream",
          "name": "stderr",
          "text": [
            "/usr/local/lib/python3.7/dist-packages/keras/engine/training.py:2034: UserWarning: Metric F1Score implements a `reset_states()` method; rename it to `reset_state()` (without the final \"s\"). The name `reset_states()` has been deprecated to improve API consistency.\n",
            "  m.reset_state()\n"
          ]
        },
        {
          "output_type": "stream",
          "name": "stdout",
          "text": [
            "EPOCH 46 (0s), loss: 0.167944 - acc: 0.936561 - f1_score 0.936561 -- val_f1: 0.932050 - val_precision: 0.938393 - val_recall 0.931815\n"
          ]
        },
        {
          "output_type": "stream",
          "name": "stderr",
          "text": [
            "/usr/local/lib/python3.7/dist-packages/keras/engine/training.py:2034: UserWarning: Metric F1Score implements a `reset_states()` method; rename it to `reset_state()` (without the final \"s\"). The name `reset_states()` has been deprecated to improve API consistency.\n",
            "  m.reset_state()\n"
          ]
        },
        {
          "output_type": "stream",
          "name": "stdout",
          "text": [
            "EPOCH 47 (0s), loss: 0.149212 - acc: 0.945045 - f1_score 0.945045 -- val_f1: 0.931765 - val_precision: 0.938969 - val_recall 0.931815\n"
          ]
        },
        {
          "output_type": "stream",
          "name": "stderr",
          "text": [
            "/usr/local/lib/python3.7/dist-packages/keras/engine/training.py:2034: UserWarning: Metric F1Score implements a `reset_states()` method; rename it to `reset_state()` (without the final \"s\"). The name `reset_states()` has been deprecated to improve API consistency.\n",
            "  m.reset_state()\n"
          ]
        },
        {
          "output_type": "stream",
          "name": "stdout",
          "text": [
            "EPOCH 48 (0s), loss: 0.159448 - acc: 0.942149 - f1_score 0.942149 -- val_f1: 0.931009 - val_precision: 0.940320 - val_recall 0.930857\n"
          ]
        },
        {
          "output_type": "stream",
          "name": "stderr",
          "text": [
            "/usr/local/lib/python3.7/dist-packages/keras/engine/training.py:2034: UserWarning: Metric F1Score implements a `reset_states()` method; rename it to `reset_state()` (without the final \"s\"). The name `reset_states()` has been deprecated to improve API consistency.\n",
            "  m.reset_state()\n"
          ]
        },
        {
          "output_type": "stream",
          "name": "stdout",
          "text": [
            "EPOCH 49 (0s), loss: 0.161740 - acc: 0.939118 - f1_score 0.939118 -- val_f1: 0.931166 - val_precision: 0.939821 - val_recall 0.931328\n"
          ]
        }
      ]
    },
    {
      "cell_type": "code",
      "source": [
        "check_data(data1, record_linkage_labeler)"
      ],
      "metadata": {
        "colab": {
          "base_uri": "https://localhost:8080/",
          "height": 434
        },
        "id": "g7A9lUs8st3w",
        "outputId": "dc644c97-64e6-4e51-9cd7-cbe93b1b4345"
      },
      "execution_count": 25,
      "outputs": [
        {
          "output_type": "stream",
          "name": "stdout",
          "text": [
            "INFO:DataProfiler.profilers.profile_builder: Finding the Null values in the columns... \n"
          ]
        },
        {
          "output_type": "stream",
          "name": "stderr",
          "text": [
            "100%|██████████| 10/10 [00:00<00:00, 157.71it/s]\n"
          ]
        },
        {
          "output_type": "stream",
          "name": "stdout",
          "text": [
            "INFO:DataProfiler.profilers.profile_builder: Calculating the statistics...  (with 4 processes)\n"
          ]
        },
        {
          "output_type": "stream",
          "name": "stderr",
          "text": [
            "100%|██████████| 10/10 [00:00<00:00, 17.99it/s]\n"
          ]
        },
        {
          "output_type": "execute_result",
          "data": {
            "text/plain": [
              "   Column     Prediction                                             Sample\n",
              "0  col_10     given_name           [renee, gabrielle, julinaa, jakc, jayed]\n",
              "1   col_9        surname   [dunnicjliff, petersen, lowe, lamprey, reinhard]\n",
              "2   col_8  street_number                              [42, 108, 23, 8, 136]\n",
              "3   col_7      address_1  [tanj il loop, britten-jones drive, elkedru cl...\n",
              "4   col_6      address_2  [strasus, rockview, top end, tullatoola, roseh...\n",
              "5   col_5         suburb  [aspley, east mitland, airds, upwey, taylors b...\n",
              "6   col_4       postcode                     [7009, 4621, 2047, 3058, 6172]\n",
              "7   col_3          state                          [nsw, nsw, nsw, nsw, nsw]\n",
              "8   col_2  date_of_birth  [19820129, 19449015, 19151217, 19210202, 19880...\n",
              "9   col_1     soc_sec_id      [7886527, 1148897, 5595371, 1847058, 1378454]"
            ],
            "text/html": [
              "\n",
              "  <div id=\"df-57a4daf4-0e28-43ef-a3b2-0b35b248b481\">\n",
              "    <div class=\"colab-df-container\">\n",
              "      <div>\n",
              "<style scoped>\n",
              "    .dataframe tbody tr th:only-of-type {\n",
              "        vertical-align: middle;\n",
              "    }\n",
              "\n",
              "    .dataframe tbody tr th {\n",
              "        vertical-align: top;\n",
              "    }\n",
              "\n",
              "    .dataframe thead th {\n",
              "        text-align: right;\n",
              "    }\n",
              "</style>\n",
              "<table border=\"1\" class=\"dataframe\">\n",
              "  <thead>\n",
              "    <tr style=\"text-align: right;\">\n",
              "      <th></th>\n",
              "      <th>Column</th>\n",
              "      <th>Prediction</th>\n",
              "      <th>Sample</th>\n",
              "    </tr>\n",
              "  </thead>\n",
              "  <tbody>\n",
              "    <tr>\n",
              "      <th>0</th>\n",
              "      <td>col_10</td>\n",
              "      <td>given_name</td>\n",
              "      <td>[renee, gabrielle, julinaa, jakc, jayed]</td>\n",
              "    </tr>\n",
              "    <tr>\n",
              "      <th>1</th>\n",
              "      <td>col_9</td>\n",
              "      <td>surname</td>\n",
              "      <td>[dunnicjliff, petersen, lowe, lamprey, reinhard]</td>\n",
              "    </tr>\n",
              "    <tr>\n",
              "      <th>2</th>\n",
              "      <td>col_8</td>\n",
              "      <td>street_number</td>\n",
              "      <td>[42, 108, 23, 8, 136]</td>\n",
              "    </tr>\n",
              "    <tr>\n",
              "      <th>3</th>\n",
              "      <td>col_7</td>\n",
              "      <td>address_1</td>\n",
              "      <td>[tanj il loop, britten-jones drive, elkedru cl...</td>\n",
              "    </tr>\n",
              "    <tr>\n",
              "      <th>4</th>\n",
              "      <td>col_6</td>\n",
              "      <td>address_2</td>\n",
              "      <td>[strasus, rockview, top end, tullatoola, roseh...</td>\n",
              "    </tr>\n",
              "    <tr>\n",
              "      <th>5</th>\n",
              "      <td>col_5</td>\n",
              "      <td>suburb</td>\n",
              "      <td>[aspley, east mitland, airds, upwey, taylors b...</td>\n",
              "    </tr>\n",
              "    <tr>\n",
              "      <th>6</th>\n",
              "      <td>col_4</td>\n",
              "      <td>postcode</td>\n",
              "      <td>[7009, 4621, 2047, 3058, 6172]</td>\n",
              "    </tr>\n",
              "    <tr>\n",
              "      <th>7</th>\n",
              "      <td>col_3</td>\n",
              "      <td>state</td>\n",
              "      <td>[nsw, nsw, nsw, nsw, nsw]</td>\n",
              "    </tr>\n",
              "    <tr>\n",
              "      <th>8</th>\n",
              "      <td>col_2</td>\n",
              "      <td>date_of_birth</td>\n",
              "      <td>[19820129, 19449015, 19151217, 19210202, 19880...</td>\n",
              "    </tr>\n",
              "    <tr>\n",
              "      <th>9</th>\n",
              "      <td>col_1</td>\n",
              "      <td>soc_sec_id</td>\n",
              "      <td>[7886527, 1148897, 5595371, 1847058, 1378454]</td>\n",
              "    </tr>\n",
              "  </tbody>\n",
              "</table>\n",
              "</div>\n",
              "      <button class=\"colab-df-convert\" onclick=\"convertToInteractive('df-57a4daf4-0e28-43ef-a3b2-0b35b248b481')\"\n",
              "              title=\"Convert this dataframe to an interactive table.\"\n",
              "              style=\"display:none;\">\n",
              "        \n",
              "  <svg xmlns=\"http://www.w3.org/2000/svg\" height=\"24px\"viewBox=\"0 0 24 24\"\n",
              "       width=\"24px\">\n",
              "    <path d=\"M0 0h24v24H0V0z\" fill=\"none\"/>\n",
              "    <path d=\"M18.56 5.44l.94 2.06.94-2.06 2.06-.94-2.06-.94-.94-2.06-.94 2.06-2.06.94zm-11 1L8.5 8.5l.94-2.06 2.06-.94-2.06-.94L8.5 2.5l-.94 2.06-2.06.94zm10 10l.94 2.06.94-2.06 2.06-.94-2.06-.94-.94-2.06-.94 2.06-2.06.94z\"/><path d=\"M17.41 7.96l-1.37-1.37c-.4-.4-.92-.59-1.43-.59-.52 0-1.04.2-1.43.59L10.3 9.45l-7.72 7.72c-.78.78-.78 2.05 0 2.83L4 21.41c.39.39.9.59 1.41.59.51 0 1.02-.2 1.41-.59l7.78-7.78 2.81-2.81c.8-.78.8-2.07 0-2.86zM5.41 20L4 18.59l7.72-7.72 1.47 1.35L5.41 20z\"/>\n",
              "  </svg>\n",
              "      </button>\n",
              "      \n",
              "  <style>\n",
              "    .colab-df-container {\n",
              "      display:flex;\n",
              "      flex-wrap:wrap;\n",
              "      gap: 12px;\n",
              "    }\n",
              "\n",
              "    .colab-df-convert {\n",
              "      background-color: #E8F0FE;\n",
              "      border: none;\n",
              "      border-radius: 50%;\n",
              "      cursor: pointer;\n",
              "      display: none;\n",
              "      fill: #1967D2;\n",
              "      height: 32px;\n",
              "      padding: 0 0 0 0;\n",
              "      width: 32px;\n",
              "    }\n",
              "\n",
              "    .colab-df-convert:hover {\n",
              "      background-color: #E2EBFA;\n",
              "      box-shadow: 0px 1px 2px rgba(60, 64, 67, 0.3), 0px 1px 3px 1px rgba(60, 64, 67, 0.15);\n",
              "      fill: #174EA6;\n",
              "    }\n",
              "\n",
              "    [theme=dark] .colab-df-convert {\n",
              "      background-color: #3B4455;\n",
              "      fill: #D2E3FC;\n",
              "    }\n",
              "\n",
              "    [theme=dark] .colab-df-convert:hover {\n",
              "      background-color: #434B5C;\n",
              "      box-shadow: 0px 1px 3px 1px rgba(0, 0, 0, 0.15);\n",
              "      filter: drop-shadow(0px 1px 2px rgba(0, 0, 0, 0.3));\n",
              "      fill: #FFFFFF;\n",
              "    }\n",
              "  </style>\n",
              "\n",
              "      <script>\n",
              "        const buttonEl =\n",
              "          document.querySelector('#df-57a4daf4-0e28-43ef-a3b2-0b35b248b481 button.colab-df-convert');\n",
              "        buttonEl.style.display =\n",
              "          google.colab.kernel.accessAllowed ? 'block' : 'none';\n",
              "\n",
              "        async function convertToInteractive(key) {\n",
              "          const element = document.querySelector('#df-57a4daf4-0e28-43ef-a3b2-0b35b248b481');\n",
              "          const dataTable =\n",
              "            await google.colab.kernel.invokeFunction('convertToInteractive',\n",
              "                                                     [key], {});\n",
              "          if (!dataTable) return;\n",
              "\n",
              "          const docLinkHtml = 'Like what you see? Visit the ' +\n",
              "            '<a target=\"_blank\" href=https://colab.research.google.com/notebooks/data_table.ipynb>data table notebook</a>'\n",
              "            + ' to learn more about interactive tables.';\n",
              "          element.innerHTML = '';\n",
              "          dataTable['output_type'] = 'display_data';\n",
              "          await google.colab.output.renderOutput(dataTable, element);\n",
              "          const docLink = document.createElement('div');\n",
              "          docLink.innerHTML = docLinkHtml;\n",
              "          element.appendChild(docLink);\n",
              "        }\n",
              "      </script>\n",
              "    </div>\n",
              "  </div>\n",
              "  "
            ]
          },
          "metadata": {},
          "execution_count": 25
        }
      ]
    },
    {
      "cell_type": "code",
      "source": [
        "check_data(faker_data, record_linkage_labeler)"
      ],
      "metadata": {
        "colab": {
          "base_uri": "https://localhost:8080/",
          "height": 490
        },
        "id": "0hDHva16s82Z",
        "outputId": "9e1c2bff-cfb3-4652-edbd-67dcb5eb5c22"
      },
      "execution_count": 26,
      "outputs": [
        {
          "output_type": "stream",
          "name": "stdout",
          "text": [
            "INFO:DataProfiler.profilers.profile_builder: Finding the Null values in the columns... \n"
          ]
        },
        {
          "output_type": "stream",
          "name": "stderr",
          "text": [
            "/usr/local/lib/python3.7/dist-packages/dataprofiler/profilers/profile_builder.py:2023: UserWarning: The data will be profiled with a sample size of 5000. All statistics will be based on this subsample and not the whole dataset.\n",
            "  \"not the whole dataset.\".format(sample_size))\n",
            "100%|██████████| 10/10 [00:00<00:00, 140.88it/s]\n"
          ]
        },
        {
          "output_type": "stream",
          "name": "stdout",
          "text": [
            "INFO:DataProfiler.profilers.profile_builder: Calculating the statistics...  (with 4 processes)\n"
          ]
        },
        {
          "output_type": "stream",
          "name": "stderr",
          "text": [
            "100%|██████████| 10/10 [00:00<00:00, 18.41it/s]\n"
          ]
        },
        {
          "output_type": "execute_result",
          "data": {
            "text/plain": [
              "          Column                Prediction                                             Sample\n",
              "0     given_name                given_name     [Christopher, Rebecca, Erica, Perry, Kimberly]\n",
              "1        surname        surname|given_name             [Wiley, Chen, Wilson, Stewart, Bright]\n",
              "2  street_number                  postcode                         [92200, 59, 777, 422, 514]\n",
              "3      address_1                   surname      [Trafficway, Point, Tunnel, Squares, Circles]\n",
              "4      address_2                    suburb  [Hughes Shores, James Mills, Franklin Brook, A...\n",
              "5         suburb                    suburb  [Port Erinfurt, East Matthewhaven, New Jamesto...\n",
              "6       postcode                  postcode                [25227, 46709, 96057, 98179, 85409]\n",
              "7          state       could not determine  [Mississippi, Alabama, South Dakota, Nevada, O...\n",
              "8  date_of_birth             date_of_birth  [19880213, 19260318, 19690206, 19440905, 19990...\n",
              "9     soc_sec_id  soc_sec_id|date_of_birth  [877701303, 9260063, 65021838, 899010129, 8394..."
            ],
            "text/html": [
              "\n",
              "  <div id=\"df-fb6132e1-d4f4-4739-812c-52a90408fdf1\">\n",
              "    <div class=\"colab-df-container\">\n",
              "      <div>\n",
              "<style scoped>\n",
              "    .dataframe tbody tr th:only-of-type {\n",
              "        vertical-align: middle;\n",
              "    }\n",
              "\n",
              "    .dataframe tbody tr th {\n",
              "        vertical-align: top;\n",
              "    }\n",
              "\n",
              "    .dataframe thead th {\n",
              "        text-align: right;\n",
              "    }\n",
              "</style>\n",
              "<table border=\"1\" class=\"dataframe\">\n",
              "  <thead>\n",
              "    <tr style=\"text-align: right;\">\n",
              "      <th></th>\n",
              "      <th>Column</th>\n",
              "      <th>Prediction</th>\n",
              "      <th>Sample</th>\n",
              "    </tr>\n",
              "  </thead>\n",
              "  <tbody>\n",
              "    <tr>\n",
              "      <th>0</th>\n",
              "      <td>given_name</td>\n",
              "      <td>given_name</td>\n",
              "      <td>[Christopher, Rebecca, Erica, Perry, Kimberly]</td>\n",
              "    </tr>\n",
              "    <tr>\n",
              "      <th>1</th>\n",
              "      <td>surname</td>\n",
              "      <td>surname|given_name</td>\n",
              "      <td>[Wiley, Chen, Wilson, Stewart, Bright]</td>\n",
              "    </tr>\n",
              "    <tr>\n",
              "      <th>2</th>\n",
              "      <td>street_number</td>\n",
              "      <td>postcode</td>\n",
              "      <td>[92200, 59, 777, 422, 514]</td>\n",
              "    </tr>\n",
              "    <tr>\n",
              "      <th>3</th>\n",
              "      <td>address_1</td>\n",
              "      <td>surname</td>\n",
              "      <td>[Trafficway, Point, Tunnel, Squares, Circles]</td>\n",
              "    </tr>\n",
              "    <tr>\n",
              "      <th>4</th>\n",
              "      <td>address_2</td>\n",
              "      <td>suburb</td>\n",
              "      <td>[Hughes Shores, James Mills, Franklin Brook, A...</td>\n",
              "    </tr>\n",
              "    <tr>\n",
              "      <th>5</th>\n",
              "      <td>suburb</td>\n",
              "      <td>suburb</td>\n",
              "      <td>[Port Erinfurt, East Matthewhaven, New Jamesto...</td>\n",
              "    </tr>\n",
              "    <tr>\n",
              "      <th>6</th>\n",
              "      <td>postcode</td>\n",
              "      <td>postcode</td>\n",
              "      <td>[25227, 46709, 96057, 98179, 85409]</td>\n",
              "    </tr>\n",
              "    <tr>\n",
              "      <th>7</th>\n",
              "      <td>state</td>\n",
              "      <td>could not determine</td>\n",
              "      <td>[Mississippi, Alabama, South Dakota, Nevada, O...</td>\n",
              "    </tr>\n",
              "    <tr>\n",
              "      <th>8</th>\n",
              "      <td>date_of_birth</td>\n",
              "      <td>date_of_birth</td>\n",
              "      <td>[19880213, 19260318, 19690206, 19440905, 19990...</td>\n",
              "    </tr>\n",
              "    <tr>\n",
              "      <th>9</th>\n",
              "      <td>soc_sec_id</td>\n",
              "      <td>soc_sec_id|date_of_birth</td>\n",
              "      <td>[877701303, 9260063, 65021838, 899010129, 8394...</td>\n",
              "    </tr>\n",
              "  </tbody>\n",
              "</table>\n",
              "</div>\n",
              "      <button class=\"colab-df-convert\" onclick=\"convertToInteractive('df-fb6132e1-d4f4-4739-812c-52a90408fdf1')\"\n",
              "              title=\"Convert this dataframe to an interactive table.\"\n",
              "              style=\"display:none;\">\n",
              "        \n",
              "  <svg xmlns=\"http://www.w3.org/2000/svg\" height=\"24px\"viewBox=\"0 0 24 24\"\n",
              "       width=\"24px\">\n",
              "    <path d=\"M0 0h24v24H0V0z\" fill=\"none\"/>\n",
              "    <path d=\"M18.56 5.44l.94 2.06.94-2.06 2.06-.94-2.06-.94-.94-2.06-.94 2.06-2.06.94zm-11 1L8.5 8.5l.94-2.06 2.06-.94-2.06-.94L8.5 2.5l-.94 2.06-2.06.94zm10 10l.94 2.06.94-2.06 2.06-.94-2.06-.94-.94-2.06-.94 2.06-2.06.94z\"/><path d=\"M17.41 7.96l-1.37-1.37c-.4-.4-.92-.59-1.43-.59-.52 0-1.04.2-1.43.59L10.3 9.45l-7.72 7.72c-.78.78-.78 2.05 0 2.83L4 21.41c.39.39.9.59 1.41.59.51 0 1.02-.2 1.41-.59l7.78-7.78 2.81-2.81c.8-.78.8-2.07 0-2.86zM5.41 20L4 18.59l7.72-7.72 1.47 1.35L5.41 20z\"/>\n",
              "  </svg>\n",
              "      </button>\n",
              "      \n",
              "  <style>\n",
              "    .colab-df-container {\n",
              "      display:flex;\n",
              "      flex-wrap:wrap;\n",
              "      gap: 12px;\n",
              "    }\n",
              "\n",
              "    .colab-df-convert {\n",
              "      background-color: #E8F0FE;\n",
              "      border: none;\n",
              "      border-radius: 50%;\n",
              "      cursor: pointer;\n",
              "      display: none;\n",
              "      fill: #1967D2;\n",
              "      height: 32px;\n",
              "      padding: 0 0 0 0;\n",
              "      width: 32px;\n",
              "    }\n",
              "\n",
              "    .colab-df-convert:hover {\n",
              "      background-color: #E2EBFA;\n",
              "      box-shadow: 0px 1px 2px rgba(60, 64, 67, 0.3), 0px 1px 3px 1px rgba(60, 64, 67, 0.15);\n",
              "      fill: #174EA6;\n",
              "    }\n",
              "\n",
              "    [theme=dark] .colab-df-convert {\n",
              "      background-color: #3B4455;\n",
              "      fill: #D2E3FC;\n",
              "    }\n",
              "\n",
              "    [theme=dark] .colab-df-convert:hover {\n",
              "      background-color: #434B5C;\n",
              "      box-shadow: 0px 1px 3px 1px rgba(0, 0, 0, 0.15);\n",
              "      filter: drop-shadow(0px 1px 2px rgba(0, 0, 0, 0.3));\n",
              "      fill: #FFFFFF;\n",
              "    }\n",
              "  </style>\n",
              "\n",
              "      <script>\n",
              "        const buttonEl =\n",
              "          document.querySelector('#df-fb6132e1-d4f4-4739-812c-52a90408fdf1 button.colab-df-convert');\n",
              "        buttonEl.style.display =\n",
              "          google.colab.kernel.accessAllowed ? 'block' : 'none';\n",
              "\n",
              "        async function convertToInteractive(key) {\n",
              "          const element = document.querySelector('#df-fb6132e1-d4f4-4739-812c-52a90408fdf1');\n",
              "          const dataTable =\n",
              "            await google.colab.kernel.invokeFunction('convertToInteractive',\n",
              "                                                     [key], {});\n",
              "          if (!dataTable) return;\n",
              "\n",
              "          const docLinkHtml = 'Like what you see? Visit the ' +\n",
              "            '<a target=\"_blank\" href=https://colab.research.google.com/notebooks/data_table.ipynb>data table notebook</a>'\n",
              "            + ' to learn more about interactive tables.';\n",
              "          element.innerHTML = '';\n",
              "          dataTable['output_type'] = 'display_data';\n",
              "          await google.colab.output.renderOutput(dataTable, element);\n",
              "          const docLink = document.createElement('div');\n",
              "          docLink.innerHTML = docLinkHtml;\n",
              "          element.appendChild(docLink);\n",
              "        }\n",
              "      </script>\n",
              "    </div>\n",
              "  </div>\n",
              "  "
            ]
          },
          "metadata": {},
          "execution_count": 26
        }
      ]
    },
    {
      "cell_type": "code",
      "source": [
        ""
      ],
      "metadata": {
        "id": "zDvodCqwtC69"
      },
      "execution_count": null,
      "outputs": []
    }
  ],
  "metadata": {
    "accelerator": "GPU",
    "colab": {
      "collapsed_sections": [],
      "name": "Data Profiler Adhiraj.ipynb",
      "provenance": []
    },
    "kernelspec": {
      "display_name": "Python 3",
      "name": "python3"
    },
    "language_info": {
      "name": "python"
    }
  },
  "nbformat": 4,
  "nbformat_minor": 0
}